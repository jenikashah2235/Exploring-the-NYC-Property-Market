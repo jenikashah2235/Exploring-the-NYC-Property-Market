{
  "cells": [
    {
      "cell_type": "markdown",
      "source": [
        "# <center>**EXPLORING THE NYC PROPERTY MARKET**</center>\n",
        "\n",
        "<center>The goal of this analysis is to provide real estate investors and developers insights into the NYC property market.\n",
        "Helping them make informed decisions about which properties to invest in, which areas are experiencing the most growth, etc.</center>\n",
        "\n"
      ],
      "metadata": {
        "id": "3vUY10fVrnrV"
      }
    },
    {
      "cell_type": "markdown",
      "metadata": {
        "id": "5i4Kx36qu5o6"
      },
      "source": [
        "**The following link is dataset dictionary that describes the variables included in the dataset and analysis: https://shorturl.at/atCI4**"
      ]
    },
    {
      "cell_type": "markdown",
      "source": [
        "### Data Architecture\n"
      ],
      "metadata": {
        "id": "afLHSdSOyU0F"
      }
    },
    {
      "cell_type": "markdown",
      "source": [
        "As of now, the architecture of the project is built on a **data mart**.\n",
        "* The decision to use a data mart is sensible for the current state of the project since it has a specific function, which is to calculate property tax bills, and it does not need to handle real-time data.\n",
        "* Additionally, the *data* mart focuses on a specific business department of the company, which is real estate.\n",
        "\n",
        "However, **if the project scales** up and the data volume increases significantly over time, **it may be necessary to start thinking about investing in a data warehouse**.\n",
        "* A data warehouse would provide greater efficiency in handling large volumes of data and would allow for more complex analyses of data from multiple sources. Therefore, if the project continues to grow and expand, investing in a data warehouse would be a wise decision to ensure its continued success."
      ],
      "metadata": {
        "id": "XzaNFuxLw8Nr"
      }
    },
    {
      "cell_type": "markdown",
      "metadata": {
        "id": "Y8-UKJBPe5Ij"
      },
      "source": [
        "\n",
        "\n",
        "# **1. Data Collection, Preparation, and Exploration**\n",
        "This section of the code aims to download a CSV data file from the NYC Open Data API, clean the data, and explore it.\n",
        "\n"
      ]
    },
    {
      "cell_type": "markdown",
      "metadata": {
        "id": "zNpmSdXTe9zQ"
      },
      "source": [
        "## A)Download csv data file from API\n",
        "Goal: Downloads a CSV data file from the API endpoint using the requests library in Python."
      ]
    },
    {
      "cell_type": "code",
      "execution_count": null,
      "metadata": {
        "id": "aeMcJJOKjdd9"
      },
      "outputs": [],
      "source": [
        "'''Define Key to authenticate with the API '''\n",
        "\n",
        "api_key = 'b2efwisd9yp6neeg2t8q2b7fo'\n",
        "api_key_secret = '24wzo34mrojiwo3cy7v63pgms939h3mbataugnn93cxr3x1a7m'\n",
        "app_token = '64Qf62V7kfyNmLx6L7c9aAbEo'"
      ]
    },
    {
      "cell_type": "code",
      "execution_count": null,
      "metadata": {
        "id": "TYMeAdlyTSAk",
        "outputId": "e43c118a-491d-4747-f1f3-57fc6cc99d82"
      },
      "outputs": [
        {
          "name": "stdout",
          "output_type": "stream",
          "text": [
            "File downloaded successfully.\n"
          ]
        }
      ],
      "source": [
        "import requests\n",
        "\n",
        "# Endpoint URL\n",
        "url = \"https://data.cityofnewyork.us/resource/yjxr-fw8i.csv?$limit=9850000\"\n",
        "\n",
        "# Send a GET request to the API endpoint and save the response\n",
        "response = requests.get(url)\n",
        "\n",
        "# Check if the request was successful\n",
        "if response.status_code == 200:\n",
        "    # If successful, save the response content as a CSV file\n",
        "    with open(\"property_valuation.csv\", \"wb\") as f:\n",
        "        f.write(response.content)\n",
        "    print(\"File downloaded successfully.\")\n",
        "else:\n",
        "    print(\"Error downloading file.\")\n"
      ]
    },
    {
      "cell_type": "markdown",
      "metadata": {
        "id": "HXyOkV36eaZs"
      },
      "source": [
        "## B) Data cleaning\n",
        "Goal: Extracting the first four characters from the \"year\" column using Pandas, then exports the modified DataFrame to a new CSV file. This was done to facilitate the creation of visualizations (end of the document)"
      ]
    },
    {
      "cell_type": "code",
      "execution_count": null,
      "metadata": {
        "id": "X66B1j6mec9R"
      },
      "outputs": [],
      "source": [
        "import pandas as pd\n",
        "df = pd.read_csv(\"property_valuation.csv\")"
      ]
    },
    {
      "cell_type": "code",
      "execution_count": null,
      "metadata": {
        "id": "xoW-Idi5vCyf",
        "outputId": "89f15e71-4846-4e7d-89a1-0804e4d77367"
      },
      "outputs": [
        {
          "data": {
            "text/plain": [
              "9845857"
            ]
          },
          "execution_count": 3,
          "metadata": {},
          "output_type": "execute_result"
        }
      ],
      "source": [
        "len(df)"
      ]
    },
    {
      "cell_type": "code",
      "execution_count": null,
      "metadata": {
        "id": "JoImQ96Xeew_"
      },
      "outputs": [],
      "source": [
        "# Extract first four characters from the \"year\" column\n",
        "df['year'] = df['year'].astype(str).str[:4]"
      ]
    },
    {
      "cell_type": "code",
      "execution_count": null,
      "metadata": {
        "id": "X8ZESI_Wege3",
        "outputId": "073e0452-f0b8-4392-c5dd-76b17302459d"
      },
      "outputs": [
        {
          "data": {
            "text/html": [
              "<div>\n",
              "<style scoped>\n",
              "    .dataframe tbody tr th:only-of-type {\n",
              "        vertical-align: middle;\n",
              "    }\n",
              "\n",
              "    .dataframe tbody tr th {\n",
              "        vertical-align: top;\n",
              "    }\n",
              "\n",
              "    .dataframe thead th {\n",
              "        text-align: right;\n",
              "    }\n",
              "</style>\n",
              "<table border=\"1\" class=\"dataframe\">\n",
              "  <thead>\n",
              "    <tr style=\"text-align: right;\">\n",
              "      <th></th>\n",
              "      <th>bble</th>\n",
              "      <th>boro</th>\n",
              "      <th>block</th>\n",
              "      <th>lot</th>\n",
              "      <th>easement</th>\n",
              "      <th>owner</th>\n",
              "      <th>bldgcl</th>\n",
              "      <th>taxclass</th>\n",
              "      <th>ltfront</th>\n",
              "      <th>ltdepth</th>\n",
              "      <th>...</th>\n",
              "      <th>valtype</th>\n",
              "      <th>borough</th>\n",
              "      <th>latitude</th>\n",
              "      <th>longitude</th>\n",
              "      <th>community_board</th>\n",
              "      <th>council_district</th>\n",
              "      <th>census_tract</th>\n",
              "      <th>bin</th>\n",
              "      <th>nta</th>\n",
              "      <th>geocoded_column</th>\n",
              "    </tr>\n",
              "  </thead>\n",
              "  <tbody>\n",
              "    <tr>\n",
              "      <th>0</th>\n",
              "      <td>1000163859</td>\n",
              "      <td>1</td>\n",
              "      <td>16</td>\n",
              "      <td>3859</td>\n",
              "      <td>NaN</td>\n",
              "      <td>CHEN, QI TOM</td>\n",
              "      <td>R4</td>\n",
              "      <td>2</td>\n",
              "      <td>0</td>\n",
              "      <td>0</td>\n",
              "      <td>...</td>\n",
              "      <td>AC-TR</td>\n",
              "      <td>NaN</td>\n",
              "      <td>NaN</td>\n",
              "      <td>NaN</td>\n",
              "      <td>NaN</td>\n",
              "      <td>NaN</td>\n",
              "      <td>NaN</td>\n",
              "      <td>NaN</td>\n",
              "      <td>NaN</td>\n",
              "      <td>NaN</td>\n",
              "    </tr>\n",
              "    <tr>\n",
              "      <th>1</th>\n",
              "      <td>1000730028</td>\n",
              "      <td>1</td>\n",
              "      <td>73</td>\n",
              "      <td>28</td>\n",
              "      <td>NaN</td>\n",
              "      <td>NYC DSBS</td>\n",
              "      <td>V1</td>\n",
              "      <td>4</td>\n",
              "      <td>183</td>\n",
              "      <td>52</td>\n",
              "      <td>...</td>\n",
              "      <td>AC-TR</td>\n",
              "      <td>NaN</td>\n",
              "      <td>NaN</td>\n",
              "      <td>NaN</td>\n",
              "      <td>NaN</td>\n",
              "      <td>NaN</td>\n",
              "      <td>NaN</td>\n",
              "      <td>NaN</td>\n",
              "      <td>NaN</td>\n",
              "      <td>NaN</td>\n",
              "    </tr>\n",
              "    <tr>\n",
              "      <th>2</th>\n",
              "      <td>1000730029</td>\n",
              "      <td>1</td>\n",
              "      <td>73</td>\n",
              "      <td>29</td>\n",
              "      <td>NaN</td>\n",
              "      <td>NYC DSBS</td>\n",
              "      <td>Y7</td>\n",
              "      <td>4</td>\n",
              "      <td>90</td>\n",
              "      <td>500</td>\n",
              "      <td>...</td>\n",
              "      <td>AC-TR</td>\n",
              "      <td>NaN</td>\n",
              "      <td>NaN</td>\n",
              "      <td>NaN</td>\n",
              "      <td>NaN</td>\n",
              "      <td>NaN</td>\n",
              "      <td>NaN</td>\n",
              "      <td>NaN</td>\n",
              "      <td>NaN</td>\n",
              "      <td>NaN</td>\n",
              "    </tr>\n",
              "    <tr>\n",
              "      <th>3</th>\n",
              "      <td>1000297504</td>\n",
              "      <td>1</td>\n",
              "      <td>29</td>\n",
              "      <td>7504</td>\n",
              "      <td>NaN</td>\n",
              "      <td>NaN</td>\n",
              "      <td>R0</td>\n",
              "      <td>2</td>\n",
              "      <td>36</td>\n",
              "      <td>73</td>\n",
              "      <td>...</td>\n",
              "      <td>AC-TR</td>\n",
              "      <td>NaN</td>\n",
              "      <td>NaN</td>\n",
              "      <td>NaN</td>\n",
              "      <td>NaN</td>\n",
              "      <td>NaN</td>\n",
              "      <td>NaN</td>\n",
              "      <td>NaN</td>\n",
              "      <td>NaN</td>\n",
              "      <td>NaN</td>\n",
              "    </tr>\n",
              "    <tr>\n",
              "      <th>4</th>\n",
              "      <td>1000360012</td>\n",
              "      <td>1</td>\n",
              "      <td>36</td>\n",
              "      <td>12</td>\n",
              "      <td>NaN</td>\n",
              "      <td>NYC DSBS</td>\n",
              "      <td>Y7</td>\n",
              "      <td>4</td>\n",
              "      <td>534</td>\n",
              "      <td>604</td>\n",
              "      <td>...</td>\n",
              "      <td>AC-TR</td>\n",
              "      <td>NaN</td>\n",
              "      <td>NaN</td>\n",
              "      <td>NaN</td>\n",
              "      <td>NaN</td>\n",
              "      <td>NaN</td>\n",
              "      <td>NaN</td>\n",
              "      <td>NaN</td>\n",
              "      <td>NaN</td>\n",
              "      <td>NaN</td>\n",
              "    </tr>\n",
              "  </tbody>\n",
              "</table>\n",
              "<p>5 rows × 40 columns</p>\n",
              "</div>"
            ],
            "text/plain": [
              "         bble  boro  block   lot easement         owner bldgcl taxclass  \\\n",
              "0  1000163859     1     16  3859      NaN  CHEN, QI TOM     R4        2   \n",
              "1  1000730028     1     73    28      NaN      NYC DSBS     V1        4   \n",
              "2  1000730029     1     73    29      NaN      NYC DSBS     Y7        4   \n",
              "3  1000297504     1     29  7504      NaN           NaN     R0        2   \n",
              "4  1000360012     1     36    12      NaN      NYC DSBS     Y7        4   \n",
              "\n",
              "   ltfront  ltdepth  ... valtype  borough  latitude  longitude  \\\n",
              "0        0        0  ...   AC-TR      NaN       NaN        NaN   \n",
              "1      183       52  ...   AC-TR      NaN       NaN        NaN   \n",
              "2       90      500  ...   AC-TR      NaN       NaN        NaN   \n",
              "3       36       73  ...   AC-TR      NaN       NaN        NaN   \n",
              "4      534      604  ...   AC-TR      NaN       NaN        NaN   \n",
              "\n",
              "   community_board  council_district  census_tract  bin  nta  geocoded_column  \n",
              "0              NaN               NaN           NaN  NaN  NaN              NaN  \n",
              "1              NaN               NaN           NaN  NaN  NaN              NaN  \n",
              "2              NaN               NaN           NaN  NaN  NaN              NaN  \n",
              "3              NaN               NaN           NaN  NaN  NaN              NaN  \n",
              "4              NaN               NaN           NaN  NaN  NaN              NaN  \n",
              "\n",
              "[5 rows x 40 columns]"
            ]
          },
          "execution_count": 5,
          "metadata": {},
          "output_type": "execute_result"
        }
      ],
      "source": [
        "df.head()"
      ]
    },
    {
      "cell_type": "code",
      "execution_count": null,
      "metadata": {
        "id": "kZKHZWc0eiCc"
      },
      "outputs": [],
      "source": [
        "# Export the modified DataFrame to a new CSV file\n",
        "df.to_csv('property_valuation_clean.csv', index=False)"
      ]
    },
    {
      "cell_type": "markdown",
      "metadata": {
        "id": "3OTkClQs-Lnv"
      },
      "source": [
        "## C) Explore data\n",
        "\n",
        "Goal: Explores the data by reading the cleaned CSV file into a Pandas DataFrame, displaying the first few rows of data, printing the column names, checking for duplicate values in the \"lot\" column, and checking the number of missing values in each column."
      ]
    },
    {
      "cell_type": "code",
      "execution_count": null,
      "metadata": {
        "colab": {
          "base_uri": "https://localhost:8080/",
          "height": 371
        },
        "id": "qJuGEvbb-Nqz",
        "outputId": "1a3f2389-1ac1-4f1a-a329-a57985124b3c"
      },
      "outputs": [
        {
          "data": {
            "text/html": [
              "<div>\n",
              "<style scoped>\n",
              "    .dataframe tbody tr th:only-of-type {\n",
              "        vertical-align: middle;\n",
              "    }\n",
              "\n",
              "    .dataframe tbody tr th {\n",
              "        vertical-align: top;\n",
              "    }\n",
              "\n",
              "    .dataframe thead th {\n",
              "        text-align: right;\n",
              "    }\n",
              "</style>\n",
              "<table border=\"1\" class=\"dataframe\">\n",
              "  <thead>\n",
              "    <tr style=\"text-align: right;\">\n",
              "      <th></th>\n",
              "      <th>bble</th>\n",
              "      <th>boro</th>\n",
              "      <th>block</th>\n",
              "      <th>lot</th>\n",
              "      <th>easement</th>\n",
              "      <th>owner</th>\n",
              "      <th>bldgcl</th>\n",
              "      <th>taxclass</th>\n",
              "      <th>ltfront</th>\n",
              "      <th>ltdepth</th>\n",
              "      <th>...</th>\n",
              "      <th>valtype</th>\n",
              "      <th>borough</th>\n",
              "      <th>latitude</th>\n",
              "      <th>longitude</th>\n",
              "      <th>community_board</th>\n",
              "      <th>council_district</th>\n",
              "      <th>census_tract</th>\n",
              "      <th>bin</th>\n",
              "      <th>nta</th>\n",
              "      <th>geocoded_column</th>\n",
              "    </tr>\n",
              "  </thead>\n",
              "  <tbody>\n",
              "    <tr>\n",
              "      <th>0</th>\n",
              "      <td>1000163859</td>\n",
              "      <td>1</td>\n",
              "      <td>16</td>\n",
              "      <td>3859</td>\n",
              "      <td>NaN</td>\n",
              "      <td>CHEN, QI TOM</td>\n",
              "      <td>R4</td>\n",
              "      <td>2</td>\n",
              "      <td>0</td>\n",
              "      <td>0</td>\n",
              "      <td>...</td>\n",
              "      <td>AC-TR</td>\n",
              "      <td>NaN</td>\n",
              "      <td>NaN</td>\n",
              "      <td>NaN</td>\n",
              "      <td>NaN</td>\n",
              "      <td>NaN</td>\n",
              "      <td>NaN</td>\n",
              "      <td>NaN</td>\n",
              "      <td>NaN</td>\n",
              "      <td>NaN</td>\n",
              "    </tr>\n",
              "    <tr>\n",
              "      <th>1</th>\n",
              "      <td>1000730028</td>\n",
              "      <td>1</td>\n",
              "      <td>73</td>\n",
              "      <td>28</td>\n",
              "      <td>NaN</td>\n",
              "      <td>NYC DSBS</td>\n",
              "      <td>V1</td>\n",
              "      <td>4</td>\n",
              "      <td>183</td>\n",
              "      <td>52</td>\n",
              "      <td>...</td>\n",
              "      <td>AC-TR</td>\n",
              "      <td>NaN</td>\n",
              "      <td>NaN</td>\n",
              "      <td>NaN</td>\n",
              "      <td>NaN</td>\n",
              "      <td>NaN</td>\n",
              "      <td>NaN</td>\n",
              "      <td>NaN</td>\n",
              "      <td>NaN</td>\n",
              "      <td>NaN</td>\n",
              "    </tr>\n",
              "    <tr>\n",
              "      <th>2</th>\n",
              "      <td>1000730029</td>\n",
              "      <td>1</td>\n",
              "      <td>73</td>\n",
              "      <td>29</td>\n",
              "      <td>NaN</td>\n",
              "      <td>NYC DSBS</td>\n",
              "      <td>Y7</td>\n",
              "      <td>4</td>\n",
              "      <td>90</td>\n",
              "      <td>500</td>\n",
              "      <td>...</td>\n",
              "      <td>AC-TR</td>\n",
              "      <td>NaN</td>\n",
              "      <td>NaN</td>\n",
              "      <td>NaN</td>\n",
              "      <td>NaN</td>\n",
              "      <td>NaN</td>\n",
              "      <td>NaN</td>\n",
              "      <td>NaN</td>\n",
              "      <td>NaN</td>\n",
              "      <td>NaN</td>\n",
              "    </tr>\n",
              "    <tr>\n",
              "      <th>3</th>\n",
              "      <td>1000297504</td>\n",
              "      <td>1</td>\n",
              "      <td>29</td>\n",
              "      <td>7504</td>\n",
              "      <td>NaN</td>\n",
              "      <td>NaN</td>\n",
              "      <td>R0</td>\n",
              "      <td>2</td>\n",
              "      <td>36</td>\n",
              "      <td>73</td>\n",
              "      <td>...</td>\n",
              "      <td>AC-TR</td>\n",
              "      <td>NaN</td>\n",
              "      <td>NaN</td>\n",
              "      <td>NaN</td>\n",
              "      <td>NaN</td>\n",
              "      <td>NaN</td>\n",
              "      <td>NaN</td>\n",
              "      <td>NaN</td>\n",
              "      <td>NaN</td>\n",
              "      <td>NaN</td>\n",
              "    </tr>\n",
              "    <tr>\n",
              "      <th>4</th>\n",
              "      <td>1000360012</td>\n",
              "      <td>1</td>\n",
              "      <td>36</td>\n",
              "      <td>12</td>\n",
              "      <td>NaN</td>\n",
              "      <td>NYC DSBS</td>\n",
              "      <td>Y7</td>\n",
              "      <td>4</td>\n",
              "      <td>534</td>\n",
              "      <td>604</td>\n",
              "      <td>...</td>\n",
              "      <td>AC-TR</td>\n",
              "      <td>NaN</td>\n",
              "      <td>NaN</td>\n",
              "      <td>NaN</td>\n",
              "      <td>NaN</td>\n",
              "      <td>NaN</td>\n",
              "      <td>NaN</td>\n",
              "      <td>NaN</td>\n",
              "      <td>NaN</td>\n",
              "      <td>NaN</td>\n",
              "    </tr>\n",
              "  </tbody>\n",
              "</table>\n",
              "<p>5 rows × 40 columns</p>\n",
              "</div>"
            ],
            "text/plain": [
              "         bble  boro  block   lot easement         owner bldgcl taxclass  \\\n",
              "0  1000163859     1     16  3859      NaN  CHEN, QI TOM     R4        2   \n",
              "1  1000730028     1     73    28      NaN      NYC DSBS     V1        4   \n",
              "2  1000730029     1     73    29      NaN      NYC DSBS     Y7        4   \n",
              "3  1000297504     1     29  7504      NaN           NaN     R0        2   \n",
              "4  1000360012     1     36    12      NaN      NYC DSBS     Y7        4   \n",
              "\n",
              "   ltfront  ltdepth  ... valtype  borough  latitude  longitude  \\\n",
              "0        0        0  ...   AC-TR      NaN       NaN        NaN   \n",
              "1      183       52  ...   AC-TR      NaN       NaN        NaN   \n",
              "2       90      500  ...   AC-TR      NaN       NaN        NaN   \n",
              "3       36       73  ...   AC-TR      NaN       NaN        NaN   \n",
              "4      534      604  ...   AC-TR      NaN       NaN        NaN   \n",
              "\n",
              "   community_board  council_district  census_tract  bin  nta  geocoded_column  \n",
              "0              NaN               NaN           NaN  NaN  NaN              NaN  \n",
              "1              NaN               NaN           NaN  NaN  NaN              NaN  \n",
              "2              NaN               NaN           NaN  NaN  NaN              NaN  \n",
              "3              NaN               NaN           NaN  NaN  NaN              NaN  \n",
              "4              NaN               NaN           NaN  NaN  NaN              NaN  \n",
              "\n",
              "[5 rows x 40 columns]"
            ]
          },
          "execution_count": 7,
          "metadata": {},
          "output_type": "execute_result"
        }
      ],
      "source": [
        "import pandas as pd\n",
        "df = pd.read_csv('property_valuation_clean.csv')\n",
        "df.head()"
      ]
    },
    {
      "cell_type": "code",
      "execution_count": null,
      "metadata": {
        "id": "jpI82TwF-PqG",
        "outputId": "0c9ca6d5-dd2f-4433-b52b-02501211b5e5"
      },
      "outputs": [
        {
          "data": {
            "text/plain": [
              "Index(['bble', 'boro', 'block', 'lot', 'easement', 'owner', 'bldgcl',\n",
              "       'taxclass', 'ltfront', 'ltdepth', 'ext', 'stories', 'fullval', 'avland',\n",
              "       'avtot', 'exland', 'extot', 'excd1', 'staddr', 'zip', 'exmptcl',\n",
              "       'bldfront', 'blddepth', 'avland2', 'avtot2', 'exland2', 'extot2',\n",
              "       'excd2', 'period', 'year', 'valtype', 'borough', 'latitude',\n",
              "       'longitude', 'community_board', 'council_district', 'census_tract',\n",
              "       'bin', 'nta', 'geocoded_column'],\n",
              "      dtype='object')"
            ]
          },
          "execution_count": 8,
          "metadata": {},
          "output_type": "execute_result"
        }
      ],
      "source": [
        "# column names\n",
        "df.columns"
      ]
    },
    {
      "cell_type": "code",
      "execution_count": null,
      "metadata": {
        "id": "sVtHAcB8-RGk",
        "outputId": "00e51846-883a-4b3d-a553-eeba02fcfdc9"
      },
      "outputs": [
        {
          "data": {
            "text/plain": [
              "True     9839309\n",
              "False       6548\n",
              "dtype: int64"
            ]
          },
          "execution_count": 10,
          "metadata": {},
          "output_type": "execute_result"
        }
      ],
      "source": [
        "# \"lot\" column has duplicate values\n",
        "df.duplicated(subset=[\"lot\"]).value_counts()"
      ]
    },
    {
      "cell_type": "code",
      "execution_count": null,
      "metadata": {
        "id": "bXJxY1or-Sx3",
        "outputId": "457f05d8-e00e-4c4c-9c42-43c6000f8ce3"
      },
      "outputs": [
        {
          "name": "stdout",
          "output_type": "stream",
          "text": [
            "bble\n",
            "1000163859    9\n",
            "4040000032    9\n",
            "4040510010    9\n",
            "4040400007    9\n",
            "4035060030    9\n",
            "             ..\n",
            "3030511002    1\n",
            "4030981428    1\n",
            "3024711001    1\n",
            "2025480002    1\n",
            "5057350439    1\n",
            "Name: bble, Length: 1128885, dtype: int64\n",
            "boro\n",
            "4    3274600\n",
            "3    2989663\n",
            "1    1382564\n",
            "5    1231251\n",
            "2     967779\n",
            "Name: boro, dtype: int64\n",
            "block\n",
            "16       36515\n",
            "3944     34992\n",
            "3943     30816\n",
            "3938     25146\n",
            "1171     24755\n",
            "         ...  \n",
            "15942        7\n",
            "16093        3\n",
            "4356         3\n",
            "15912        1\n",
            "15911        1\n",
            "Name: block, Length: 13985, dtype: int64\n",
            "lot\n",
            "1       218063\n",
            "20      110187\n",
            "15      108981\n",
            "12      108813\n",
            "14      108193\n",
            "         ...  \n",
            "5660         8\n",
            "9133         6\n",
            "9136         6\n",
            "8901         2\n",
            "5430         2\n",
            "Name: lot, Length: 6548, dtype: int64\n",
            "easement\n",
            "E    36941\n",
            "F     2648\n",
            "G      910\n",
            "H      293\n",
            "N      171\n",
            "I      140\n",
            "J       72\n",
            "K       47\n",
            "L       27\n",
            "P       27\n",
            "M       18\n",
            "U        9\n",
            "A        4\n",
            "B        1\n",
            "Name: easement, dtype: int64\n",
            "owner\n",
            "PARKCHESTER PRESERVAT    53751\n",
            "PARKS AND RECREATION     38671\n",
            "OWNER / AGENT            17478\n",
            "HOUSING PRESERVATION     14328\n",
            "CITY OF NEW YORK         10588\n",
            "                         ...  \n",
            "GAYLOR, LEE A JR             1\n",
            "SARANGA, EILEEN A            1\n",
            "SELL DIRECT LLC              1\n",
            "SALIU, BURIM                 1\n",
            "SINCLAIR, JOHN H             1\n",
            "Name: owner, Length: 1470316, dtype: int64\n",
            "bldgcl\n",
            "R4    1369710\n",
            "A1    1111383\n",
            "A5     882089\n",
            "B1     761357\n",
            "B2     704461\n",
            "       ...   \n",
            "I3         28\n",
            "H7         24\n",
            "Y5         12\n",
            "CM          3\n",
            "E6          1\n",
            "Name: bldgcl, Length: 218, dtype: int64\n",
            "taxclass\n",
            "1     5954092\n",
            "2     1827894\n",
            "4      985589\n",
            "2A     364658\n",
            "1B     210844\n",
            "1A     200623\n",
            "2B     126768\n",
            "2C     122138\n",
            "3       41487\n",
            "1C      11503\n",
            "1D        261\n",
            "Name: taxclass, dtype: int64\n",
            "ltfront\n",
            "0       1577525\n",
            "20      1214188\n",
            "25      1052951\n",
            "40       768327\n",
            "18       365343\n",
            "         ...   \n",
            "2685          1\n",
            "4775          1\n",
            "1311          1\n",
            "619           1\n",
            "1400          1\n",
            "Name: ltfront, Length: 1328, dtype: int64\n",
            "ltdepth\n",
            "100     4187080\n",
            "0       1658448\n",
            "95       286107\n",
            "90       185179\n",
            "80       151799\n",
            "         ...   \n",
            "1647          2\n",
            "1638          2\n",
            "1059          1\n",
            "903           1\n",
            "852           1\n",
            "Name: ltdepth, Length: 1391, dtype: int64\n",
            "ext\n",
            "G     2396173\n",
            "E      446167\n",
            "EG     339178\n",
            "Name: ext, dtype: int64\n",
            "stories\n",
            "2.0      3751424\n",
            "3.0      1190590\n",
            "1.0       853366\n",
            "2.5       739437\n",
            "4.0       370913\n",
            "          ...   \n",
            "95.0           3\n",
            "71.0           3\n",
            "102.0          2\n",
            "4.6            2\n",
            "205.0          1\n",
            "Name: stories, Length: 128, dtype: int64\n",
            "fullval\n",
            "0          127892\n",
            "400000      15861\n",
            "422000      15816\n",
            "439000      15722\n",
            "394000      15525\n",
            "            ...  \n",
            "1342100         1\n",
            "885666          1\n",
            "1541366         1\n",
            "905772          1\n",
            "7598600         1\n",
            "Name: fullval, Length: 579432, dtype: int64\n",
            "avland\n",
            "0          127915\n",
            "45000       11176\n",
            "90000        9254\n",
            "18000        8112\n",
            "9000         7768\n",
            "            ...  \n",
            "132308          1\n",
            "1268158         1\n",
            "72222           1\n",
            "101409          1\n",
            "217358          1\n",
            "Name: avland, Length: 171876, dtype: int64\n",
            "avtot\n",
            "0           127897\n",
            "26872        19252\n",
            "21496        18846\n",
            "22394        18631\n",
            "29859        18024\n",
            "             ...  \n",
            "177931           1\n",
            "2037312          1\n",
            "271620           1\n",
            "13428000         1\n",
            "742026           1\n",
            "Name: avtot, Length: 395031, dtype: int64\n",
            "exland\n",
            "0          5198760\n",
            "1620        357242\n",
            "1600        336868\n",
            "1670        336129\n",
            "1740        333603\n",
            "            ...   \n",
            "131356           1\n",
            "151927           1\n",
            "98243            1\n",
            "69242            1\n",
            "7072650          1\n",
            "Name: exland, Length: 83255, dtype: int64\n",
            "extot\n",
            "0           4620738\n",
            "1620         354917\n",
            "1600         334968\n",
            "1670         334071\n",
            "1740         331488\n",
            "             ...   \n",
            "16449750          1\n",
            "23060250          1\n",
            "304802            1\n",
            "10098900          1\n",
            "9971100           1\n",
            "Name: extot, Length: 243174, dtype: int64\n",
            "excd1\n",
            "1017.0    3247620\n",
            "1010.0     398276\n",
            "1015.0     293121\n",
            "5113.0     279684\n",
            "1920.0     170414\n",
            "           ...   \n",
            "3700.0          5\n",
            "1841.0          5\n",
            "1965.0          4\n",
            "3600.0          4\n",
            "5100.0          4\n",
            "Name: excd1, Length: 145, dtype: int64\n",
            "staddr\n",
            "501 SURF AVENUE              8104\n",
            "330 EAST 38 STREET           7409\n",
            "322 WEST 57 STREET           6303\n",
            "155 WEST 68 STREET           6039\n",
            "20 WEST 64 STREET            5913\n",
            "                             ... \n",
            "6312 OCEAN AVENUE NORTH         1\n",
            "6-03 WHITESTONE EXPWY           1\n",
            "184-25 GRAND CENTRAL PKWY       1\n",
            "6311 OCEAN AVENUE NORTH         1\n",
            "37       BROOKSIDE LOOP         1\n",
            "Name: staddr, Length: 861581, dtype: int64\n",
            "zip\n",
            "10314.0    223410\n",
            "11234.0    180259\n",
            "10312.0    165188\n",
            "10462.0    152208\n",
            "10306.0    150443\n",
            "            ...  \n",
            "10110.0         2\n",
            "10179.0         1\n",
            "12345.0         1\n",
            "10165.0         1\n",
            "11352.0         1\n",
            "Name: zip, Length: 238, dtype: int64\n",
            "exmptcl\n",
            "X1    61646\n",
            "X5    46408\n",
            "X7     7136\n",
            "X2     6881\n",
            "X6     6750\n",
            "X4     3947\n",
            "X8     2597\n",
            "X3     2226\n",
            "X9      972\n",
            "VI        9\n",
            "KI        9\n",
            "A9        9\n",
            "R4        9\n",
            "5         9\n",
            "Name: exmptcl, dtype: int64\n",
            "bldfront\n",
            "0      2212337\n",
            "20     1751659\n",
            "18      696116\n",
            "16      672249\n",
            "25      576155\n",
            "        ...   \n",
            "881          1\n",
            "489          1\n",
            "964          1\n",
            "501          1\n",
            "319          1\n",
            "Name: bldfront, Length: 642, dtype: int64\n",
            "blddepth\n",
            "0       2193434\n",
            "40       438962\n",
            "50       412647\n",
            "45       367512\n",
            "36       359192\n",
            "         ...   \n",
            "4176          1\n",
            "4524          1\n",
            "1003          1\n",
            "6050          1\n",
            "780           1\n",
            "Name: blddepth, Length: 636, dtype: int64\n",
            "avland2\n",
            "45000.0      6785\n",
            "90000.0      6077\n",
            "135000.0     4478\n",
            "225000.0     4267\n",
            "67500.0      4189\n",
            "             ... \n",
            "317658.0        1\n",
            "68413.0         1\n",
            "2317276.0       1\n",
            "51324.0         1\n",
            "200734.0        1\n",
            "Name: avland2, Length: 166118, dtype: int64\n",
            "avtot2\n",
            "750.0        669\n",
            "749.0        556\n",
            "75.0         436\n",
            "73.0         416\n",
            "74.0         416\n",
            "            ... \n",
            "921262.0       1\n",
            "1881807.0      1\n",
            "778209.0       1\n",
            "2717730.0      1\n",
            "499455.0       1\n",
            "Name: avtot2, Length: 540296, dtype: int64\n",
            "exland2\n",
            "2260.0      44106\n",
            "2350.0      32419\n",
            "2090.0      26423\n",
            "2250.0      21961\n",
            "2360.0      16838\n",
            "            ...  \n",
            "112185.0        1\n",
            "207858.0        1\n",
            "28622.0         1\n",
            "799425.0        1\n",
            "41298.0         1\n",
            "Name: exland2, Length: 101773, dtype: int64\n",
            "extot2\n",
            "2260.0        41362\n",
            "2350.0        30969\n",
            "2090.0        24760\n",
            "2250.0        20830\n",
            "2360.0        16160\n",
            "              ...  \n",
            "3994920.0         1\n",
            "336157.0          1\n",
            "10680412.0        1\n",
            "356867.0          1\n",
            "398322.0          1\n",
            "Name: extot2, Length: 265187, dtype: int64\n",
            "excd2\n",
            "1017.0    552588\n",
            "1015.0     97996\n",
            "5112.0     46414\n",
            "1019.0     29302\n",
            "1920.0     22993\n",
            "           ...  \n",
            "4500.0         2\n",
            "1401.0         1\n",
            "1925.0         1\n",
            "1102.0         1\n",
            "6180.0         1\n",
            "Name: excd2, Length: 69, dtype: int64\n",
            "period\n",
            "FINAL    9845857\n",
            "Name: period, dtype: int64\n",
            "year\n",
            "2018    1116592\n",
            "2017    1110058\n",
            "2016    1103323\n",
            "2015    1096247\n",
            "2014    1093327\n",
            "2013    1088350\n",
            "2012    1086396\n",
            "2011    1080569\n",
            "2010    1070995\n",
            "Name: year, dtype: int64\n",
            "valtype\n",
            "AC-TR    9845857\n",
            "Name: valtype, dtype: int64\n",
            "borough\n",
            "QUEENS       3158322\n",
            "BROOKLYN     2924705\n",
            "MANHATTAN    1367427\n",
            "STATEN IS    1123915\n",
            "BRONX         929433\n",
            "Name: borough, dtype: int64\n",
            "latitude\n",
            "40.574897    8140\n",
            "40.746742    7427\n",
            "40.767077    6321\n",
            "40.775704    6039\n",
            "40.771430    5931\n",
            "             ... \n",
            "40.807100       1\n",
            "40.541638       1\n",
            "40.512995       1\n",
            "40.536369       1\n",
            "40.523785       1\n",
            "Name: latitude, Length: 296933, dtype: int64\n",
            "longitude\n",
            "-73.973978    8230\n",
            "-73.972741    7409\n",
            "-73.983755    6327\n",
            "-73.982659    6057\n",
            "-73.980335    5949\n",
            "              ... \n",
            "-74.231971       1\n",
            "-74.066116       1\n",
            "-74.221768       1\n",
            "-74.183235       1\n",
            "-74.200021       1\n",
            "Name: longitude, Length: 345997, dtype: int64\n",
            "community_board\n",
            "503.0    428932\n",
            "407.0    410749\n",
            "413.0    380801\n",
            "412.0    360547\n",
            "501.0    357767\n",
            "          ...  \n",
            "226.0        16\n",
            "482.0        11\n",
            "164.0         9\n",
            "480.0         9\n",
            "483.0         5\n",
            "Name: community_board, Length: 71, dtype: int64\n",
            "council_district\n",
            "51.0    424071\n",
            "50.0    397015\n",
            "19.0    340759\n",
            "46.0    308131\n",
            "49.0    302608\n",
            "27.0    301411\n",
            "30.0    286132\n",
            "4.0     269193\n",
            "32.0    265749\n",
            "28.0    261427\n",
            "23.0    260650\n",
            "33.0    253920\n",
            "39.0    241763\n",
            "31.0    235726\n",
            "3.0     230145\n",
            "43.0    226954\n",
            "20.0    224909\n",
            "48.0    220022\n",
            "13.0    218198\n",
            "18.0    216930\n",
            "1.0     208599\n",
            "45.0    193137\n",
            "22.0    186958\n",
            "24.0    185209\n",
            "44.0    184504\n",
            "47.0    183828\n",
            "6.0     175992\n",
            "29.0    166021\n",
            "38.0    164799\n",
            "37.0    163466\n",
            "12.0    160070\n",
            "34.0    156528\n",
            "26.0    156195\n",
            "36.0    150808\n",
            "35.0    149739\n",
            "42.0    143027\n",
            "5.0     140749\n",
            "41.0    129683\n",
            "25.0    126156\n",
            "21.0    125785\n",
            "2.0     125376\n",
            "9.0      92624\n",
            "40.0     87335\n",
            "11.0     85878\n",
            "17.0     83763\n",
            "7.0      68322\n",
            "15.0     65691\n",
            "8.0      56134\n",
            "14.0     37019\n",
            "16.0     35018\n",
            "10.0     26988\n",
            "Name: council_district, dtype: int64\n",
            "census_tract\n",
            "7.0        45822\n",
            "138.0      44873\n",
            "70.0       43353\n",
            "21.0       41757\n",
            "151.0      38407\n",
            "           ...  \n",
            "793.0          9\n",
            "5.0            9\n",
            "624.0          9\n",
            "1210.0         9\n",
            "64102.0        2\n",
            "Name: census_tract, Length: 1327, dtype: int64\n",
            "bin\n",
            "3000000.0    45963\n",
            "2000000.0    24443\n",
            "4000000.0    20507\n",
            "1000000.0    12134\n",
            "5000000.0     8999\n",
            "             ...  \n",
            "3339178.0        1\n",
            "4557837.0        1\n",
            "5158332.0        1\n",
            "1084399.0        1\n",
            "5158107.0        1\n",
            "Name: bin, Length: 821256, dtype: int64\n",
            "nta\n",
            "South Ozone Park                   130408\n",
            "Canarsie                           124331\n",
            "Borough Park                       122431\n",
            "Park Slope-Gowanus                 115800\n",
            "Great Kills                        114566\n",
            "                                    ...  \n",
            "park-cemetery-etc-Manhattan           171\n",
            "Stuyvesant Town-Cooper Village         47\n",
            "park-cemetery-etc-Staten Island        27\n",
            "Rikers Island                          27\n",
            "Airport                                14\n",
            "Name: nta, Length: 195, dtype: int64\n",
            "geocoded_column\n",
            "POINT (-73.973978 40.574897)    8122\n",
            "POINT (-73.972741 40.746742)    7409\n",
            "POINT (-73.983755 40.767077)    6303\n",
            "POINT (-73.982659 40.775704)    6039\n",
            "POINT (-73.980335 40.77143)     5913\n",
            "                                ... \n",
            "POINT (-74.07841 40.640156)        1\n",
            "POINT (-74.220885 40.544465)       1\n",
            "POINT (-74.116917 40.572112)       1\n",
            "POINT (-73.955318 40.712518)       1\n",
            "POINT (-74.218105 40.523785)       1\n",
            "Name: geocoded_column, Length: 825754, dtype: int64\n"
          ]
        }
      ],
      "source": [
        "# check duplicates for each column\n",
        "for col in df.columns:\n",
        "    print(col)\n",
        "    print(df[col].value_counts())"
      ]
    },
    {
      "cell_type": "code",
      "execution_count": null,
      "metadata": {
        "id": "IhFZWaDv-UsE",
        "outputId": "1a23e9d3-592b-46d7-8ce0-0a0266931534"
      },
      "outputs": [
        {
          "data": {
            "text/plain": [
              "bble                      0\n",
              "boro                      0\n",
              "block                     0\n",
              "lot                       0\n",
              "easement            9804549\n",
              "owner                215681\n",
              "bldgcl                    0\n",
              "taxclass                  0\n",
              "ltfront                   0\n",
              "ltdepth                   0\n",
              "ext                 6664339\n",
              "stories              508578\n",
              "fullval                   0\n",
              "avland                    0\n",
              "avtot                     0\n",
              "exland                    0\n",
              "extot                     0\n",
              "excd1               4620538\n",
              "staddr                 6032\n",
              "zip                  249770\n",
              "exmptcl             9707249\n",
              "bldfront                  0\n",
              "blddepth                  0\n",
              "avland2             7138565\n",
              "avtot2              7138545\n",
              "exland2             9053479\n",
              "extot2              8616020\n",
              "excd2               9081516\n",
              "period                    0\n",
              "year                      0\n",
              "valtype                   0\n",
              "borough              342055\n",
              "latitude             344743\n",
              "longitude            344743\n",
              "community_board      344743\n",
              "council_district     344743\n",
              "census_tract         344743\n",
              "bin                  401561\n",
              "nta                  344743\n",
              "geocoded_column      344743\n",
              "dtype: int64"
            ]
          },
          "execution_count": 12,
          "metadata": {},
          "output_type": "execute_result"
        }
      ],
      "source": [
        "# number of missing value in each column\n",
        "df.isna().sum()"
      ]
    },
    {
      "cell_type": "markdown",
      "metadata": {
        "id": "KLbyRENVemXz"
      },
      "source": [
        "# **2. Spark**\n",
        "Since this is a significantly large dataset we will be using Apache Spark, a fast and scalable data processing engine that can handle large volumes of data.\n",
        "\n",
        "**Goal**: Compute summary statistics  on the data. The resulting dataframes will be used to created interactive visualziations."
      ]
    },
    {
      "cell_type": "markdown",
      "metadata": {
        "id": "WumNntAO2itb"
      },
      "source": [
        "## A) Loading and Exploring Data"
      ]
    },
    {
      "cell_type": "code",
      "execution_count": null,
      "metadata": {
        "id": "lpHZ06fHpU81"
      },
      "outputs": [],
      "source": [
        "# Install PySpark (Python Spark API)\n",
        "!pip install -U pyspark"
      ]
    },
    {
      "cell_type": "code",
      "execution_count": null,
      "metadata": {
        "id": "LeJSzStVmjcB"
      },
      "outputs": [],
      "source": [
        "# Block to avoid Python and driver version mismatch\n",
        "import os\n",
        "import sys\n",
        "os.environ['PYSPARK_PYTHON'] = sys.executable\n",
        "os.environ['PYSPARK_DRIVER_PYTHON'] = sys.executable"
      ]
    },
    {
      "cell_type": "code",
      "execution_count": null,
      "metadata": {
        "colab": {
          "base_uri": "https://localhost:8080/"
        },
        "id": "jBDKkuXSmmKH",
        "outputId": "8ca24d35-d786-44a0-9a19-397ec0134001"
      },
      "outputs": [
        {
          "output_type": "stream",
          "name": "stdout",
          "text": [
            "Using Apache Spark Version 3.4.0\n"
          ]
        }
      ],
      "source": [
        "# Initiate and configure Spark Session and Context\n",
        "from pyspark.sql import SparkSession\n",
        "\n",
        "spark = SparkSession \\\n",
        "    .builder \\\n",
        "    .appName(\"Intro to Apache Spark\") \\\n",
        "    .config(\"spark.cores.max\", \"4\") \\\n",
        "    .config('spark.executor.memory', '8G') \\\n",
        "    .config('spark.driver.maxResultSize', '8g') \\\n",
        "    .config('spark.kryoserializer.buffer.max', '512m') \\\n",
        "    .config(\"spark.driver.cores\", \"4\") \\\n",
        "    .getOrCreate()\n",
        "\n",
        "sc = spark.sparkContext\n",
        "\n",
        "print(\"Using Apache Spark Version\", spark.version)"
      ]
    },
    {
      "cell_type": "code",
      "execution_count": null,
      "metadata": {
        "id": "ylHaK7PanRQ0"
      },
      "outputs": [],
      "source": [
        "# Read CSV file into a Spark dataframe and print the count of records\n",
        "df = spark.read.format(\"csv\") \\\n",
        "               .options(header='true', inferschema='true', treatEmptyValuesAsNulls='true') \\\n",
        "               .load(\"property_valuation_clean.csv\")\n",
        "df.count()"
      ]
    },
    {
      "cell_type": "code",
      "execution_count": null,
      "metadata": {
        "id": "op6pqADCDCNy"
      },
      "outputs": [],
      "source": [
        "# Insert column 'borough_name'\n",
        "from pyspark.sql.functions import when, col\n",
        "\n",
        "df = df.withColumn(\"borough_name\",\n",
        "                    when(col(\"boro\") == 1, \"Manhattan\") \\\n",
        "                   .when(col(\"boro\") == 2, \"Bronx\") \\\n",
        "                   .when(col(\"boro\") == 3, \"Brooklyn\") \\\n",
        "                   .when(col(\"boro\") == 4, \"Queens\") \\\n",
        "                   .when(col(\"boro\") == 5, \"Staten Island\") \\\n",
        "                   .otherwise(col(\"boro\")))"
      ]
    },
    {
      "cell_type": "code",
      "execution_count": null,
      "metadata": {
        "colab": {
          "base_uri": "https://localhost:8080/"
        },
        "id": "1f2g61o5wU6B",
        "outputId": "9865c9d4-1125-49e1-e68c-ec6009f23146"
      },
      "outputs": [
        {
          "name": "stdout",
          "output_type": "stream",
          "text": [
            "+-----------+----+-----+----+--------+--------------------+------+--------+-------+-------+----+-------+---------+-------+--------+-------+--------+------+--------------------+-------+-------+--------+--------+---------+----------+---------+----------+-----+------+----+-------+---------+---------+----------+---------------+----------------+------------+---------+--------+--------------------+------------+\n",
            "|       bble|boro|block| lot|easement|               owner|bldgcl|taxclass|ltfront|ltdepth| ext|stories|  fullval| avland|   avtot| exland|   extot| excd1|              staddr|    zip|exmptcl|bldfront|blddepth|  avland2|    avtot2|  exland2|    extot2|excd2|period|year|valtype|  borough| latitude| longitude|community_board|council_district|census_tract|      bin|     nta|     geocoded_column|borough_name|\n",
            "+-----------+----+-----+----+--------+--------------------+------+--------+-------+-------+----+-------+---------+-------+--------+-------+--------+------+--------------------+-------+-------+--------+--------+---------+----------+---------+----------+-----+------+----+-------+---------+---------+----------+---------------+----------------+------------+---------+--------+--------------------+------------+\n",
            "| 1000163859|   1|   16|3859|    null|        CHEN, QI TOM|    R4|       2|      0|      0|null|   31.0| 354180.0|   3310|  159381|   3310|  159381|6800.0|     1 RIVER TERRACE|   null|   null|       0|       0|   3310.0|  148953.0|   3310.0|  148953.0| null| FINAL|2018|  AC-TR|     null|     null|      null|           null|            null|        null|     null|    null|                null|   Manhattan|\n",
            "| 1000730028|   1|   73|  28|    null|            NYC DSBS|    V1|       4|    183|     52|null|   null|3515000.0|1581750| 1581750|1581750| 1581750|2191.0|     MARGINAL STREET|10038.0|     X1|       0|       0|1080594.0| 1080594.0|1080594.0| 1080594.0| null| FINAL|2018|  AC-TR|     null|     null|      null|           null|            null|        null|     null|    null|                null|   Manhattan|\n",
            "| 1000730029|   1|   73|  29|    null|            NYC DSBS|    Y7|       4|     90|    500|null|    1.0|8215000.0|2812050| 3696750|2812050| 3696750|2191.0|     MARGINAL STREET|10038.0|     X1|      90|     258|2812050.0| 3487680.0|2812050.0| 3487680.0| null| FINAL|2018|  AC-TR|     null|     null|      null|           null|            null|        null|     null|    null|                null|   Manhattan|\n",
            "| 1000297504|   1|   29|7504|    null|                null|    R0|       2|     36|     73|null|    7.0|      0.0|      0|       0|      0|       0|  null|54 STANTON ST EXT...|10004.0|   null|      36|      73|     null|      null|     null|      null| null| FINAL|2018|  AC-TR|     null|     null|      null|           null|            null|        null|     null|    null|                null|   Manhattan|\n",
            "| 1000360012|   1|   36|  12|    null|            NYC DSBS|    Y7|       4|    534|    604|null|   null| 2.6246E7|9180000|11810700|9180000|11810700|2191.0|              PIER 9|   null|     X1|       0|     604|9180000.0|1.114254E7|9180000.0|1.114254E7| null| FINAL|2018|  AC-TR|     null|     null|      null|           null|            null|        null|     null|    null|                null|   Manhattan|\n",
            "| 1000730008|   1|   73|   8|    null|            NYC DSBS|    T2|       4|    238|    597|null|    1.0| 1.0315E7|3235500| 4641750|3235500| 4641750|2191.0|PIER-16 SOUTH STREET|10038.0|     X1|       0|     557|3235500.0| 4379220.0|3235500.0| 4379220.0| null| FINAL|2018|  AC-TR|     null|     null|      null|           null|            null|        null|     null|    null|                null|   Manhattan|\n",
            "| 1001749031|   1|  174|9031|    null|                null|    V1|       4|     54|    165|null|   null|      0.0|      0|       0|      0|       0|  null|            BROADWAY|   null|   null|       0|       0|     null|      null|     null|      null| null| FINAL|2018|  AC-TR|     null|     null|      null|           null|            null|        null|     null|    null|                null|   Manhattan|\n",
            "| 1001760118|   1|  176| 118|    null|                null|    V1|       4|      0|     50|null|   null|      0.0|      0|       0|      0|       0|  null|       WEST BROADWAY|   null|   null|       0|       0|     null|      null|     null|      null| null| FINAL|2018|  AC-TR|     null|     null|      null|           null|            null|        null|     null|    null|                null|   Manhattan|\n",
            "|1001980001E|   1|  198|   1|       E|         NYC TRANSIT|    U7|       3|      0|      0|null|   null|      0.0|      0|       0|      0|       0|  null|       CENTRE STREET|10013.0|   null|       0|       0|     null|      null|     null|      null| null| FINAL|2018|  AC-TR|     null|     null|      null|           null|            null|        null|     null|    null|                null|   Manhattan|\n",
            "|1002070001E|   1|  207|   1|       E|         NYC TRANSIT|    U7|       3|      0|      0|null|   null|      0.0|      0|       0|      0|       0|  null|       CENTRE STREET|10013.0|   null|       0|       0|     null|      null|     null|      null| null| FINAL|2018|  AC-TR|     null|     null|      null|           null|            null|        null|     null|    null|                null|   Manhattan|\n",
            "|1002080019E|   1|  208|  19|       E|         NYC TRANSIT|    U7|       3|      0|      0|null|   null|      0.0|      0|       0|      0|       0|  null|        CANAL STREET|10013.0|   null|       0|       0|     null|      null|     null|      null| null| FINAL|2018|  AC-TR|     null|     null|      null|           null|            null|        null|     null|    null|                null|   Manhattan|\n",
            "| 1002091001|   1|  209|1001|    null|    424 BROADWAY LLC|    RK|       4|      0|      0|null|    6.0|6936000.0|  92869| 3121200|      0|       0|  null|      42426 BROADWAY|10013.0|   null|       0|       0|  92869.0| 2641140.0|     null|      null| null| FINAL|2018|  AC-TR|     null|     null|      null|           null|            null|        null|     null|    null|                null|   Manhattan|\n",
            "|1006760003G|   1|  676|   3|       G|                null|    U9|       3|      0|      0|null|   null|      0.0|      0|       0|      0|       0|  null|                null|   null|   null|       0|       0|     null|      null|     null|      null| null| FINAL|2018|  AC-TR|     null|     null|      null|           null|            null|        null|     null|    null|                null|   Manhattan|\n",
            "| 1006760005|   1|  676|   5|    null|MTA LIRR CO DEPT ...|    V1|       4|    800|    538|null|   null|      0.0|      0|       0|      0|       0|  null|      WEST 33 STREET|   null|   null|       0|       0|     null|      null|     null|      null| null| FINAL|2018|  AC-TR|     null|     null|      null|           null|            null|        null|     null|    null|                null|   Manhattan|\n",
            "| 1002210001|   1|  221|   1|    null|             NYC DOT|    U1|       3|    161|    461|null|   null|      0.0|      0|       0|      0|       0|  null|       VESTRY STREET|   null|   null|       0|       0|     null|      null|     null|      null| null| FINAL|2018|  AC-TR|     null|     null|      null|           null|            null|        null|     null|    null|                null|   Manhattan|\n",
            "| 1002230112|   1|  223| 112|    null|BRIDGE LAND VESTR...|    V1|       4|      9|    110|null|   null|      0.0|      0|       0|      0|       0|  null|   WASHINGTON STREET|10013.0|   null|       0|       0|     null|      null|     null|      null| null| FINAL|2018|  AC-TR|     null|     null|      null|           null|            null|        null|     null|    null|                null|   Manhattan|\n",
            "| 1009287504|   1|  928|7504|    null|                null|    R0|       2|     24|    100|null|   19.0|      0.0|      0|       0|      0|       0|  null|  300 EAST 23 STREET|10010.0|   null|       0|       0|     null|      null|     null|      null| null| FINAL|2018|  AC-TR|MANHATTAN| 40.73773|-73.980554|          106.0|             2.0|        64.0|1088559.0|Gramercy|POINT (-73.980554...|   Manhattan|\n",
            "| 1010607502|   1| 1060|7502|    null|                null|    R0|       2|    150|    200|null|   16.0|      0.0|      0|       0|      0|       0|  null|  425 WEST 50 STREET|10019.0|   null|       0|       0|     null|      null|     null|      null| null| FINAL|2018|  AC-TR|MANHATTAN|40.763878|-73.989853|          104.0|             3.0|       133.0|1026676.0| Clinton|POINT (-73.989853...|   Manhattan|\n",
            "| 1002740037|   1|  274|  37|    null|MADISON&MKT ST RL...|    G7|       4|     26|    100|null|   null| 843000.0| 379350|  379350|      0|       0|  null|      MADISON STREET|   null|   null|       0|       0| 242050.0|  242050.0|     null|      null| null| FINAL|2018|  AC-TR|     null|     null|      null|           null|            null|        null|     null|    null|                null|   Manhattan|\n",
            "| 1002820004|   1|  282|   4|    null|             NYC DOT|    V9|       4|     13|      3|null|   null|   1000.0|    450|     450|    450|     450|2261.0|        HENRY STREET|10002.0|   null|       0|       0|    459.0|     459.0|    459.0|     459.0| null| FINAL|2018|  AC-TR|     null|     null|      null|           null|            null|        null|     null|    null|                null|   Manhattan|\n",
            "+-----------+----+-----+----+--------+--------------------+------+--------+-------+-------+----+-------+---------+-------+--------+-------+--------+------+--------------------+-------+-------+--------+--------+---------+----------+---------+----------+-----+------+----+-------+---------+---------+----------+---------------+----------------+------------+---------+--------+--------------------+------------+\n",
            "only showing top 20 rows\n",
            "\n"
          ]
        }
      ],
      "source": [
        "df.show()"
      ]
    },
    {
      "cell_type": "code",
      "execution_count": null,
      "metadata": {
        "colab": {
          "base_uri": "https://localhost:8080/"
        },
        "id": "jF_IcFjgyEoi",
        "outputId": "94796116-8e38-4c49-a249-9145f7417f7a"
      },
      "outputs": [
        {
          "name": "stdout",
          "output_type": "stream",
          "text": [
            "Column bin has null values in 4.08% of rows\n",
            "Column fullval has null values in 1.30% of rows\n"
          ]
        }
      ],
      "source": [
        "# Proportion of null or zero values in 'bin' and 'fullval' columns\n",
        "from pyspark.sql.functions import col, round\n",
        "\n",
        "total_count = df.count()\n",
        "\n",
        "for column_name in ['bin', 'fullval']:\n",
        "  null_count = df.filter(col(column_name).isNull()).count()\n",
        "  zero_count = df.filter(col(column_name) == 0).count()\n",
        "  proportion_null_zero = (null_count + zero_count) / total_count\n",
        "  print(\"Column {} has null values in {:.2f}% of rows\".format(column_name, proportion_null_zero*100))"
      ]
    },
    {
      "cell_type": "markdown",
      "metadata": {
        "id": "0KQ-uOgF20xg"
      },
      "source": [
        "## B) Analysis & Insights"
      ]
    },
    {
      "cell_type": "markdown",
      "metadata": {
        "id": "lFwt6e9s28wc"
      },
      "source": [
        "### 1. What is the average market value by Borough?"
      ]
    },
    {
      "cell_type": "code",
      "execution_count": null,
      "metadata": {
        "colab": {
          "base_uri": "https://localhost:8080/"
        },
        "id": "IVN5-j4jyhj-",
        "outputId": "64c2e565-0f11-43c8-ed50-0cc3dce4231b"
      },
      "outputs": [
        {
          "name": "stdout",
          "output_type": "stream",
          "text": [
            "+-------------+----------------+\n",
            "| borough_name|avg_market_value|\n",
            "+-------------+----------------+\n",
            "|       Queens|       734838.01|\n",
            "|     Brooklyn|       815245.78|\n",
            "|Staten Island|       515966.36|\n",
            "|    Manhattan|      2937368.29|\n",
            "|        Bronx|       726677.29|\n",
            "+-------------+----------------+\n",
            "\n"
          ]
        }
      ],
      "source": [
        "from pyspark.sql.functions import avg, round, when\n",
        "\n",
        "# Calculate average or market value by borough\n",
        "avg_market_value_by_borough = df.groupBy(\"borough_name\") \\\n",
        "                                .agg(round(avg(\"fullval\"), 2).alias(\"avg_market_value\"))\n",
        "\n",
        "# Show the resulting DataFrame\n",
        "avg_market_value_by_borough.show()"
      ]
    },
    {
      "cell_type": "markdown",
      "metadata": {
        "id": "2UUplnHV8OWb"
      },
      "source": [
        "### 2. What has been the change in market value of NYC real estate over time?"
      ]
    },
    {
      "cell_type": "code",
      "execution_count": null,
      "metadata": {
        "colab": {
          "base_uri": "https://localhost:8080/"
        },
        "id": "olb7AHRo8NeE",
        "outputId": "72eeb5ee-427a-43e9-a11b-edbcb520e4f3"
      },
      "outputs": [
        {
          "name": "stdout",
          "output_type": "stream",
          "text": [
            "+----+------------------+\n",
            "|year|avg_property_value|\n",
            "+----+------------------+\n",
            "|2010|         874549.93|\n",
            "|2011|         893444.68|\n",
            "|2012|         914601.18|\n",
            "|2013|          936508.3|\n",
            "|2014|          986757.9|\n",
            "|2015|        1053722.34|\n",
            "|2016|        1145860.41|\n",
            "|2017|        1225088.16|\n",
            "|2018|         1316684.5|\n",
            "+----+------------------+\n",
            "\n"
          ]
        }
      ],
      "source": [
        "from pyspark.sql.functions import avg, round\n",
        "\n",
        "avg_valuation_by_year = df.filter(df.year.cast(\"integer\").isNotNull()) \\\n",
        "                          .groupBy(\"year\") \\\n",
        "                          .agg(round(avg(\"fullval\"), 2).alias(\"avg_property_value\")) \\\n",
        "                          .orderBy(\"year\")\n",
        "\n",
        "# Show the resulting DataFrame\n",
        "avg_valuation_by_year.show()"
      ]
    },
    {
      "cell_type": "markdown",
      "metadata": {
        "id": "iszktK9c_Y0r"
      },
      "source": [
        "### 3. What has been the change in market value of NYC real estate over time by Borough?"
      ]
    },
    {
      "cell_type": "code",
      "execution_count": null,
      "metadata": {
        "colab": {
          "base_uri": "https://localhost:8080/"
        },
        "id": "rOVfqbTuEXhs",
        "outputId": "914c30d2-a8c5-4a5f-e214-49e1797ceba6"
      },
      "outputs": [
        {
          "name": "stdout",
          "output_type": "stream",
          "text": [
            "+----+---------+----------+----------+---------+-------------+\n",
            "|year|    Bronx|  Brooklyn| Manhattan|   Queens|Staten Island|\n",
            "+----+---------+----------+----------+---------+-------------+\n",
            "|2010|636793.07|  697854.2|2370240.28|639949.39|    492158.95|\n",
            "|2011|644322.88|  681482.6|2509020.11|646623.61|    488620.01|\n",
            "|2012|655620.37| 696965.38|2587736.99|656916.05|    488624.67|\n",
            "|2013|672447.64| 701839.12| 2718755.1|660258.43|    478839.75|\n",
            "|2014|687307.61| 742580.82|2882396.58|690854.58|    487161.99|\n",
            "|2015| 732861.5| 791889.63|3070543.49|741695.47|    511409.05|\n",
            "|2016|782620.07| 900135.37|3227419.96| 809384.4|    534594.78|\n",
            "|2017|830606.36|1005210.92|3393892.76|846483.26|    557993.51|\n",
            "|2018|896908.54| 1101875.5|3559991.74|914984.08|    603210.53|\n",
            "+----+---------+----------+----------+---------+-------------+\n",
            "\n"
          ]
        }
      ],
      "source": [
        "from pyspark.sql.functions import avg, round, when, col\n",
        "\n",
        "avg_valuation_by_borough_year = df.filter(df.year.cast(\"integer\").isNotNull()) \\\n",
        "                          .groupBy(\"year\") \\\n",
        "                          .pivot(\"borough_name\") \\\n",
        "                          .agg(round(avg(\"fullval\"), 2).alias(\"avg_property_value\")) \\\n",
        "                          .orderBy(\"year\")\n",
        "\n",
        "# Show the resulting DataFrame\n",
        "avg_valuation_by_borough_year.show()"
      ]
    },
    {
      "cell_type": "markdown",
      "metadata": {
        "id": "zhdo_OW9Wpk9"
      },
      "source": [
        "### 4. What has been the average market value and its growth by Areas in each Borough?"
      ]
    },
    {
      "cell_type": "code",
      "execution_count": null,
      "metadata": {
        "colab": {
          "base_uri": "https://localhost:8080/"
        },
        "id": "9AfnmyIIWxQF",
        "outputId": "9de30a33-03cb-49ec-d636-9bfb8f14dba0"
      },
      "outputs": [
        {
          "name": "stdout",
          "output_type": "stream",
          "text": [
            "+------------+--------------------+-----+------------+-----------------+---------+\n",
            "|borough_name|                 nta| year|avg_val_area|prev_avg_val_area|   growth|\n",
            "+------------+--------------------+-----+------------+-----------------+---------+\n",
            "|       Bronx|           2011956.0|FINAL|         3.0|             null|     null|\n",
            "|       Bronx|Allerton-Pelham G...| 2010|   494530.42|             null|     null|\n",
            "|       Bronx|Allerton-Pelham G...| 2011|   495963.88|        494530.42|  1433.46|\n",
            "|       Bronx|Allerton-Pelham G...| 2012|   500882.62|        495963.88|  4918.74|\n",
            "|       Bronx|Allerton-Pelham G...| 2013|   493824.62|        500882.62|  -7058.0|\n",
            "|       Bronx|Allerton-Pelham G...| 2014|   482529.23|        493824.62|-11295.39|\n",
            "|       Bronx|Allerton-Pelham G...| 2015|   512238.43|        482529.23|  29709.2|\n",
            "|       Bronx|Allerton-Pelham G...| 2016|   541965.46|        512238.43| 29727.03|\n",
            "|       Bronx|Allerton-Pelham G...| 2017|   570430.67|        541965.46| 28465.21|\n",
            "|       Bronx|Allerton-Pelham G...| 2018|   616958.57|        570430.67|  46527.9|\n",
            "|       Bronx|Bedford Park-Ford...| 2010|   941582.69|             null|     null|\n",
            "|       Bronx|Bedford Park-Ford...| 2011|   977275.12|        941582.69| 35692.43|\n",
            "|       Bronx|Bedford Park-Ford...| 2012|   976753.79|        977275.12|  -521.33|\n",
            "|       Bronx|Bedford Park-Ford...| 2013|  1027372.91|        976753.79| 50619.12|\n",
            "|       Bronx|Bedford Park-Ford...| 2014|  1074427.41|       1027372.91|  47054.5|\n",
            "|       Bronx|Bedford Park-Ford...| 2015|  1152205.94|       1074427.41| 77778.53|\n",
            "|       Bronx|Bedford Park-Ford...| 2016|  1250181.79|       1152205.94| 97975.85|\n",
            "|       Bronx|Bedford Park-Ford...| 2017|  1353171.15|       1250181.79|102989.36|\n",
            "|       Bronx|Bedford Park-Ford...| 2018|  1461049.38|       1353171.15|107878.23|\n",
            "|       Bronx|             Belmont| 2010|    974670.7|             null|     null|\n",
            "+------------+--------------------+-----+------------+-----------------+---------+\n",
            "only showing top 20 rows\n",
            "\n"
          ]
        }
      ],
      "source": [
        "from pyspark.sql.functions import avg, lag, col, when, round\n",
        "from pyspark.sql.window import Window\n",
        "\n",
        "# group by borough_name and nta, calculate the average fullval for each year\n",
        "grouped = df.groupBy('borough_name', 'nta', 'year') \\\n",
        "              .agg(round(avg('fullval'),2).alias('avg_val_area'))\n",
        "\n",
        "# calculate the difference between the average fullval for each area of one year and the average fullval for each area of the previous year\n",
        "w = Window.partitionBy('borough_name', 'nta').orderBy('year')\n",
        "growth_area = grouped.withColumn('prev_avg_val_area', lag('avg_val_area', 1).over(w))\n",
        "growth_area = growth_area.withColumn('growth', when(col('prev_avg_val_area').isNull(), None).otherwise(round(col('avg_val_area')-col('prev_avg_val_area'),2))) \\\n",
        "                             .where(col('nta').isNotNull())\n",
        "\n",
        "# show the results\n",
        "growth_area.show()"
      ]
    },
    {
      "cell_type": "markdown",
      "metadata": {
        "id": "sI3LQ-AGWMjZ"
      },
      "source": [
        "### 5. What has been the average market value and its growth by Zip Code?"
      ]
    },
    {
      "cell_type": "code",
      "execution_count": null,
      "metadata": {
        "colab": {
          "base_uri": "https://localhost:8080/"
        },
        "id": "SYKLGfBIWKqe",
        "outputId": "0ca052bf-ea5d-4fb9-a77a-61983d80debe"
      },
      "outputs": [
        {
          "name": "stdout",
          "output_type": "stream",
          "text": [
            "+-------+----+-----------+----------------+---------+\n",
            "|    zip|year|avg_val_zip|prev_avg_val_zip|   growth|\n",
            "+-------+----+-----------+----------------+---------+\n",
            "|10001.0|2010| 5900805.32|            null|     null|\n",
            "|10001.0|2011| 6346557.56|      5900805.32|445752.24|\n",
            "|10001.0|2012| 6703835.36|      6346557.56| 357277.8|\n",
            "|10001.0|2013| 6694327.17|      6703835.36| -9508.19|\n",
            "|10001.0|2014| 7507919.36|      6694327.17|813592.19|\n",
            "|10001.0|2015| 7911689.55|      7507919.36|403770.19|\n",
            "|10001.0|2016| 8371610.15|      7911689.55| 459920.6|\n",
            "|10001.0|2017|  8791734.0|      8371610.15|420123.85|\n",
            "|10001.0|2018| 8978409.13|       8791734.0|186675.13|\n",
            "|10002.0|2010| 1701033.71|            null|     null|\n",
            "|10002.0|2011| 1664093.49|      1701033.71|-36940.22|\n",
            "|10002.0|2012| 1708158.46|      1664093.49| 44064.97|\n",
            "|10002.0|2013| 1841402.91|      1708158.46|133244.45|\n",
            "|10002.0|2014| 1980996.26|      1841402.91|139593.35|\n",
            "|10002.0|2015| 2181129.93|      1980996.26|200133.67|\n",
            "|10002.0|2016|  2257039.7|      2181129.93| 75909.77|\n",
            "|10002.0|2017| 2447027.68|       2257039.7|189987.98|\n",
            "|10002.0|2018| 2515516.91|      2447027.68| 68489.23|\n",
            "|10003.0|2010| 2595515.16|            null|     null|\n",
            "|10003.0|2011| 2675113.42|      2595515.16| 79598.26|\n",
            "+-------+----+-----------+----------------+---------+\n",
            "only showing top 20 rows\n",
            "\n"
          ]
        }
      ],
      "source": [
        "from pyspark.sql.functions import avg, lag, col, when, round\n",
        "from pyspark.sql.types import IntegerType\n",
        "from pyspark.sql.window import Window\n",
        "\n",
        "# filter out rows where zip is null or not an integer\n",
        "filtered = df.filter(col('zip').cast(IntegerType()).isNotNull())\n",
        "\n",
        "# group by zip code, calculate the average fullval for each year\n",
        "grouped = filtered.groupBy('zip', 'year') \\\n",
        "              .agg(round(avg('fullval'),2).alias('avg_val_zip'))\n",
        "\n",
        "# calculate the difference between the average fullval for each zip code of one year and the average fullval for each zip code of the previous year\n",
        "w = Window.partitionBy('zip').orderBy('year')\n",
        "growth_zip = grouped.withColumn('prev_avg_val_zip', lag('avg_val_zip', 1).over(w))\n",
        "growth_zip = growth_zip.withColumn('growth', when(col('prev_avg_val_zip').isNull(), None).otherwise(round(col('avg_val_zip')-col('prev_avg_val_zip'),2)))\n",
        "\n",
        "# show the results\n",
        "growth_zip.show()"
      ]
    },
    {
      "cell_type": "markdown",
      "metadata": {
        "id": "oVdzsq4q_I1p"
      },
      "source": [
        "### 6. What has been the average market value by building calss?"
      ]
    },
    {
      "cell_type": "code",
      "execution_count": null,
      "metadata": {
        "id": "SoepzgUE_RsU"
      },
      "outputs": [],
      "source": [
        "building_class_mapping = {'A': 'ONE FAMILY DWELLINGS',\n",
        "'B': 'TWO FAMILY DWELLINGS',\n",
        "'C': 'WALK UP APARTMENTS',\n",
        "'D': 'ELEVATOR APARTMENTS',\n",
        "'E': 'WAREHOUSES',\n",
        "'F': 'FACTORIES AND INDUSTRIAL BUILDINGS',\n",
        "'G': 'GARAGES',\n",
        "'H': 'HOTELS',\n",
        "'I': 'HOSPITALS AND HEALTH FACILITIES',\n",
        "'J': 'THEATRES',\n",
        "'K': 'STORE BUILDINGS',\n",
        "'L': 'LOFTS',\n",
        "'M': 'RELIGIOUS FACILITIES',\n",
        "'N': 'ASYLUMS AND HOMES',\n",
        "'O': 'OFFICE BUILDINGS',\n",
        "'P': 'INDOOR PUBLIC ASSEMBLY & CULT. FACILITIES',\n",
        "'Q': 'OUTDOOR RECREATIONAL FACILITIES',\n",
        "'R': 'CONDOMINIUMS',\n",
        "'S': 'PRIMARILY RES. - MIXED USE',\n",
        "'T': 'TRANSPORTATION FACILITIES',\n",
        "'U': 'UTILITY BUREAU PROPERTIES',\n",
        "'V': 'VACANT LAND',\n",
        "'W': 'EDUCATIONAL FACILITIES',\n",
        "'Y': 'GOVERNMENT/CITY DEPARTMENTS',\n",
        "'Z': 'MISCELLANEOUS'}\n",
        "\n",
        "# Apply the mapping to the 'bldgcl' column\n",
        "df = df.withColumn('bldgcl_category', col('bldgcl').substr(1, 1)).replace(building_class_mapping, subset='bldgcl_category')"
      ]
    },
    {
      "cell_type": "code",
      "execution_count": null,
      "metadata": {
        "colab": {
          "base_uri": "https://localhost:8080/"
        },
        "id": "g11xpsiC_VwX",
        "outputId": "74a2e008-5231-4258-ede1-c79e8cb9dcb3"
      },
      "outputs": [
        {
          "name": "stdout",
          "output_type": "stream",
          "text": [
            "+-----------+----+-----+----+--------+--------------------+------+--------+-------+-------+----+-------+---------+-------+--------+-------+--------+------+--------------------+-------+-------+--------+--------+---------+----------+---------+----------+-----+------+----+-------+---------+---------+----------+---------------+----------------+------------+---------+--------+--------------------+------------+--------------------+\n",
            "|       bble|boro|block| lot|easement|               owner|bldgcl|taxclass|ltfront|ltdepth| ext|stories|  fullval| avland|   avtot| exland|   extot| excd1|              staddr|    zip|exmptcl|bldfront|blddepth|  avland2|    avtot2|  exland2|    extot2|excd2|period|year|valtype|  borough| latitude| longitude|community_board|council_district|census_tract|      bin|     nta|     geocoded_column|borough_name|     bldgcl_category|\n",
            "+-----------+----+-----+----+--------+--------------------+------+--------+-------+-------+----+-------+---------+-------+--------+-------+--------+------+--------------------+-------+-------+--------+--------+---------+----------+---------+----------+-----+------+----+-------+---------+---------+----------+---------------+----------------+------------+---------+--------+--------------------+------------+--------------------+\n",
            "| 1000163859|   1|   16|3859|    null|        CHEN, QI TOM|    R4|       2|      0|      0|null|   31.0| 354180.0|   3310|  159381|   3310|  159381|6800.0|     1 RIVER TERRACE|   null|   null|       0|       0|   3310.0|  148953.0|   3310.0|  148953.0| null| FINAL|2018|  AC-TR|     null|     null|      null|           null|            null|        null|     null|    null|                null|   Manhattan|        CONDOMINIUMS|\n",
            "| 1000730028|   1|   73|  28|    null|            NYC DSBS|    V1|       4|    183|     52|null|   null|3515000.0|1581750| 1581750|1581750| 1581750|2191.0|     MARGINAL STREET|10038.0|     X1|       0|       0|1080594.0| 1080594.0|1080594.0| 1080594.0| null| FINAL|2018|  AC-TR|     null|     null|      null|           null|            null|        null|     null|    null|                null|   Manhattan|         VACANT LAND|\n",
            "| 1000730029|   1|   73|  29|    null|            NYC DSBS|    Y7|       4|     90|    500|null|    1.0|8215000.0|2812050| 3696750|2812050| 3696750|2191.0|     MARGINAL STREET|10038.0|     X1|      90|     258|2812050.0| 3487680.0|2812050.0| 3487680.0| null| FINAL|2018|  AC-TR|     null|     null|      null|           null|            null|        null|     null|    null|                null|   Manhattan|GOVERNMENT/CITY D...|\n",
            "| 1000297504|   1|   29|7504|    null|                null|    R0|       2|     36|     73|null|    7.0|      0.0|      0|       0|      0|       0|  null|54 STANTON ST EXT...|10004.0|   null|      36|      73|     null|      null|     null|      null| null| FINAL|2018|  AC-TR|     null|     null|      null|           null|            null|        null|     null|    null|                null|   Manhattan|        CONDOMINIUMS|\n",
            "| 1000360012|   1|   36|  12|    null|            NYC DSBS|    Y7|       4|    534|    604|null|   null| 2.6246E7|9180000|11810700|9180000|11810700|2191.0|              PIER 9|   null|     X1|       0|     604|9180000.0|1.114254E7|9180000.0|1.114254E7| null| FINAL|2018|  AC-TR|     null|     null|      null|           null|            null|        null|     null|    null|                null|   Manhattan|GOVERNMENT/CITY D...|\n",
            "| 1000730008|   1|   73|   8|    null|            NYC DSBS|    T2|       4|    238|    597|null|    1.0| 1.0315E7|3235500| 4641750|3235500| 4641750|2191.0|PIER-16 SOUTH STREET|10038.0|     X1|       0|     557|3235500.0| 4379220.0|3235500.0| 4379220.0| null| FINAL|2018|  AC-TR|     null|     null|      null|           null|            null|        null|     null|    null|                null|   Manhattan|TRANSPORTATION FA...|\n",
            "| 1001749031|   1|  174|9031|    null|                null|    V1|       4|     54|    165|null|   null|      0.0|      0|       0|      0|       0|  null|            BROADWAY|   null|   null|       0|       0|     null|      null|     null|      null| null| FINAL|2018|  AC-TR|     null|     null|      null|           null|            null|        null|     null|    null|                null|   Manhattan|         VACANT LAND|\n",
            "| 1001760118|   1|  176| 118|    null|                null|    V1|       4|      0|     50|null|   null|      0.0|      0|       0|      0|       0|  null|       WEST BROADWAY|   null|   null|       0|       0|     null|      null|     null|      null| null| FINAL|2018|  AC-TR|     null|     null|      null|           null|            null|        null|     null|    null|                null|   Manhattan|         VACANT LAND|\n",
            "|1001980001E|   1|  198|   1|       E|         NYC TRANSIT|    U7|       3|      0|      0|null|   null|      0.0|      0|       0|      0|       0|  null|       CENTRE STREET|10013.0|   null|       0|       0|     null|      null|     null|      null| null| FINAL|2018|  AC-TR|     null|     null|      null|           null|            null|        null|     null|    null|                null|   Manhattan|UTILITY BUREAU PR...|\n",
            "|1002070001E|   1|  207|   1|       E|         NYC TRANSIT|    U7|       3|      0|      0|null|   null|      0.0|      0|       0|      0|       0|  null|       CENTRE STREET|10013.0|   null|       0|       0|     null|      null|     null|      null| null| FINAL|2018|  AC-TR|     null|     null|      null|           null|            null|        null|     null|    null|                null|   Manhattan|UTILITY BUREAU PR...|\n",
            "|1002080019E|   1|  208|  19|       E|         NYC TRANSIT|    U7|       3|      0|      0|null|   null|      0.0|      0|       0|      0|       0|  null|        CANAL STREET|10013.0|   null|       0|       0|     null|      null|     null|      null| null| FINAL|2018|  AC-TR|     null|     null|      null|           null|            null|        null|     null|    null|                null|   Manhattan|UTILITY BUREAU PR...|\n",
            "| 1002091001|   1|  209|1001|    null|    424 BROADWAY LLC|    RK|       4|      0|      0|null|    6.0|6936000.0|  92869| 3121200|      0|       0|  null|      42426 BROADWAY|10013.0|   null|       0|       0|  92869.0| 2641140.0|     null|      null| null| FINAL|2018|  AC-TR|     null|     null|      null|           null|            null|        null|     null|    null|                null|   Manhattan|        CONDOMINIUMS|\n",
            "|1006760003G|   1|  676|   3|       G|                null|    U9|       3|      0|      0|null|   null|      0.0|      0|       0|      0|       0|  null|                null|   null|   null|       0|       0|     null|      null|     null|      null| null| FINAL|2018|  AC-TR|     null|     null|      null|           null|            null|        null|     null|    null|                null|   Manhattan|UTILITY BUREAU PR...|\n",
            "| 1006760005|   1|  676|   5|    null|MTA LIRR CO DEPT ...|    V1|       4|    800|    538|null|   null|      0.0|      0|       0|      0|       0|  null|      WEST 33 STREET|   null|   null|       0|       0|     null|      null|     null|      null| null| FINAL|2018|  AC-TR|     null|     null|      null|           null|            null|        null|     null|    null|                null|   Manhattan|         VACANT LAND|\n",
            "| 1002210001|   1|  221|   1|    null|             NYC DOT|    U1|       3|    161|    461|null|   null|      0.0|      0|       0|      0|       0|  null|       VESTRY STREET|   null|   null|       0|       0|     null|      null|     null|      null| null| FINAL|2018|  AC-TR|     null|     null|      null|           null|            null|        null|     null|    null|                null|   Manhattan|UTILITY BUREAU PR...|\n",
            "| 1002230112|   1|  223| 112|    null|BRIDGE LAND VESTR...|    V1|       4|      9|    110|null|   null|      0.0|      0|       0|      0|       0|  null|   WASHINGTON STREET|10013.0|   null|       0|       0|     null|      null|     null|      null| null| FINAL|2018|  AC-TR|     null|     null|      null|           null|            null|        null|     null|    null|                null|   Manhattan|         VACANT LAND|\n",
            "| 1009287504|   1|  928|7504|    null|                null|    R0|       2|     24|    100|null|   19.0|      0.0|      0|       0|      0|       0|  null|  300 EAST 23 STREET|10010.0|   null|       0|       0|     null|      null|     null|      null| null| FINAL|2018|  AC-TR|MANHATTAN| 40.73773|-73.980554|          106.0|             2.0|        64.0|1088559.0|Gramercy|POINT (-73.980554...|   Manhattan|        CONDOMINIUMS|\n",
            "| 1010607502|   1| 1060|7502|    null|                null|    R0|       2|    150|    200|null|   16.0|      0.0|      0|       0|      0|       0|  null|  425 WEST 50 STREET|10019.0|   null|       0|       0|     null|      null|     null|      null| null| FINAL|2018|  AC-TR|MANHATTAN|40.763878|-73.989853|          104.0|             3.0|       133.0|1026676.0| Clinton|POINT (-73.989853...|   Manhattan|        CONDOMINIUMS|\n",
            "| 1002740037|   1|  274|  37|    null|MADISON&MKT ST RL...|    G7|       4|     26|    100|null|   null| 843000.0| 379350|  379350|      0|       0|  null|      MADISON STREET|   null|   null|       0|       0| 242050.0|  242050.0|     null|      null| null| FINAL|2018|  AC-TR|     null|     null|      null|           null|            null|        null|     null|    null|                null|   Manhattan|             GARAGES|\n",
            "| 1002820004|   1|  282|   4|    null|             NYC DOT|    V9|       4|     13|      3|null|   null|   1000.0|    450|     450|    450|     450|2261.0|        HENRY STREET|10002.0|   null|       0|       0|    459.0|     459.0|    459.0|     459.0| null| FINAL|2018|  AC-TR|     null|     null|      null|           null|            null|        null|     null|    null|                null|   Manhattan|         VACANT LAND|\n",
            "+-----------+----+-----+----+--------+--------------------+------+--------+-------+-------+----+-------+---------+-------+--------+-------+--------+------+--------------------+-------+-------+--------+--------+---------+----------+---------+----------+-----+------+----+-------+---------+---------+----------+---------------+----------------+------------+---------+--------+--------------------+------------+--------------------+\n",
            "only showing top 20 rows\n",
            "\n"
          ]
        }
      ],
      "source": [
        "df.show()"
      ]
    },
    {
      "cell_type": "code",
      "execution_count": null,
      "metadata": {
        "colab": {
          "base_uri": "https://localhost:8080/"
        },
        "id": "h7eHioHzL894",
        "outputId": "b8e050cf-9277-4afc-8354-afb7c58c249c"
      },
      "outputs": [
        {
          "name": "stdout",
          "output_type": "stream",
          "text": [
            "+--------------------+----+---------+-------------------------------+\n",
            "|     bldgcl_category|year|  borough|avg_market_value_building_class|\n",
            "+--------------------+----+---------+-------------------------------+\n",
            "|       MISCELLANEOUS|2016|     null|                      370500.97|\n",
            "|            THEATRES|2018| BROOKLYN|                      5517000.0|\n",
            "|    OFFICE BUILDINGS|2016|     null|                     1334888.89|\n",
            "|  WALK UP APARTMENTS|2012|    BRONX|                      580990.86|\n",
            "|         VACANT LAND|2012|    BRONX|                      334756.49|\n",
            "|ONE FAMILY DWELLINGS|2018|     null|                      796217.55|\n",
            "|TWO FAMILY DWELLINGS|2014| BROOKLYN|                      711130.17|\n",
            "|TWO FAMILY DWELLINGS|2013|   QUEENS|                      542600.65|\n",
            "|             GARAGES|2011|   QUEENS|                       521559.6|\n",
            "|FACTORIES AND IND...|2018|    BRONX|                      1715419.9|\n",
            "|RELIGIOUS FACILITIES|2013|     null|                      2134700.0|\n",
            "|TRANSPORTATION FA...|2011|     null|                  4.145124901E7|\n",
            "|         VACANT LAND|2018|     null|                     1176415.05|\n",
            "|GOVERNMENT/CITY D...|2018|     null|                      1.19529E7|\n",
            "|RELIGIOUS FACILITIES|2015|     null|                     2538245.28|\n",
            "| ELEVATOR APARTMENTS|2014|     null|                     6862063.98|\n",
            "|ONE FAMILY DWELLINGS|2010|    BRONX|                      434260.81|\n",
            "|        CONDOMINIUMS|2014|     null|                      250298.26|\n",
            "|              HOTELS|2017|    BRONX|                     4018780.58|\n",
            "|    OFFICE BUILDINGS|2018|MANHATTAN|                  6.158642163E7|\n",
            "+--------------------+----+---------+-------------------------------+\n",
            "only showing top 20 rows\n",
            "\n"
          ]
        }
      ],
      "source": [
        "from pyspark.sql.functions import avg, round\n",
        "\n",
        "# Perform the aggregation with \"year\" and \"borough\" columns\n",
        "avg_market_value_by_building_class = df.groupBy(\"bldgcl_category\", \"year\", \"borough\") \\\n",
        "                                .agg(round(avg(\"fullval\"), 2).alias(\"avg_market_value_building_class\"))\n",
        "\n",
        "# Show the resulting DataFrame\n",
        "avg_market_value_by_building_class.show()"
      ]
    },
    {
      "cell_type": "markdown",
      "metadata": {
        "id": "81K6P3If_qDC"
      },
      "source": [
        "### 7. What has been the average market value and actual land value by lot size/building size?"
      ]
    },
    {
      "cell_type": "code",
      "execution_count": null,
      "metadata": {
        "id": "GsjU415u_uoE"
      },
      "outputs": [],
      "source": [
        "filtered_lot = df.filter((col('ltfront').isNotNull()) & (col('ltfront') != 0) & (col('ltdepth').isNotNull()) & (col('ltdepth') != 0))\n",
        "lot_size=filtered_lot.withColumn('lot_size',col('ltfront')* col('ltdepth'))\n",
        "\n",
        "avg_valuation_by_lot_size = lot_size.groupBy(\"lot_size\") \\\n",
        "                                .agg(round(avg(\"fullval\"), 2).alias(\"avg_val_lot_size\")) \\\n",
        "                                .orderBy(\"lot_size\")\n",
        "\n",
        "filtered_building=df.filter((col('bldfront').isNotNull()) & (col('bldfront') != 0)& (col('blddepth').isNotNull()) & (col('blddepth') != 0))\n",
        "building_size=filtered_building.withColumn('building_size',col('bldfront')* col('blddepth'))\n",
        "\n",
        "avg_valuation_by_building_size = building_size.groupBy(\"building_size\") \\\n",
        "                                .agg(round(avg(\"fullval\"), 2).alias(\"avg_val_building_size\")) \\\n",
        "                                .orderBy(\"building_size\")"
      ]
    },
    {
      "cell_type": "code",
      "execution_count": null,
      "metadata": {
        "id": "t3o_7gSqvCyp",
        "outputId": "6f0719b0-b4fc-4fbd-9d34-501d2adbff6e"
      },
      "outputs": [
        {
          "name": "stdout",
          "output_type": "stream",
          "text": [
            "+--------+----------------+\n",
            "|lot_size|avg_val_lot_size|\n",
            "+--------+----------------+\n",
            "|       1|        53161.87|\n",
            "|       2|         2132.93|\n",
            "|       3|         7699.25|\n",
            "|       4|         1277.77|\n",
            "|       5|         1165.09|\n",
            "|       6|         1806.76|\n",
            "|       7|         2767.25|\n",
            "|       8|         1038.01|\n",
            "|       9|         1361.02|\n",
            "|      10|        11615.17|\n",
            "|      11|          582.11|\n",
            "|      12|          862.56|\n",
            "|      13|         2854.22|\n",
            "|      14|         1583.26|\n",
            "|      15|         1724.17|\n",
            "|      16|         3015.62|\n",
            "|      17|             0.0|\n",
            "|      18|         1695.17|\n",
            "|      19|         1058.89|\n",
            "|      20|        19814.53|\n",
            "+--------+----------------+\n",
            "only showing top 20 rows\n",
            "\n"
          ]
        }
      ],
      "source": [
        "avg_valuation_by_lot_size.show()"
      ]
    },
    {
      "cell_type": "code",
      "execution_count": null,
      "metadata": {
        "id": "mK4RrNPJvCyp",
        "outputId": "b8805b26-3547-4e8a-c863-44f773be5c51"
      },
      "outputs": [
        {
          "name": "stdout",
          "output_type": "stream",
          "text": [
            "+-------------+---------------------+\n",
            "|building_size|avg_val_building_size|\n",
            "+-------------+---------------------+\n",
            "|            1|           1978518.51|\n",
            "|            3|            595866.67|\n",
            "|            6|            363736.84|\n",
            "|            7|              76100.0|\n",
            "|            8|            665444.44|\n",
            "|            9|             289600.0|\n",
            "|           15|            597165.37|\n",
            "|           18|             427140.0|\n",
            "|           20|              34100.0|\n",
            "|           22|            1112300.0|\n",
            "|           24|           4574232.69|\n",
            "|           25|            413236.39|\n",
            "|           28|            1063999.5|\n",
            "|           30|            679946.66|\n",
            "|           32|             593701.0|\n",
            "|           34|             437000.0|\n",
            "|           35|              82600.0|\n",
            "|           36|           1350975.69|\n",
            "|           40|            868896.73|\n",
            "|           42|            409777.78|\n",
            "+-------------+---------------------+\n",
            "only showing top 20 rows\n",
            "\n"
          ]
        }
      ],
      "source": [
        "avg_valuation_by_building_size.show()"
      ]
    },
    {
      "cell_type": "code",
      "execution_count": null,
      "metadata": {
        "id": "3uBcNxSp_yJE"
      },
      "outputs": [],
      "source": [
        "# show the average actual land value by lot size and building size\n",
        "\n",
        "avg_land_value_by_lot_size = lot_size.groupBy(\"lot_size\") \\\n",
        "                                .agg(round(avg(\"avland\"), 2).alias(\"avg_land_value_by_lot_size\")) \\\n",
        "                                .orderBy(\"lot_size\")\n",
        "\n",
        "avg_land_value_by_building_size = building_size.groupBy(\"building_size\") \\\n",
        "                                .agg(round(avg(\"avland\"), 2).alias(\"avg_land_value_by_building_size\")) \\\n",
        "                                .orderBy(\"building_size\")"
      ]
    },
    {
      "cell_type": "code",
      "execution_count": null,
      "metadata": {
        "id": "i0-mLlASvCyq",
        "outputId": "76513c8a-3a42-4d68-928d-d9dea4e7de05"
      },
      "outputs": [
        {
          "name": "stdout",
          "output_type": "stream",
          "text": [
            "+--------+--------------------------+\n",
            "|lot_size|avg_land_value_by_lot_size|\n",
            "+--------+--------------------------+\n",
            "|       1|                   2137.47|\n",
            "|       2|                     76.27|\n",
            "|       3|                   2581.08|\n",
            "|       4|                     96.68|\n",
            "|       5|                    164.91|\n",
            "|       6|                     54.61|\n",
            "|       7|                     70.92|\n",
            "|       8|                     74.16|\n",
            "|       9|                    200.03|\n",
            "|      10|                    1647.6|\n",
            "|      11|                       2.0|\n",
            "|      12|                    153.42|\n",
            "|      13|                     18.93|\n",
            "|      14|                    116.46|\n",
            "|      15|                     97.37|\n",
            "|      16|                      93.5|\n",
            "|      17|                       0.0|\n",
            "|      18|                     47.56|\n",
            "|      19|                     40.78|\n",
            "|      20|                    2165.6|\n",
            "+--------+--------------------------+\n",
            "only showing top 20 rows\n",
            "\n"
          ]
        }
      ],
      "source": [
        "avg_land_value_by_lot_size.show()"
      ]
    },
    {
      "cell_type": "code",
      "execution_count": null,
      "metadata": {
        "id": "MCI8dK6EvCyq",
        "outputId": "220a539d-85b3-44e9-d15b-b9195df14b7d"
      },
      "outputs": [
        {
          "name": "stdout",
          "output_type": "stream",
          "text": [
            "+-------------+-------------------------------+\n",
            "|building_size|avg_land_value_by_building_size|\n",
            "+-------------+-------------------------------+\n",
            "|            1|                      304801.17|\n",
            "|            3|                        15940.6|\n",
            "|            6|                       11323.74|\n",
            "|            7|                        34245.0|\n",
            "|            8|                       11373.72|\n",
            "|            9|                       125100.0|\n",
            "|           15|                      245100.59|\n",
            "|           18|                       161310.0|\n",
            "|           20|                        5660.15|\n",
            "|           22|                         5337.0|\n",
            "|           24|                      1944609.1|\n",
            "|           25|                      161818.87|\n",
            "|           28|                       459150.0|\n",
            "|           30|                       292647.6|\n",
            "|           32|                      259065.45|\n",
            "|           34|                       11689.56|\n",
            "|           35|                         2785.0|\n",
            "|           36|                      140821.11|\n",
            "|           40|                      282612.78|\n",
            "|           42|                        11127.0|\n",
            "+-------------+-------------------------------+\n",
            "only showing top 20 rows\n",
            "\n"
          ]
        }
      ],
      "source": [
        "avg_land_value_by_building_size.show()"
      ]
    },
    {
      "cell_type": "markdown",
      "metadata": {
        "id": "dFU4oW1S_1W8"
      },
      "source": [
        "### 8. What has been the average valuation by blocks within borough?"
      ]
    },
    {
      "cell_type": "code",
      "execution_count": null,
      "metadata": {
        "colab": {
          "base_uri": "https://localhost:8080/"
        },
        "id": "d3jRcoyZ_0y0",
        "outputId": "b630c7f1-f540-4a66-cf36-624dadfdb2d6"
      },
      "outputs": [
        {
          "name": "stdout",
          "output_type": "stream",
          "text": [
            "+------------+-----+----+--------------------------+\n",
            "|borough_name|block|year|avg_market_value_by_blocks|\n",
            "+------------+-----+----+--------------------------+\n",
            "|       Bronx| 2260|2011|                  543840.0|\n",
            "|       Bronx| 2260|2018|                  627760.0|\n",
            "|       Bronx| 2260|2013|                 566929.96|\n",
            "|       Bronx| 2260|2010|                  531678.8|\n",
            "|       Bronx| 2260|2017|                  634200.0|\n",
            "|       Bronx| 2260|2015|                  637080.0|\n",
            "|       Bronx| 2260|2012|                  551120.0|\n",
            "|       Bronx| 2260|2014|                  606600.0|\n",
            "|       Bronx| 2260|2016|                  611824.0|\n",
            "|       Bronx| 2261|2018|                 1045700.0|\n",
            "|       Bronx| 2261|2011|                  629850.0|\n",
            "|       Bronx| 2261|2015|                  683200.0|\n",
            "|       Bronx| 2261|2016|                  853550.0|\n",
            "|       Bronx| 2261|2013|                  693747.5|\n",
            "|       Bronx| 2261|2017|                  925060.7|\n",
            "|       Bronx| 2261|2012|                  651050.0|\n",
            "|       Bronx| 2261|2014|                  667600.0|\n",
            "|       Bronx| 2261|2010|                 492658.75|\n",
            "|       Bronx| 2263|2018|                3969611.11|\n",
            "|       Bronx| 2263|2015|                 3645000.0|\n",
            "+------------+-----+----+--------------------------+\n",
            "only showing top 20 rows\n",
            "\n"
          ]
        }
      ],
      "source": [
        "from pyspark.sql.functions import avg, round\n",
        "\n",
        "avg_market_value_by_blocks = df.groupBy(\"borough_name\", \"block\", \"year\") \\\n",
        "                               .agg(round(avg(\"fullval\"), 2).alias(\"avg_market_value_by_blocks\")) \\\n",
        "                               .orderBy(\"borough_name\", \"block\")\n",
        "\n",
        "# Show the resulting DataFrame\n",
        "avg_market_value_by_blocks.show()"
      ]
    },
    {
      "cell_type": "markdown",
      "metadata": {
        "id": "QMaZtf8JAAWI"
      },
      "source": [
        "### 9. What has been the difference in valuation based on exemption?"
      ]
    },
    {
      "cell_type": "code",
      "execution_count": null,
      "metadata": {
        "colab": {
          "base_uri": "https://localhost:8080/"
        },
        "id": "XVSx_PpAAE36",
        "outputId": "148fae73-50cd-48c1-b1c7-897a2dd0bd00"
      },
      "outputs": [
        {
          "name": "stdout",
          "output_type": "stream",
          "text": [
            "+-------+-----------------------------------+\n",
            "|EXMPTCL|avg_market_value_by_exemption_class|\n",
            "+-------+-----------------------------------+\n",
            "|     X9|                      1.546393547E7|\n",
            "|     KI|                         4641555.56|\n",
            "|     X4|                      1.588823048E7|\n",
            "|     X7|                      2.228643687E7|\n",
            "|     X6|                         6019226.87|\n",
            "|     X8|                       1.61439749E7|\n",
            "|     X1|                       1.35616034E7|\n",
            "|     VI|                             793.11|\n",
            "|     X3|                      3.389741448E7|\n",
            "|     X2|                         6957392.04|\n",
            "|     X5|                         2787495.95|\n",
            "|10458.0|                                3.0|\n",
            "|     A9|                          579888.89|\n",
            "|11368.0|                                2.0|\n",
            "|     R4|                           58409.33|\n",
            "|11378.0|                               2.25|\n",
            "|      5|                          411444.44|\n",
            "|11355.0|                                2.0|\n",
            "|11201.0|                               15.0|\n",
            "|10314.0|                                1.0|\n",
            "+-------+-----------------------------------+\n",
            "\n"
          ]
        }
      ],
      "source": [
        "filtered=df.filter(col('EXMPTCL').isNotNull())\n",
        "avg_market_value_by_exemption_class = filtered.groupBy(\"EXMPTCL\") \\\n",
        "                                        .agg(round(avg(\"fullval\"), 2).alias(\"avg_market_value_by_exemption_class\"))\n",
        "\n",
        "# Show the resulting DataFrame\n",
        "avg_market_value_by_exemption_class.show()"
      ]
    },
    {
      "cell_type": "code",
      "execution_count": null,
      "metadata": {
        "id": "OS3bvpDYALRs"
      },
      "outputs": [],
      "source": [
        "# average market value based on exemtion codes\n",
        "\n",
        "filtered_EXCD1 = df.filter(col('EXCD1').isNotNull() )\n",
        "\n",
        "avg_valuation_by_EXCD1= filtered_EXCD1.groupBy(\"EXCD1\") \\\n",
        "                                .agg(round(avg(\"fullval\"), 2).alias(\"avg_valuation_by_EXCD1\")) \\\n",
        "                                .orderBy(\"EXCD1\")\n",
        "\n",
        "filtered_EXCD2=df.filter(col('EXCD2').isNotNull())\n",
        "\n",
        "avg_valuation_by_EXCD2 = filtered_EXCD2.groupBy(\"EXCD2\") \\\n",
        "                                .agg(round(avg(\"fullval\"), 2).alias(\"avg_valuation_by_EXCD2\")) \\\n",
        "                                .orderBy(\"EXCD2\")"
      ]
    },
    {
      "cell_type": "code",
      "execution_count": null,
      "metadata": {
        "id": "4q8EOd-nvCyr",
        "outputId": "b5e4fe51-b6a1-4d50-dea0-cc70ebb8eb42"
      },
      "outputs": [
        {
          "name": "stdout",
          "output_type": "stream",
          "text": [
            "+------+----------------------+\n",
            "| EXCD1|avg_valuation_by_EXCD1|\n",
            "+------+----------------------+\n",
            "|   0.0|                  2.57|\n",
            "|1010.0|            1395972.52|\n",
            "|1011.0|             821590.91|\n",
            "|1015.0|             691458.86|\n",
            "|1016.0|             673685.13|\n",
            "|1017.0|             616992.49|\n",
            "|1019.0|             541548.27|\n",
            "|1021.0|            1988896.71|\n",
            "|1022.0|            4887749.48|\n",
            "|1023.0|            4217021.91|\n",
            "|1101.0|             803784.68|\n",
            "|1102.0|            1017546.45|\n",
            "|1200.0|             738305.76|\n",
            "|1301.0|            2162400.86|\n",
            "|1401.0|         1.928107335E7|\n",
            "|1402.0|            4716332.58|\n",
            "|1403.0|         1.173423123E7|\n",
            "|1404.0|            3402088.82|\n",
            "|1460.0|                   2.0|\n",
            "|1470.0|                   2.0|\n",
            "+------+----------------------+\n",
            "only showing top 20 rows\n",
            "\n"
          ]
        }
      ],
      "source": [
        "avg_valuation_by_EXCD1.show()"
      ]
    },
    {
      "cell_type": "code",
      "execution_count": null,
      "metadata": {
        "id": "JLUFA2tdvCyr",
        "outputId": "d83626fb-416b-43da-e236-4ef6856db70d"
      },
      "outputs": [
        {
          "name": "stdout",
          "output_type": "stream",
          "text": [
            "+------+----------------------+\n",
            "| EXCD2|avg_valuation_by_EXCD2|\n",
            "+------+----------------------+\n",
            "|1011.0|             699714.29|\n",
            "|1015.0|            2562712.77|\n",
            "|1017.0|             866234.51|\n",
            "|1019.0|             592202.55|\n",
            "|1021.0|             4974875.0|\n",
            "|1022.0|            4401697.66|\n",
            "|1023.0|             246428.57|\n",
            "|1101.0|             1495911.4|\n",
            "|1102.0|             1660000.0|\n",
            "|1200.0|             736511.21|\n",
            "|1401.0|             7405000.0|\n",
            "|1402.0|              645721.2|\n",
            "|1404.0|             1.38777E8|\n",
            "|1501.0|             6700000.0|\n",
            "|1504.0|             493186.45|\n",
            "|1505.0|             8238500.0|\n",
            "|1521.0|             5322600.0|\n",
            "|1522.0|             1137000.0|\n",
            "|1523.0|            1988117.14|\n",
            "|1602.0|             3082800.0|\n",
            "+------+----------------------+\n",
            "only showing top 20 rows\n",
            "\n"
          ]
        }
      ],
      "source": [
        "avg_valuation_by_EXCD2.show()"
      ]
    },
    {
      "cell_type": "markdown",
      "metadata": {
        "id": "0zrB2BloAUjo"
      },
      "source": [
        "### 10. What has been the difference in valuation by tax class?"
      ]
    },
    {
      "cell_type": "code",
      "execution_count": null,
      "metadata": {
        "colab": {
          "base_uri": "https://localhost:8080/"
        },
        "id": "YYOfnDn4AXJA",
        "outputId": "3a8efc3a-a30b-46c1-b258-fa61b898728d"
      },
      "outputs": [
        {
          "name": "stdout",
          "output_type": "stream",
          "text": [
            "+-------------+--------+-----------------------------+\n",
            "| borough_name|TAXCLASS|avg_market_value_by_tax_class|\n",
            "+-------------+--------+-----------------------------+\n",
            "|        Bronx|      2C|                    426674.19|\n",
            "|    Manhattan|      2A|                   1907151.58|\n",
            "|Staten Island|       2|                    265665.89|\n",
            "|        Bronx|      1C|                    945804.53|\n",
            "|    Manhattan|       3|                      2243.78|\n",
            "|       Queens|       1|                    597722.48|\n",
            "|        Bronx|       2|                    676197.08|\n",
            "|       Queens|      1B|                    531412.36|\n",
            "|Staten Island|       3|                       183.36|\n",
            "|Staten Island|       4|                   1592248.92|\n",
            "|        Bronx|       4|                   2594245.88|\n",
            "|Staten Island|       1|                    466622.56|\n",
            "|        Bronx|       1|                    461597.81|\n",
            "|       Queens|       4|                   2232008.77|\n",
            "|    Manhattan|       1|                   5423556.21|\n",
            "|    Manhattan|       2|                   1267917.48|\n",
            "|        Bronx|      1A|                    262447.18|\n",
            "|       Queens|      2C|                    210883.34|\n",
            "|     Brooklyn|      1A|                     433693.7|\n",
            "|       Queens|       2|                    716207.16|\n",
            "+-------------+--------+-----------------------------+\n",
            "only showing top 20 rows\n",
            "\n"
          ]
        }
      ],
      "source": [
        "from pyspark.sql.functions import avg\n",
        "filtered = df.filter(col('TAXCLASS').isNotNull())\n",
        "avg_market_value_by_tax_class = filtered.groupBy(\"borough_name\", \"TAXCLASS\") \\\n",
        "                                        .agg(round(avg(\"fullval\"), 2).alias(\"avg_market_value_by_tax_class\"))\n",
        "\n",
        "# Show the resulting DataFrame\n",
        "avg_market_value_by_tax_class.show()"
      ]
    },
    {
      "cell_type": "markdown",
      "metadata": {
        "id": "ozvRzKLFAaVB"
      },
      "source": [
        "### 11. What has been the pattern in valuation by ownership type?"
      ]
    },
    {
      "cell_type": "code",
      "execution_count": null,
      "metadata": {
        "colab": {
          "base_uri": "https://localhost:8080/"
        },
        "id": "F1gnGfCiAhWM",
        "outputId": "0b44033a-5c90-4a78-ee0f-87afe893e951"
      },
      "outputs": [
        {
          "name": "stdout",
          "output_type": "stream",
          "text": [
            "+--------------------+------------------------------+\n",
            "|          owner_type|avg_market_value_by_owner_type|\n",
            "+--------------------+------------------------------+\n",
            "|                 INC|                    1464574.92|\n",
            "|Religious Institu...|                    1972854.12|\n",
            "|  Public Institution|                    8199513.97|\n",
            "|Non-Profit Organi...|                    4570628.04|\n",
            "|                 LLC|                    2063212.64|\n",
            "|   Government Agency|                    5202429.75|\n",
            "|            Hospital|                 1.370877659E7|\n",
            "|   Individual/Family|                     886959.44|\n",
            "| Housing Association|                    1661335.74|\n",
            "|                CORP|                    2306111.87|\n",
            "+--------------------+------------------------------+\n",
            "\n"
          ]
        }
      ],
      "source": [
        "from pyspark.sql.functions import col, when\n",
        "filtered_owner=df.filter(col('OWNER').isNotNull())\n",
        "#classify owner type\n",
        "owner_type_column = (\n",
        "    when(col(\"OWNER\").contains(\"LLC\"), \"LLC\")\n",
        "    .when(col(\"OWNER\").contains(\"INC\"), \"INC\")\n",
        "    .when(col(\"OWNER\").contains(\"CORP\"), \"CORP\")\n",
        "    .when(col(\"OWNER\").contains(\"DEPT\"), \"Government Agency\")\n",
        "    .when(col(\"OWNER\").contains(\"NYC\"), \"Government Agency\")\n",
        "    .when(col(\"OWNER\").contains(\"CITY\"), \"Government Agency\")\n",
        "    .when(col(\"OWNER\").contains(\"STATE\"), \"Government Agency\")\n",
        "    .when(col(\"OWNER\").contains(\"SCHOOL\"), \"Public Institution\")\n",
        "    .when(col(\"OWNER\").contains(\"UNIVERSITY\"), \"Public Institution\")\n",
        "    .when(col(\"OWNER\").contains(\"CHURCH\"), \"Religious Institution\")\n",
        "    .when(col(\"OWNER\").contains(\"SYNAGOGUE\"), \"Religious Institution\")\n",
        "    .when(col(\"OWNER\").contains(\"TEMPLE\"), \"Religious Institution\")\n",
        "    .when(col(\"OWNER\").contains(\"NONPROFIT\"), \"Non-Profit Organization\")\n",
        "    .when(col(\"OWNER\").contains(\"FOUNDATION\"), \"Non-Profit Organization\")\n",
        "    .when(col(\"OWNER\").contains(\"HOSPITAL\"), \"Hospital\")\n",
        "    .when(col(\"OWNER\").contains(\"HOUSING\"), \"Housing Association\")\n",
        "    .otherwise(\"Individual/Family\")\n",
        "\n",
        ")\n",
        "# Create a new column 'owner_type' in the DataFrame based on the owner type conditions\n",
        "df_with_owner_type = df.withColumn(\"owner_type\", owner_type_column)\n",
        "\n",
        "avg_market_value_by_owner_type = df_with_owner_type.groupBy(\"owner_type\") \\\n",
        "                                        .agg(round(avg(\"fullval\"), 2).alias(\"avg_market_value_by_owner_type\"))\n",
        "\n",
        "# Show the resulting DataFrame\n",
        "avg_market_value_by_owner_type.show()"
      ]
    },
    {
      "cell_type": "markdown",
      "metadata": {
        "id": "Vk-Pc6mfeobf"
      },
      "source": [
        "# **3. Neo4j**\n",
        "Neo4j is a graph database that is designed to handle complex and connected data.\n",
        "\n",
        "**Goal**: Enable visualization and analysis of complex property relationships, such as proximity, ownership, property type, and valuation, in an intuitive and powerful way.\n"
      ]
    },
    {
      "cell_type": "markdown",
      "metadata": {
        "id": "LH1vEmqOl0Tu"
      },
      "source": [
        "Here we will explain the idea with a sample of 1,000 observations per year (total 9,000 rows) because Neo4j will generate error if we use 9m data."
      ]
    },
    {
      "cell_type": "code",
      "execution_count": null,
      "metadata": {
        "id": "RY9nK0SterKL",
        "outputId": "2d4869c5-1a17-4fca-90d0-1a20317fc6ed"
      },
      "outputs": [
        {
          "data": {
            "text/html": [
              "<div>\n",
              "<style scoped>\n",
              "    .dataframe tbody tr th:only-of-type {\n",
              "        vertical-align: middle;\n",
              "    }\n",
              "\n",
              "    .dataframe tbody tr th {\n",
              "        vertical-align: top;\n",
              "    }\n",
              "\n",
              "    .dataframe thead th {\n",
              "        text-align: right;\n",
              "    }\n",
              "</style>\n",
              "<table border=\"1\" class=\"dataframe\">\n",
              "  <thead>\n",
              "    <tr style=\"text-align: right;\">\n",
              "      <th></th>\n",
              "      <th>bble</th>\n",
              "      <th>boro</th>\n",
              "      <th>block</th>\n",
              "      <th>lot</th>\n",
              "      <th>easement</th>\n",
              "      <th>owner</th>\n",
              "      <th>bldgcl</th>\n",
              "      <th>taxclass</th>\n",
              "      <th>ltfront</th>\n",
              "      <th>ltdepth</th>\n",
              "      <th>...</th>\n",
              "      <th>valtype</th>\n",
              "      <th>borough</th>\n",
              "      <th>latitude</th>\n",
              "      <th>longitude</th>\n",
              "      <th>community_board</th>\n",
              "      <th>council_district</th>\n",
              "      <th>census_tract</th>\n",
              "      <th>bin</th>\n",
              "      <th>nta</th>\n",
              "      <th>geocoded_column</th>\n",
              "    </tr>\n",
              "  </thead>\n",
              "  <tbody>\n",
              "    <tr>\n",
              "      <th>8599213</th>\n",
              "      <td>4131400058</td>\n",
              "      <td>4</td>\n",
              "      <td>13140</td>\n",
              "      <td>58</td>\n",
              "      <td>NaN</td>\n",
              "      <td>FRANKLIN, BENJAMIN</td>\n",
              "      <td>B3</td>\n",
              "      <td>1</td>\n",
              "      <td>60</td>\n",
              "      <td>100</td>\n",
              "      <td>...</td>\n",
              "      <td>AC-TR</td>\n",
              "      <td>QUEENS</td>\n",
              "      <td>40.671320</td>\n",
              "      <td>-73.746622</td>\n",
              "      <td>413.0</td>\n",
              "      <td>31.0</td>\n",
              "      <td>650.0</td>\n",
              "      <td>4282275.0</td>\n",
              "      <td>Laurelton</td>\n",
              "      <td>POINT (-73.746622 40.67132)</td>\n",
              "    </tr>\n",
              "    <tr>\n",
              "      <th>8424033</th>\n",
              "      <td>4054170050</td>\n",
              "      <td>4</td>\n",
              "      <td>5417</td>\n",
              "      <td>50</td>\n",
              "      <td>NaN</td>\n",
              "      <td>TOONG, SWEE HEE</td>\n",
              "      <td>B2</td>\n",
              "      <td>1</td>\n",
              "      <td>40</td>\n",
              "      <td>100</td>\n",
              "      <td>...</td>\n",
              "      <td>AC-TR</td>\n",
              "      <td>QUEENS</td>\n",
              "      <td>40.758494</td>\n",
              "      <td>-73.806138</td>\n",
              "      <td>407.0</td>\n",
              "      <td>20.0</td>\n",
              "      <td>1191.0</td>\n",
              "      <td>4615624.0</td>\n",
              "      <td>East Flushing</td>\n",
              "      <td>POINT (-73.806138 40.758494)</td>\n",
              "    </tr>\n",
              "    <tr>\n",
              "      <th>8673703</th>\n",
              "      <td>5015080194</td>\n",
              "      <td>5</td>\n",
              "      <td>1508</td>\n",
              "      <td>194</td>\n",
              "      <td>NaN</td>\n",
              "      <td>KIRK J CAHILL</td>\n",
              "      <td>B9</td>\n",
              "      <td>1</td>\n",
              "      <td>0</td>\n",
              "      <td>0</td>\n",
              "      <td>...</td>\n",
              "      <td>AC-TR</td>\n",
              "      <td>STATEN IS</td>\n",
              "      <td>40.616623</td>\n",
              "      <td>-74.149135</td>\n",
              "      <td>501.0</td>\n",
              "      <td>50.0</td>\n",
              "      <td>251.0</td>\n",
              "      <td>5106484.0</td>\n",
              "      <td>Port Richmond</td>\n",
              "      <td>POINT (-74.149135 40.616623)</td>\n",
              "    </tr>\n",
              "    <tr>\n",
              "      <th>8359953</th>\n",
              "      <td>4031840024</td>\n",
              "      <td>4</td>\n",
              "      <td>3184</td>\n",
              "      <td>24</td>\n",
              "      <td>NaN</td>\n",
              "      <td>TENNENBAUM STERIAN</td>\n",
              "      <td>A5</td>\n",
              "      <td>1</td>\n",
              "      <td>20</td>\n",
              "      <td>100</td>\n",
              "      <td>...</td>\n",
              "      <td>AC-TR</td>\n",
              "      <td>QUEENS</td>\n",
              "      <td>40.717267</td>\n",
              "      <td>-73.855679</td>\n",
              "      <td>406.0</td>\n",
              "      <td>29.0</td>\n",
              "      <td>707.0</td>\n",
              "      <td>4075531.0</td>\n",
              "      <td>Forest Hills</td>\n",
              "      <td>POINT (-73.855679 40.717267)</td>\n",
              "    </tr>\n",
              "    <tr>\n",
              "      <th>8702897</th>\n",
              "      <td>5033920039</td>\n",
              "      <td>5</td>\n",
              "      <td>3392</td>\n",
              "      <td>39</td>\n",
              "      <td>NaN</td>\n",
              "      <td>VATHI, MAKSIM</td>\n",
              "      <td>A5</td>\n",
              "      <td>1</td>\n",
              "      <td>20</td>\n",
              "      <td>108</td>\n",
              "      <td>...</td>\n",
              "      <td>AC-TR</td>\n",
              "      <td>STATEN IS</td>\n",
              "      <td>40.593730</td>\n",
              "      <td>-74.078755</td>\n",
              "      <td>502.0</td>\n",
              "      <td>50.0</td>\n",
              "      <td>64.0</td>\n",
              "      <td>5149459.0</td>\n",
              "      <td>Grasmere-Arrochar-Ft. Wadsworth</td>\n",
              "      <td>POINT (-74.078755 40.59373)</td>\n",
              "    </tr>\n",
              "    <tr>\n",
              "      <th>...</th>\n",
              "      <td>...</td>\n",
              "      <td>...</td>\n",
              "      <td>...</td>\n",
              "      <td>...</td>\n",
              "      <td>...</td>\n",
              "      <td>...</td>\n",
              "      <td>...</td>\n",
              "      <td>...</td>\n",
              "      <td>...</td>\n",
              "      <td>...</td>\n",
              "      <td>...</td>\n",
              "      <td>...</td>\n",
              "      <td>...</td>\n",
              "      <td>...</td>\n",
              "      <td>...</td>\n",
              "      <td>...</td>\n",
              "      <td>...</td>\n",
              "      <td>...</td>\n",
              "      <td>...</td>\n",
              "      <td>...</td>\n",
              "      <td>...</td>\n",
              "    </tr>\n",
              "    <tr>\n",
              "      <th>367880</th>\n",
              "      <td>3013100011</td>\n",
              "      <td>3</td>\n",
              "      <td>1310</td>\n",
              "      <td>11</td>\n",
              "      <td>NaN</td>\n",
              "      <td>HEBER, NECHAMA</td>\n",
              "      <td>B9</td>\n",
              "      <td>1</td>\n",
              "      <td>26</td>\n",
              "      <td>120</td>\n",
              "      <td>...</td>\n",
              "      <td>AC-TR</td>\n",
              "      <td>BROOKLYN</td>\n",
              "      <td>40.665214</td>\n",
              "      <td>-73.947644</td>\n",
              "      <td>309.0</td>\n",
              "      <td>35.0</td>\n",
              "      <td>331.0</td>\n",
              "      <td>3034565.0</td>\n",
              "      <td>Crown Heights South</td>\n",
              "      <td>POINT (-73.947644 40.665214)</td>\n",
              "    </tr>\n",
              "    <tr>\n",
              "      <th>435305</th>\n",
              "      <td>3035690042</td>\n",
              "      <td>3</td>\n",
              "      <td>3569</td>\n",
              "      <td>42</td>\n",
              "      <td>NaN</td>\n",
              "      <td>ZHAI, YUNHUA</td>\n",
              "      <td>C0</td>\n",
              "      <td>1</td>\n",
              "      <td>20</td>\n",
              "      <td>100</td>\n",
              "      <td>...</td>\n",
              "      <td>AC-TR</td>\n",
              "      <td>BROOKLYN</td>\n",
              "      <td>40.662543</td>\n",
              "      <td>-73.914744</td>\n",
              "      <td>316.0</td>\n",
              "      <td>42.0</td>\n",
              "      <td>898.0</td>\n",
              "      <td>3350588.0</td>\n",
              "      <td>Brownsville</td>\n",
              "      <td>POINT (-73.914744 40.662543)</td>\n",
              "    </tr>\n",
              "    <tr>\n",
              "      <th>751190</th>\n",
              "      <td>4034500027</td>\n",
              "      <td>4</td>\n",
              "      <td>3450</td>\n",
              "      <td>27</td>\n",
              "      <td>NaN</td>\n",
              "      <td>TASKOV SLAVCO</td>\n",
              "      <td>C2</td>\n",
              "      <td>2A</td>\n",
              "      <td>27</td>\n",
              "      <td>100</td>\n",
              "      <td>...</td>\n",
              "      <td>AC-TR</td>\n",
              "      <td>QUEENS</td>\n",
              "      <td>40.700652</td>\n",
              "      <td>-73.908695</td>\n",
              "      <td>405.0</td>\n",
              "      <td>34.0</td>\n",
              "      <td>549.0</td>\n",
              "      <td>4082417.0</td>\n",
              "      <td>Ridgewood</td>\n",
              "      <td>POINT (-73.908695 40.700652)</td>\n",
              "    </tr>\n",
              "    <tr>\n",
              "      <th>85048</th>\n",
              "      <td>1010181133</td>\n",
              "      <td>1</td>\n",
              "      <td>1018</td>\n",
              "      <td>1133</td>\n",
              "      <td>NaN</td>\n",
              "      <td>SONG, STACEY CHEONG E</td>\n",
              "      <td>R4</td>\n",
              "      <td>2</td>\n",
              "      <td>0</td>\n",
              "      <td>0</td>\n",
              "      <td>...</td>\n",
              "      <td>AC-TR</td>\n",
              "      <td>MANHATTAN</td>\n",
              "      <td>40.759228</td>\n",
              "      <td>-73.986572</td>\n",
              "      <td>105.0</td>\n",
              "      <td>3.0</td>\n",
              "      <td>125.0</td>\n",
              "      <td>1024736.0</td>\n",
              "      <td>Midtown-Midtown South</td>\n",
              "      <td>POINT (-73.986572 40.759228)</td>\n",
              "    </tr>\n",
              "    <tr>\n",
              "      <th>242741</th>\n",
              "      <td>2036150014</td>\n",
              "      <td>2</td>\n",
              "      <td>3615</td>\n",
              "      <td>14</td>\n",
              "      <td>NaN</td>\n",
              "      <td>VALENTINE LERMA P</td>\n",
              "      <td>A1</td>\n",
              "      <td>1</td>\n",
              "      <td>25</td>\n",
              "      <td>100</td>\n",
              "      <td>...</td>\n",
              "      <td>AC-TR</td>\n",
              "      <td>BRONX</td>\n",
              "      <td>40.822674</td>\n",
              "      <td>-73.847643</td>\n",
              "      <td>209.0</td>\n",
              "      <td>18.0</td>\n",
              "      <td>90.0</td>\n",
              "      <td>2022502.0</td>\n",
              "      <td>Soundview-Castle Hill-Clason Point-Harding Park</td>\n",
              "      <td>POINT (-73.847643 40.822674)</td>\n",
              "    </tr>\n",
              "  </tbody>\n",
              "</table>\n",
              "<p>9000 rows × 40 columns</p>\n",
              "</div>"
            ],
            "text/plain": [
              "               bble  boro  block   lot easement                  owner bldgcl  \\\n",
              "8599213  4131400058     4  13140    58      NaN     FRANKLIN, BENJAMIN     B3   \n",
              "8424033  4054170050     4   5417    50      NaN        TOONG, SWEE HEE     B2   \n",
              "8673703  5015080194     5   1508   194      NaN          KIRK J CAHILL     B9   \n",
              "8359953  4031840024     4   3184    24      NaN     TENNENBAUM STERIAN     A5   \n",
              "8702897  5033920039     5   3392    39      NaN          VATHI, MAKSIM     A5   \n",
              "...             ...   ...    ...   ...      ...                    ...    ...   \n",
              "367880   3013100011     3   1310    11      NaN         HEBER, NECHAMA     B9   \n",
              "435305   3035690042     3   3569    42      NaN           ZHAI, YUNHUA     C0   \n",
              "751190   4034500027     4   3450    27      NaN          TASKOV SLAVCO     C2   \n",
              "85048    1010181133     1   1018  1133      NaN  SONG, STACEY CHEONG E     R4   \n",
              "242741   2036150014     2   3615    14      NaN      VALENTINE LERMA P     A1   \n",
              "\n",
              "        taxclass  ltfront  ltdepth  ... valtype    borough   latitude  \\\n",
              "8599213        1       60      100  ...   AC-TR     QUEENS  40.671320   \n",
              "8424033        1       40      100  ...   AC-TR     QUEENS  40.758494   \n",
              "8673703        1        0        0  ...   AC-TR  STATEN IS  40.616623   \n",
              "8359953        1       20      100  ...   AC-TR     QUEENS  40.717267   \n",
              "8702897        1       20      108  ...   AC-TR  STATEN IS  40.593730   \n",
              "...          ...      ...      ...  ...     ...        ...        ...   \n",
              "367880         1       26      120  ...   AC-TR   BROOKLYN  40.665214   \n",
              "435305         1       20      100  ...   AC-TR   BROOKLYN  40.662543   \n",
              "751190        2A       27      100  ...   AC-TR     QUEENS  40.700652   \n",
              "85048          2        0        0  ...   AC-TR  MANHATTAN  40.759228   \n",
              "242741         1       25      100  ...   AC-TR      BRONX  40.822674   \n",
              "\n",
              "         longitude  community_board  council_district  census_tract  \\\n",
              "8599213 -73.746622            413.0              31.0         650.0   \n",
              "8424033 -73.806138            407.0              20.0        1191.0   \n",
              "8673703 -74.149135            501.0              50.0         251.0   \n",
              "8359953 -73.855679            406.0              29.0         707.0   \n",
              "8702897 -74.078755            502.0              50.0          64.0   \n",
              "...            ...              ...               ...           ...   \n",
              "367880  -73.947644            309.0              35.0         331.0   \n",
              "435305  -73.914744            316.0              42.0         898.0   \n",
              "751190  -73.908695            405.0              34.0         549.0   \n",
              "85048   -73.986572            105.0               3.0         125.0   \n",
              "242741  -73.847643            209.0              18.0          90.0   \n",
              "\n",
              "               bin                                              nta  \\\n",
              "8599213  4282275.0                                        Laurelton   \n",
              "8424033  4615624.0                                    East Flushing   \n",
              "8673703  5106484.0                                    Port Richmond   \n",
              "8359953  4075531.0                                     Forest Hills   \n",
              "8702897  5149459.0                  Grasmere-Arrochar-Ft. Wadsworth   \n",
              "...            ...                                              ...   \n",
              "367880   3034565.0                              Crown Heights South   \n",
              "435305   3350588.0                                      Brownsville   \n",
              "751190   4082417.0                                        Ridgewood   \n",
              "85048    1024736.0                            Midtown-Midtown South   \n",
              "242741   2022502.0  Soundview-Castle Hill-Clason Point-Harding Park   \n",
              "\n",
              "                      geocoded_column  \n",
              "8599213   POINT (-73.746622 40.67132)  \n",
              "8424033  POINT (-73.806138 40.758494)  \n",
              "8673703  POINT (-74.149135 40.616623)  \n",
              "8359953  POINT (-73.855679 40.717267)  \n",
              "8702897   POINT (-74.078755 40.59373)  \n",
              "...                               ...  \n",
              "367880   POINT (-73.947644 40.665214)  \n",
              "435305   POINT (-73.914744 40.662543)  \n",
              "751190   POINT (-73.908695 40.700652)  \n",
              "85048    POINT (-73.986572 40.759228)  \n",
              "242741   POINT (-73.847643 40.822674)  \n",
              "\n",
              "[9000 rows x 40 columns]"
            ]
          },
          "metadata": {},
          "output_type": "display_data"
        }
      ],
      "source": [
        "import pandas as pd\n",
        "df = pd.read_csv('property_valuation_clean.csv')\n",
        "\n",
        "df_sample = df.groupby('year', group_keys=False).apply(lambda x: x.sample(n=1000, random_state=123))\n",
        "display(df_sample)"
      ]
    },
    {
      "cell_type": "code",
      "execution_count": null,
      "metadata": {
        "id": "2pk7YOHAmTrR"
      },
      "outputs": [],
      "source": [
        "df_sample.to_csv('property_valuation_sample_9000.csv', index=False)"
      ]
    },
    {
      "cell_type": "code",
      "execution_count": null,
      "metadata": {
        "colab": {
          "base_uri": "https://localhost:8080/"
        },
        "id": "gbvmq3OBSGXH",
        "outputId": "916bbea7-7364-40a4-ede7-7585c81a1231"
      },
      "outputs": [
        {
          "name": "stdout",
          "output_type": "stream",
          "text": [
            "Requirement already satisfied: neo4j in c:\\users\\lenovo\\anaconda3\\envs\\victoria\\lib\\site-packages (5.7.0)\n",
            "Requirement already satisfied: pytz in c:\\users\\lenovo\\anaconda3\\envs\\victoria\\lib\\site-packages (from neo4j) (2022.7)\n"
          ]
        }
      ],
      "source": [
        "!pip3 install -U neo4j"
      ]
    },
    {
      "cell_type": "markdown",
      "metadata": {
        "id": "4EhNgOwXvCyu"
      },
      "source": [
        "## A) Create graphbase"
      ]
    },
    {
      "cell_type": "code",
      "execution_count": null,
      "metadata": {
        "colab": {
          "base_uri": "https://localhost:8080/"
        },
        "id": "67dx-VOn7b6G",
        "outputId": "36b9c832-7277-473b-dfec-6610f987bc60"
      },
      "outputs": [
        {
          "name": "stdout",
          "output_type": "stream",
          "text": [
            "Successfully connected to Neo4j!\n"
          ]
        }
      ],
      "source": [
        "# Connect to neo4j\n",
        "from neo4j import GraphDatabase\n",
        "\n",
        "database_name = \"neo4j\"\n",
        "username = \"neo4j\"\n",
        "#database_name = \"project\"\n",
        "#username = \"apan5400\"\n",
        "password = \"apan5400\"\n",
        "uri = \"bolt://127.0.0.1:7687/\" + database_name\n",
        "\n",
        "driver = GraphDatabase.driver(uri, auth=(username, password))\n",
        "session = driver.session()\n",
        "\n",
        "print(\"Successfully connected to Neo4j!\")"
      ]
    },
    {
      "cell_type": "code",
      "execution_count": null,
      "metadata": {
        "id": "Vw0wBw9KSMvk",
        "outputId": "dcad1b17-546c-4cf0-8216-c9a9583e6b92"
      },
      "outputs": [
        {
          "name": "stdout",
          "output_type": "stream",
          "text": [
            "All Nodes and relationships are deleted!\n"
          ]
        }
      ],
      "source": [
        "# Delete all existing nodes and relationship\n",
        "query = (\"MATCH (n) DETACH DELETE n\")\n",
        "result = session.run(query)\n",
        "print(\"All Nodes and relationships are deleted!\")"
      ]
    },
    {
      "cell_type": "code",
      "execution_count": null,
      "metadata": {
        "id": "ri1crUrWmuAM",
        "outputId": "59340fcf-f425-4eef-e8f3-3d8b98f86cc6"
      },
      "outputs": [
        {
          "name": "stdout",
          "output_type": "stream",
          "text": [
            "file:///C:/Users/lenovo/Downloads/property_valuation_sample_9000.csv\n",
            "All properties are imported from a csv file!\n"
          ]
        }
      ],
      "source": [
        "# Import data\n",
        "import os\n",
        "import urllib\n",
        "\n",
        "datapath = \"C:/Users/lenovo/Downloads/property_valuation_sample_9000.csv\" # the path can't have space in it, so I use absolute path here\n",
        "print(\"file:///{0}\".format(datapath))\n",
        "query1 = (\"LOAD CSV WITH HEADERS FROM 'file:///{0}' AS line\".format(datapath)\n",
        "+ \"\"\"\n",
        "\n",
        "CREATE (property:Property { \\\n",
        "    bble: line.bble, \\\n",
        "    ltfront: line.ltfront, \\\n",
        "    ltdepth: toInteger(line.ltdepth), \\\n",
        "    stories: CASE WHEN toInteger(line.stories) IS NULL THEN 'NA' ELSE toInteger(line.stories) END, \\\n",
        "    ext: CASE WHEN line.ext IS NULL THEN 'NA' ELSE line.ext END, \\\n",
        "    zip: CASE WHEN line.zip IS NULL THEN 'NA' ELSE line.zip END} \\\n",
        "       )\n",
        "MERGE (building:Building { \\\n",
        "    bldgcl: line.bldgcl, \\\n",
        "    bldfront: toInteger(line.bldfront), \\\n",
        "    blddepth: toInteger(line.blddepth), \\\n",
        "    bin: CASE WHEN line.bin IS NULL THEN 0 ELSE toInteger(line.bin) END} \\\n",
        "       )\n",
        "MERGE (street:Street {street: CASE WHEN line.staddr IS NULL THEN 'NA' ELSE line.staddr END})\n",
        "MERGE (geocoordinate:GeoCoordinate { \\\n",
        "    latitude: CASE WHEN line.latitude IS NULL THEN 0.0 ELSE toFloat(line.latitude) END, \\\n",
        "    longitude: CASE WHEN line.longitude IS NULL THEN 0.0 ELSE toFloat(line.longitude) END} \\\n",
        "       )\n",
        "MERGE (owner:Owner {name: CASE WHEN line.owner IS NULL THEN 'NA' ELSE line.owner END})\n",
        "MERGE (year:Year {year: toInteger(line.year)})\n",
        "MERGE (marketvalue:MarketValue {value: toFloat(line.fullval)})\n",
        "MERGE (actualvalue:ActualValue {value: CASE WHEN line.avland2 IS NULL THEN 0.0 ELSE toFloat(line.avland2) END})\n",
        "MERGE (transactionalvalue:TransactionalValue {value: CASE WHEN line.avtot2 IS NULL THEN 0.0 ELSE toFloat(line.avtot2) END})\n",
        "MERGE (lot:Lot {lot: line.lot})\n",
        "MERGE (block:Block {block: line.block})\n",
        "MERGE (boro:Boro {boro: line.boro})\n",
        "\n",
        "MERGE (borough:Borough {name:\n",
        "    CASE line.boro\n",
        "        WHEN '1' THEN 'Manhattan'\n",
        "        WHEN '2' THEN 'Bronx'\n",
        "        WHEN '3' THEN 'Brooklyn'\n",
        "        WHEN '4' THEN 'Queens'\n",
        "        WHEN '5' THEN 'Staten Island'\n",
        "    END\n",
        "})\n",
        "\n",
        "MERGE (property)-[:IS_IN_BUILDING]->(building)\n",
        "MERGE (property)-[:IS_IN_LOT]->(lot)\n",
        "MERGE (lot)-[:IS_PART_OF_BLOCK]->(block)\n",
        "MERGE (block)-[:IS_PART_OF_BOROUGH]->(borough)\n",
        "MERGE (property)-[:IS_LOCATED_IN]->(geocoordinate)\n",
        "MERGE (property)-[:IS_ON_STREET]->(street)\n",
        "MERGE (property)-[:OWNED_BY]->(owner)\n",
        "MERGE (property)-[:VALUED_AT_YEAR]->(year)\n",
        "MERGE (property)-[:MARKET_VALUE]->(marketvalue)\n",
        "MERGE (property)-[:ACTUAL_VALUE]->(actualvalue)\n",
        "MERGE (property)-[:TRANSACTIONAL_VALUE]->(transactionalvalue)\n",
        "\n",
        "\"\"\"\n",
        "    )\n",
        "\n",
        "result1 = session.run(query1)\n",
        "print(\"All properties are imported from a csv file!\")"
      ]
    },
    {
      "cell_type": "markdown",
      "metadata": {
        "id": "sO2FZ053vCyw"
      },
      "source": [
        "## B) Analysis & Insights"
      ]
    },
    {
      "cell_type": "markdown",
      "metadata": {
        "id": "sRsiYjIp7hiD"
      },
      "source": [
        "### 1. Property valuation trend analysis"
      ]
    },
    {
      "cell_type": "code",
      "execution_count": null,
      "metadata": {
        "id": "hNqEC29JmtS-",
        "outputId": "5e888c32-9ecb-4778-cbd0-f360751321aa"
      },
      "outputs": [
        {
          "name": "stdout",
          "output_type": "stream",
          "text": [
            "The average market value of properties each year:\n",
            "\n",
            "2010 :    724,830\n",
            "2011 :    732,507\n",
            "2012 :  1,032,740\n",
            "2013 :  1,750,794\n",
            "2014 :    961,817\n",
            "2015 :  1,506,388\n",
            "2016 :  1,889,748\n",
            "2017 :    912,842\n",
            "2018 :  1,071,533\n"
          ]
        }
      ],
      "source": [
        "# Average market value of properties each year\n",
        "query2 = (\"\"\"MATCH (year:Year)<-[:VALUED_AT_YEAR]-(property:Property)-[:MARKET_VALUE]->(marketvalue:MarketValue)\n",
        "          RETURN year.year AS year, AVG(marketvalue.value) AS average_market_value\n",
        "          ORDER BY year\"\"\")\n",
        "result2 = session.run(query2)\n",
        "\n",
        "print(f\"The average market value of properties each year:\\n\")\n",
        "for record in result2:\n",
        "    print(f\"{record['year']:<5d}: {int(record['average_market_value']):>10,d}\")"
      ]
    },
    {
      "cell_type": "markdown",
      "metadata": {
        "id": "JqaEQ0pZDJ5d"
      },
      "source": [
        "### 2. Property Owners network analysis"
      ]
    },
    {
      "cell_type": "code",
      "execution_count": null,
      "metadata": {
        "id": "J7N214GPDMks",
        "outputId": "0784cff2-2846-4f75-9f5c-382b362ee531"
      },
      "outputs": [
        {
          "name": "stdout",
          "output_type": "stream",
          "text": [
            "Owner rank based on number of properties each owner owns:\n",
            "\n",
            "NA                            :   189\n",
            "PARKCHESTER PRESERVAT         :    48\n",
            "PARKS AND RECREATION          :    34\n",
            "HOUSING PRESERVATION          :    18\n",
            "OWNER / AGENT                 :    14\n",
            "CITY OF NEW YORK              :    13\n",
            "CNY/NYCTA                     :     9\n",
            "DEPT OF ENVIRONMENTAL         :     9\n",
            "DCAS                          :     8\n",
            "DCAS/DEPARTMENT OF ED         :     7\n",
            "D C A S                       :     5\n",
            "NYC DEPARTMENT OF EDU         :     4\n",
            "NYC HOUSING AUTHORITY         :     4\n",
            "KISSENA GARDENS CONDO         :     4\n",
            "DORCHESTER ASSOCIATES         :     4\n",
            "NEW YORK CITY HOUSING         :     3\n",
            "FIRE DEPARTMENT               :     3\n",
            "NYC HOSUING AUTHORITY         :     3\n",
            "PARCKHESTER PRESERVAT         :     3\n",
            "LINCOLN PLAZA ASSOCIA         :     3\n"
          ]
        }
      ],
      "source": [
        "# Owner rank based on number of properties\n",
        "query3 = (\"\"\"MATCH (p:Property)-[:OWNED_BY]->(o:Owner)\n",
        "          RETURN o.name AS owner, count(p) AS property_count\n",
        "          ORDER BY property_count DESC\n",
        "          limit 20\"\"\")\n",
        "result3 = session.run(query3)\n",
        "\n",
        "print(f\"Owner rank based on number of properties each owner owns:\\n\")\n",
        "for record in result3:\n",
        "    print(f\"{record['owner']:<30s}: {int(record['property_count']):>5,d}\")"
      ]
    },
    {
      "cell_type": "code",
      "execution_count": null,
      "metadata": {
        "id": "OKIOGbTwDOIY",
        "outputId": "84b8d2d4-e965-418c-b253-b7e62e73ef04"
      },
      "outputs": [
        {
          "name": "stdout",
          "output_type": "stream",
          "text": [
            "Owner rank based on number of properties each owner owns and their total market value:\n",
            "\n",
            "1. 1221 AVENUE HOLDINGS          :     1 properties, Total Market Value: $1,012,209,000\n",
            "2. THE CITY OF NEW YORK          :     2 properties, Total Market Value: $541,218,160\n",
            "3. NEW YORK STATE                :     1 properties, Total Market Value: $410,100,000\n",
            "4. JAMESTOWN PREMIER CHE         :     1 properties, Total Market Value: $386,111,111\n",
            "5. NY-717 FIFTH AVENUE,          :     1 properties, Total Market Value: $239,617,187\n",
            "6. PARKS AND RECREATION          :    34 properties, Total Market Value: $215,722,725\n",
            "7. HEALTH AND HOSPITALS          :     2 properties, Total Market Value: $171,750,000\n",
            "8. HP CHERRY STREET HOUS         :     1 properties, Total Market Value: $129,298,000\n",
            "9. DCAS/DEPARTMENT OF ED         :     7 properties, Total Market Value: $106,889,400\n",
            "10. DCAS                          :     8 properties, Total Market Value: $92,203,979\n",
            "11. NA                            :   189 properties, Total Market Value: $90,866,214\n",
            "12. RBNB WALL STREET OWNE         :     1 properties, Total Market Value: $84,500,000\n",
            "13. WYCKOFF HEIGHTS HOSPI         :     1 properties, Total Market Value: $70,209,000\n",
            "14. 509 MADISON AVE ASSOC         :     1 properties, Total Market Value: $65,927,000\n",
            "15. DORMITORY AUTHORITY O         :     1 properties, Total Market Value: $64,350,000\n",
            "16. NYC DEPARTMENT OF EDU         :     4 properties, Total Market Value: $63,718,000\n",
            "17. AUGUSTUS JAMES CORP.          :     1 properties, Total Market Value: $56,656,000\n",
            "18. S&P 26 DEVELOPMENT AS         :     1 properties, Total Market Value: $56,547,000\n",
            "19. 641 SIXTH FEE OWNER L         :     1 properties, Total Market Value: $56,024,000\n",
            "20. LPF SAGAMORE, INC.            :     1 properties, Total Market Value: $49,574,000\n"
          ]
        }
      ],
      "source": [
        "# Owner rank based on all properties' total market value\n",
        "query4 = (\"\"\"\n",
        "    MATCH (o:Owner)<-[:OWNED_BY]-(p:Property)-[:MARKET_VALUE]->(mv:MarketValue)\n",
        "    RETURN o.name AS owner, COUNT(p) AS property_count, SUM(mv.value) AS total_market_value\n",
        "    ORDER BY total_market_value DESC\n",
        "    limit 20\n",
        "\"\"\")\n",
        "result4 = session.run(query4)\n",
        "\n",
        "print(f\"Owner rank based on number of properties each owner owns and their total market value:\\n\")\n",
        "for i, record in enumerate(result4):\n",
        "    print(f\"{i+1}. {record['owner']:<30s}: {int(record['property_count']):>5,d} properties, Total Market Value: ${int(record['total_market_value']):,.0f}\")"
      ]
    },
    {
      "cell_type": "code",
      "execution_count": null,
      "metadata": {
        "id": "jqLiwuNADPwt",
        "outputId": "5f8ab6ee-d537-4f9b-c9a1-330157cd23b8"
      },
      "outputs": [
        {
          "name": "stdout",
          "output_type": "stream",
          "text": [
            "Owner's all properties by boroughs\n",
            "\n",
            "NA                            : 5,192 in Queens, Staten Island, Manhattan, Brooklyn, Bronx\n",
            "PARKS AND RECREATION          : 4,613 in Queens, Staten Island, Manhattan, Brooklyn, Bronx\n",
            "HOUSING PRESERVATION          : 1,978 in Queens, Staten Island, Manhattan, Brooklyn, Bronx\n",
            "CITY OF NEW YORK              : 1,222 in Queens, Staten Island, Manhattan, Brooklyn, Bronx\n",
            "DEPT OF ENVIRONMENTAL         : 1,215 in Queens, Staten Island, Manhattan, Brooklyn, Bronx\n",
            "DCAS                          : 1,100 in Queens, Staten Island, Manhattan, Brooklyn, Bronx\n",
            "DCAS/DEPARTMENT OF ED         :   901 in Queens, Staten Island, Manhattan, Brooklyn, Bronx\n",
            "CNY/NYCTA                     :   788 in Queens, Staten Island, Manhattan, Brooklyn, Bronx\n",
            "OWNER / AGENT                 :   667 in Queens, Staten Island, Manhattan, Brooklyn, Bronx\n",
            "POLICE DEPARTMENT             :   504 in Queens, Staten Island, Manhattan, Brooklyn, Bronx\n",
            "NYC PARKS                     :   503 in Queens, Staten Island, Manhattan, Brooklyn, Bronx\n",
            "BOARD OF EDUCATION            :   433 in Queens, Staten Island, Manhattan, Brooklyn, Bronx\n",
            "NYC DEPARTMENT OF EDU         :   421 in Queens, Staten Island, Manhattan, Brooklyn, Bronx\n",
            "KEYSPAN ENERGY                :   401 in Queens, Staten Island, Manhattan, Brooklyn, Bronx\n",
            "NYC HOUSING AUTHORITY         :   400 in Queens, Staten Island, Manhattan, Brooklyn, Bronx\n",
            "FIRE DEPARTMENT               :   382 in Queens, Staten Island, Manhattan, Brooklyn, Bronx\n",
            "HEALTH AND HOSPITALS          :   368 in Queens, Staten Island, Manhattan, Brooklyn, Bronx\n",
            "NYC HOSUING AUTHORITY         :   359 in Queens, Staten Island, Manhattan, Brooklyn, Bronx\n",
            "NYC DEPT OF HIGHWAYS          :   299 in Queens, Staten Island, Manhattan, Brooklyn, Bronx\n",
            "OLSEN RICHARD                 :   296 in Queens, Staten Island, Manhattan, Brooklyn, Bronx\n"
          ]
        }
      ],
      "source": [
        "# Owner's all properties by boroughs\n",
        "query5 = (\"\"\"MATCH (b:Borough)-[*1..3]-(p:Property)-[:OWNED_BY]->(o:Owner)\n",
        "          RETURN o.name AS owner, count(p) AS property_count, collect(distinct b.name) as boroughs\n",
        "          ORDER BY property_count desc\n",
        "          limit 20\n",
        "          \"\"\")\n",
        "result5 = session.run(query5)\n",
        "\n",
        "print(f\"Owner's all properties by boroughs\\n\")\n",
        "for record in result5:\n",
        "    owner = record['owner']\n",
        "    property_count = int(record['property_count'])\n",
        "    print(f\"{owner:<30s}: {property_count:>5,d} in {', '.join(record['boroughs'])}\")"
      ]
    },
    {
      "cell_type": "code",
      "execution_count": null,
      "metadata": {
        "id": "S6ZN6KY4DRLa",
        "outputId": "f067f6fc-9545-49c0-e9a5-3dd798c8ecfc"
      },
      "outputs": [
        {
          "name": "stdout",
          "output_type": "stream",
          "text": [
            "Group owners (Top 10) by borough:\n",
            "\n",
            "\n",
            "Bronx:\n",
            "PARKS AND RECREATION          :   482\n",
            "NA                            :   348\n",
            "HOUSING PRESERVATION          :   199\n",
            "CITY OF NEW YORK              :   145\n",
            "DEPT OF ENVIRONMENTAL         :   117\n",
            "DCAS                          :   113\n",
            "CNY/NYCTA                     :    98\n",
            "DCAS/DEPARTMENT OF ED         :    94\n",
            "FIRE DEPARTMENT               :    54\n",
            "NYC DEPARTMENT OF EDU         :    54\n",
            "\n",
            "Brooklyn:\n",
            "NA                            : 1,811\n",
            "PARKS AND RECREATION          : 1,444\n",
            "HOUSING PRESERVATION          :   652\n",
            "DEPT OF ENVIRONMENTAL         :   377\n",
            "CITY OF NEW YORK              :   372\n",
            "DCAS                          :   350\n",
            "DCAS/DEPARTMENT OF ED         :   283\n",
            "CNY/NYCTA                     :   238\n",
            "OWNER / AGENT                 :   199\n",
            "NYC PARKS                     :   161\n",
            "\n",
            "Manhattan:\n",
            "NA                            :   891\n",
            "PARKS AND RECREATION          :   369\n",
            "HOUSING PRESERVATION          :   157\n",
            "DEPT OF ENVIRONMENTAL         :   109\n",
            "CITY OF NEW YORK              :   103\n",
            "OWNER / AGENT                 :    94\n",
            "DCAS                          :    80\n",
            "CNY/NYCTA                     :    65\n",
            "DCAS/DEPARTMENT OF ED         :    58\n",
            "POLICE DEPARTMENT             :    43\n",
            "\n",
            "Queens:\n",
            "PARKS AND RECREATION          : 1,627\n",
            "NA                            : 1,451\n",
            "HOUSING PRESERVATION          :   714\n",
            "DEPT OF ENVIRONMENTAL         :   428\n",
            "CITY OF NEW YORK              :   420\n",
            "DCAS                          :   402\n",
            "DCAS/DEPARTMENT OF ED         :   342\n",
            "CNY/NYCTA                     :   276\n",
            "OWNER / AGENT                 :   228\n",
            "NYC PARKS                     :   185\n",
            "\n",
            "Staten Island:\n",
            "PARKS AND RECREATION          :   691\n",
            "NA                            :   691\n",
            "HOUSING PRESERVATION          :   256\n",
            "DEPT OF ENVIRONMENTAL         :   184\n",
            "CITY OF NEW YORK              :   182\n",
            "DCAS                          :   155\n",
            "DCAS/DEPARTMENT OF ED         :   124\n",
            "CNY/NYCTA                     :   111\n",
            "OWNER / AGENT                 :   100\n",
            "POLICE DEPARTMENT             :    86\n"
          ]
        }
      ],
      "source": [
        "# Group owners by borough (Top 10 owners per borough based on property_count)\n",
        "query6 = (\"\"\"\n",
        "    MATCH (b:Borough)-[*1..3]-(p:Property)-[:OWNED_BY]->(o:Owner)\n",
        "    WITH b.name AS borough, o.name AS owner, count(p) AS property_count\n",
        "    ORDER BY borough, property_count desc\n",
        "    RETURN borough, collect({owner: owner, property_count: property_count})[0..10] AS top_owners\n",
        "    \"\"\")\n",
        "result6 = session.run(query6)\n",
        "\n",
        "print(f\"Group owners (Top 10) by borough:\\n\")\n",
        "for record in result6:\n",
        "    borough = record['borough']\n",
        "    top_owners = record['top_owners']\n",
        "    print(f\"\\n{borough}:\")\n",
        "    for owner_info in top_owners:\n",
        "        owner = owner_info['owner']\n",
        "        property_count = int(owner_info['property_count'])\n",
        "        print(f\"{owner:<30s}: {property_count:>5,d}\")"
      ]
    },
    {
      "cell_type": "markdown",
      "metadata": {
        "id": "f-_qypt2DNCk"
      },
      "source": [
        "### 3. Spatial analysis"
      ]
    },
    {
      "cell_type": "code",
      "execution_count": null,
      "metadata": {
        "id": "HVtcb7-uDTXq",
        "outputId": "83801310-c6c9-4a7b-ef5f-73e8350b04e1"
      },
      "outputs": [
        {
          "name": "stdout",
          "output_type": "stream",
          "text": [
            "Properties by borough:\n",
            "\n",
            "Queens         :    258,301 properties, total market value: $444,517,261,943\n",
            "Brooklyn       :    244,482 properties, total market value: $404,124,272,337\n",
            "Staten Island  :    102,733 properties, total market value: $175,823,425,449\n",
            "Bronx          :     78,764 properties, total market value: $123,894,055,529\n",
            "Manhattan      :     63,618 properties, total market value: $97,074,926,841\n"
          ]
        }
      ],
      "source": [
        "# Properties by borough\n",
        "query7 = (\"\"\"\n",
        "          MATCH (b:Borough)-[*1..3]-(p:Property)-[:MARKET_VALUE]->(marketvalue:MarketValue)\n",
        "          WITH b.name AS borough, count(p) AS property_count, sum(marketvalue.value) AS total_market_value\n",
        "          RETURN borough, property_count, total_market_value\n",
        "          ORDER BY total_market_value DESC\n",
        "          \"\"\")\n",
        "result7 = session.run(query7)\n",
        "\n",
        "print(f\"Properties by borough:\\n\")\n",
        "for record in result7:\n",
        "    borough = record['borough']\n",
        "    property_count = int(record['property_count'])\n",
        "    total_market_value = record['total_market_value']\n",
        "    print(f\"{borough:<15s}: {property_count:>10,d} properties, total market value: ${total_market_value:,.0f}\")"
      ]
    },
    {
      "cell_type": "code",
      "execution_count": null,
      "metadata": {
        "id": "aqFqC2MHDVwD",
        "outputId": "c8895d07-2395-4f71-8909-5c89cc9392ac"
      },
      "outputs": [
        {
          "name": "stdout",
          "output_type": "stream",
          "text": [
            "Properties by zip code:\n",
            "\n",
            "Zip code: 10020     :          2 properties, total market value: $1,038,691,064\n",
            "Zip code: 10007     :         10 properties, total market value: $571,699,692\n",
            "Zip code: 10011     :         60 properties, total market value: $539,705,439\n",
            "Zip code: 11420     :         77 properties, total market value: $443,070,000\n",
            "Zip code: 10022     :         44 properties, total market value: $348,677,582\n",
            "Zip code: NA        :        246 properties, total market value: $245,898,816\n",
            "Zip code: 11203     :         81 properties, total market value: $208,410,517\n",
            "Zip code: 10065     :         50 properties, total market value: $141,368,462\n",
            "Zip code: 10002     :         14 properties, total market value: $140,411,513\n",
            "Zip code: 10024     :         34 properties, total market value: $138,292,610\n",
            "Zip code: 10027     :         31 properties, total market value: $131,086,621\n",
            "Zip code: 10075     :         28 properties, total market value: $125,529,435\n",
            "Zip code: 11234     :        207 properties, total market value: $116,737,819\n",
            "Zip code: 10023     :         89 properties, total market value: $112,070,311\n",
            "Zip code: 10001     :         12 properties, total market value: $108,233,389\n",
            "Zip code: 11215     :         93 properties, total market value: $108,228,597\n",
            "Zip code: 10019     :         78 properties, total market value: $107,425,711\n",
            "Zip code: 10013     :         63 properties, total market value: $103,922,611\n",
            "Zip code: 10314     :        202 properties, total market value: $98,488,489\n",
            "Zip code: 11223     :        101 properties, total market value: $98,270,656\n"
          ]
        }
      ],
      "source": [
        "# Properties by zip code\n",
        "query8 = (\"\"\"\n",
        "          MATCH (p:Property)-[:MARKET_VALUE]->(marketvalue:MarketValue)\n",
        "          WITH p.zip AS zip, count(p) AS property_count, sum(marketvalue.value) AS total_market_value\n",
        "          RETURN zip, property_count, total_market_value\n",
        "          ORDER BY total_market_value DESC\n",
        "          limit 20\n",
        "          \"\"\")\n",
        "result8 = session.run(query8)\n",
        "\n",
        "print(f\"Properties by zip code:\\n\")\n",
        "for record in result8:\n",
        "    if record['zip'] != 'NA':\n",
        "        zip_code = int(str(record['zip']).replace('.0', ''))\n",
        "    else:\n",
        "        zip_code = 'NA'\n",
        "    property_count = int(record['property_count'])\n",
        "    total_market_value = record['total_market_value']\n",
        "    print(f\"Zip code: {zip_code:<10}: {property_count:>10,d} properties, total market value: ${total_market_value:,.0f}\")"
      ]
    },
    {
      "cell_type": "code",
      "execution_count": null,
      "metadata": {
        "id": "TwDlxQEtDXeC",
        "outputId": "5442ade2-0b0d-47b5-acff-452dca267a5d"
      },
      "outputs": [
        {
          "name": "stdout",
          "output_type": "stream",
          "text": [
            "Top 10 zip codes by average market value per year:\n",
            "\n",
            "In 2010:\n",
            "1. Zip code 10005   : Average property market value: $42,371,126\n",
            "2. Zip code 10027   : Average property market value: $10,034,667\n",
            "3. Zip code 10075   : Average property market value: $3,427,535\n",
            "4. Zip code 10455   : Average property market value: $3,010,375\n",
            "5. Zip code 10303   : Average property market value: $2,473,094\n",
            "6. Zip code 10028   : Average property market value: $2,066,806\n",
            "7. Zip code 10304   : Average property market value: $1,925,788\n",
            "8. Zip code 10014   : Average property market value: $1,617,497\n",
            "9. Zip code 10001   : Average property market value: $1,540,000\n",
            "10. Zip code 10018   : Average property market value: $1,433,021\n",
            "\n",
            "\n",
            "In 2011:\n",
            "1. Zip code 10038   : Average property market value: $13,871,550\n",
            "2. Zip code 10024   : Average property market value: $10,836,433\n",
            "3. Zip code 11239   : Average property market value: $5,586,000\n",
            "4. Zip code 10009   : Average property market value: $5,097,667\n",
            "5. Zip code 10065   : Average property market value: $4,009,740\n",
            "6. Zip code 10010   : Average property market value: $3,800,583\n",
            "7. Zip code 10032   : Average property market value: $3,234,000\n",
            "8. Zip code 11225   : Average property market value: $2,045,333\n",
            "9. Zip code 11203   : Average property market value: $2,019,286\n",
            "10. Zip code 10012   : Average property market value: $1,738,296\n",
            "\n",
            "\n",
            "In 2012:\n",
            "1. Zip code 10004   : Average property market value: $44,748,000\n",
            "2. Zip code 10001   : Average property market value: $35,761,000\n",
            "3. Zip code 10022   : Average property market value: $24,133,252\n",
            "4. Zip code 10451   : Average property market value: $12,144,404\n",
            "5. Zip code 10018   : Average property market value: $11,281,000\n",
            "6. Zip code 11237   : Average property market value: $10,237,056\n",
            "7. Zip code 10014   : Average property market value: $5,608,775\n",
            "8. Zip code 10037   : Average property market value: $4,964,725\n",
            "9. Zip code 10075   : Average property market value: $4,527,500\n",
            "10. Zip code 10463   : Average property market value: $1,972,000\n",
            "\n",
            "\n",
            "In 2013:\n",
            "1. Zip code 10020   : Average property market value: $519,345,532\n",
            "2. Zip code 10007   : Average property market value: $11,452,639\n",
            "3. Zip code 11372   : Average property market value: $6,869,312\n",
            "4. Zip code 10010   : Average property market value: $6,292,663\n",
            "5. Zip code 10065   : Average property market value: $4,848,901\n",
            "6. Zip code 10128   : Average property market value: $3,225,264\n",
            "7. Zip code 10034   : Average property market value: $3,134,000\n",
            "8. Zip code 11220   : Average property market value: $2,597,568\n",
            "9. Zip code 10003   : Average property market value: $2,564,677\n",
            "10. Zip code 10012   : Average property market value: $2,464,036\n",
            "\n",
            "\n",
            "In 2014:\n",
            "1. Zip code 10457   : Average property market value: $14,197,000\n",
            "2. Zip code 10112   : Average property market value: $14,074,581\n",
            "3. Zip code 10022   : Average property market value: $11,525,652\n",
            "4. Zip code 10027   : Average property market value: $9,260,250\n",
            "5. Zip code 10013   : Average property market value: $6,555,309\n",
            "6. Zip code 10033   : Average property market value: $5,787,000\n",
            "7. Zip code 10065   : Average property market value: $4,272,984\n",
            "8. Zip code 11212   : Average property market value: $4,156,000\n",
            "9. Zip code 10023   : Average property market value: $4,054,283\n",
            "10. Zip code 11355   : Average property market value: $3,840,340\n",
            "\n",
            "\n",
            "In 2015:\n",
            "1. Zip code 10007   : Average property market value: $270,721,042\n",
            "2. Zip code 11203   : Average property market value: $11,224,800\n",
            "3. Zip code NA      : Average property market value: $6,319,592\n",
            "4. Zip code 11104   : Average property market value: $5,909,131\n",
            "5. Zip code 10475   : Average property market value: $4,498,000\n",
            "6. Zip code 10017   : Average property market value: $3,568,939\n",
            "7. Zip code 10452   : Average property market value: $3,074,500\n",
            "8. Zip code 10012   : Average property market value: $3,015,785\n",
            "9. Zip code 10458   : Average property market value: $2,311,500\n",
            "10. Zip code 11208   : Average property market value: $2,124,643\n",
            "\n",
            "\n",
            "In 2016:\n",
            "1. Zip code 10011   : Average property market value: $48,839,446\n",
            "2. Zip code 11420   : Average property market value: $41,423,700\n",
            "3. Zip code 10453   : Average property market value: $13,324,400\n",
            "4. Zip code 10075   : Average property market value: $12,339,915\n",
            "5. Zip code 10001   : Average property market value: $11,668,000\n",
            "6. Zip code 10457   : Average property market value: $9,910,500\n",
            "7. Zip code 11426   : Average property market value: $8,521,875\n",
            "8. Zip code 10040   : Average property market value: $8,213,000\n",
            "9. Zip code 10029   : Average property market value: $7,631,156\n",
            "10. Zip code 10019   : Average property market value: $6,684,215\n",
            "\n",
            "\n",
            "In 2017:\n",
            "1. Zip code 10011   : Average property market value: $9,586,390\n",
            "2. Zip code 10038   : Average property market value: $9,230,000\n",
            "3. Zip code 10004   : Average property market value: $8,632,849\n",
            "4. Zip code 10021   : Average property market value: $6,851,749\n",
            "5. Zip code 10001   : Average property market value: $5,387,446\n",
            "6. Zip code 10075   : Average property market value: $5,290,171\n",
            "7. Zip code 10065   : Average property market value: $4,207,500\n",
            "8. Zip code 10014   : Average property market value: $3,968,762\n",
            "9. Zip code 10007   : Average property market value: $3,391,305\n",
            "10. Zip code 11232   : Average property market value: $3,014,200\n",
            "\n",
            "\n",
            "In 2018:\n",
            "1. Zip code 10002   : Average property market value: $129,298,000\n",
            "2. Zip code 10024   : Average property market value: $10,950,000\n",
            "3. Zip code 10027   : Average property market value: $8,401,563\n",
            "4. Zip code 10458   : Average property market value: $5,026,000\n",
            "5. Zip code 11415   : Average property market value: $4,902,000\n",
            "6. Zip code 10028   : Average property market value: $4,774,381\n",
            "7. Zip code 10009   : Average property market value: $4,532,000\n",
            "8. Zip code 10065   : Average property market value: $4,402,398\n",
            "9. Zip code 10472   : Average property market value: $4,305,429\n",
            "10. Zip code 10012   : Average property market value: $3,625,195\n",
            "\n",
            "\n"
          ]
        }
      ],
      "source": [
        "# average market value of properties based on zip code of each years\n",
        "query9 = (\"\"\"\n",
        "          MATCH (marketvalue:MarketValue)<-[:MARKET_VALUE]-(p:Property)-[:VALUED_AT_YEAR]->(year:Year)\n",
        "          WITH year.year AS year, p.zip AS zip_code, avg(marketvalue.value) AS avg_market_value\n",
        "          ORDER BY year, avg_market_value DESC\n",
        "          RETURN year, COLLECT({zip_code: zip_code, avg_market_value: avg_market_value})[0..10] AS top_zip_codes\n",
        "          \"\"\")\n",
        "\n",
        "result9 = session.run(query9)\n",
        "\n",
        "print(f\"Top 10 zip codes by average market value per year:\\n\")\n",
        "for record in result9:\n",
        "    year = record['year']\n",
        "    top_zip_codes = record['top_zip_codes']\n",
        "    print(f\"In {year}:\")\n",
        "    for i, zip_data in enumerate(top_zip_codes):\n",
        "        zip_code = str(zip_data['zip_code']).replace('.0', '')[:5]\n",
        "        avg_market_value = zip_data['avg_market_value']\n",
        "        print(f\"{i+1}. Zip code {zip_code:<7} : Average property market value: ${avg_market_value:,.0f}\")\n",
        "    print(\"\\n\")\n"
      ]
    },
    {
      "cell_type": "code",
      "execution_count": null,
      "metadata": {
        "id": "Cp8eneJNDYzQ",
        "outputId": "cedae7f7-93c5-4926-b116-84231944ed09"
      },
      "outputs": [
        {
          "name": "stdout",
          "output_type": "stream",
          "text": [
            "Average market value by zip code and year:\n",
            "\n",
            "          Bronx :  Average property market value in  2010 :  $928,841\n",
            "          Bronx :  Average property market value in  2011 :  $979,117\n",
            "          Bronx :  Average property market value in  2012 :  $1,056,503\n",
            "          Bronx :  Average property market value in  2013 :  $2,230,276\n",
            "          Bronx :  Average property market value in  2014 :  $1,208,295\n",
            "          Bronx :  Average property market value in  2015 :  $2,217,337\n",
            "          Bronx :  Average property market value in  2016 :  $2,908,119\n",
            "          Bronx :  Average property market value in  2017 :  $1,163,337\n",
            "          Bronx :  Average property market value in  2018 :  $1,516,181\n",
            "       Brooklyn :  Average property market value in  2010 :  $922,519\n",
            "       Brooklyn :  Average property market value in  2011 :  $893,572\n",
            "       Brooklyn :  Average property market value in  2012 :  $1,061,967\n",
            "       Brooklyn :  Average property market value in  2013 :  $2,905,634\n",
            "       Brooklyn :  Average property market value in  2014 :  $1,167,516\n",
            "       Brooklyn :  Average property market value in  2015 :  $2,220,639\n",
            "       Brooklyn :  Average property market value in  2016 :  $2,963,816\n",
            "       Brooklyn :  Average property market value in  2017 :  $1,145,961\n",
            "       Brooklyn :  Average property market value in  2018 :  $1,608,590\n",
            "      Manhattan :  Average property market value in  2010 :  $904,726\n",
            "      Manhattan :  Average property market value in  2011 :  $915,288\n",
            "      Manhattan :  Average property market value in  2012 :  $1,148,438\n",
            "      Manhattan :  Average property market value in  2013 :  $1,871,713\n",
            "      Manhattan :  Average property market value in  2014 :  $1,240,673\n",
            "      Manhattan :  Average property market value in  2015 :  $2,207,238\n",
            "      Manhattan :  Average property market value in  2016 :  $2,700,268\n",
            "      Manhattan :  Average property market value in  2017 :  $1,185,098\n",
            "      Manhattan :  Average property market value in  2018 :  $1,589,880\n",
            "         Queens :  Average property market value in  2010 :  $932,112\n",
            "         Queens :  Average property market value in  2011 :  $971,192\n",
            "         Queens :  Average property market value in  2012 :  $1,086,043\n",
            "         Queens :  Average property market value in  2013 :  $2,572,560\n",
            "         Queens :  Average property market value in  2014 :  $1,176,463\n",
            "         Queens :  Average property market value in  2015 :  $2,491,839\n",
            "         Queens :  Average property market value in  2016 :  $3,291,017\n",
            "         Queens :  Average property market value in  2017 :  $1,215,266\n",
            "         Queens :  Average property market value in  2018 :  $1,745,032\n",
            "  Staten Island :  Average property market value in  2010 :  $952,100\n",
            "  Staten Island :  Average property market value in  2011 :  $999,698\n",
            "  Staten Island :  Average property market value in  2012 :  $1,074,997\n",
            "  Staten Island :  Average property market value in  2013 :  $2,235,331\n",
            "  Staten Island :  Average property market value in  2014 :  $1,192,328\n",
            "  Staten Island :  Average property market value in  2015 :  $2,624,795\n",
            "  Staten Island :  Average property market value in  2016 :  $3,291,605\n",
            "  Staten Island :  Average property market value in  2017 :  $1,221,177\n",
            "  Staten Island :  Average property market value in  2018 :  $1,837,568\n"
          ]
        }
      ],
      "source": [
        "# average market value of properties based on borough of each years\n",
        "query10 = (\"\"\"\n",
        "          MATCH (marketvalue:MarketValue)<-[:MARKET_VALUE]-(p:Property)-[:VALUED_AT_YEAR]->(year:Year)\n",
        "          MATCH (p)-[*1..3]-(b:Borough)\n",
        "          WITH year.year AS year, b.name AS borough, avg(marketvalue.value) AS avg_market_value\n",
        "          RETURN year, borough, avg_market_value\n",
        "          ORDER BY borough, year\n",
        "          \"\"\")\n",
        "result10 = session.run(query10)\n",
        "\n",
        "print(f\"Average market value by zip code and year:\\n\")\n",
        "for record in result10:\n",
        "    borough = record['borough']\n",
        "    avg_market_value = record['avg_market_value']\n",
        "    print(f\"{borough:>15} :  Average property market value in  {record['year']} :  ${avg_market_value:,.0f}\")"
      ]
    },
    {
      "cell_type": "markdown",
      "metadata": {
        "id": "3aB9MOIJDaX3"
      },
      "source": [
        "### 4. Property Transaction History Analysis"
      ]
    },
    {
      "cell_type": "code",
      "execution_count": null,
      "metadata": {
        "id": "ELcRtABLDa-F",
        "outputId": "936febb5-775e-4465-c100-76ecb7451d47"
      },
      "outputs": [
        {
          "name": "stdout",
          "output_type": "stream",
          "text": [
            "Transactions for each property:\n",
            "\n",
            "Property BBLE: 1000041002, Year: 2017, Transaction Value: $3,614,931 , Market Value: $8,632,849\n",
            "Property BBLE: 1000151003, Year: 2012, Transaction Value: $19,865,940, Market Value: $44,748,000\n",
            "Property BBLE: 1000151224, Year: 2015, Transaction Value: $69,601    , Market Value: $174,458\n",
            "Property BBLE: 1000161129, Year: 2010, Transaction Value: $57,610    , Market Value: $139,125\n",
            "Property BBLE: 1000161158, Year: 2010, Transaction Value: $49,371    , Market Value: $119,232\n",
            "Property BBLE: 1000161588, Year: 2014, Transaction Value: $214,123   , Market Value: $513,685\n",
            "Property BBLE: 1000161735, Year: 2013, Transaction Value: $91,594    , Market Value: $222,177\n",
            "Property BBLE: 1000161917, Year: 2011, Transaction Value: $173,731   , Market Value: $550,522\n",
            "Property BBLE: 1000162022, Year: 2015, Transaction Value: $81,580    , Market Value: $212,060\n",
            "Property BBLE: 1000162203, Year: 2018, Transaction Value: $82,443    , Market Value: $203,120\n"
          ]
        }
      ],
      "source": [
        "# all transactions of a property\n",
        "query11 = (\"\"\"\n",
        "          MATCH (p:Property)-[:VALUED_AT_YEAR]->(y:Year)\n",
        "          MATCH (mv:MarketValue)<-[:MARKET_VALUE]-(p)-[:TRANSACTIONAL_VALUE]->(tv:TransactionalValue)\n",
        "          WITH p.bble AS bble, y.year AS year, tv.value AS transactional_value, mv.value AS market_value\n",
        "          RETURN bble, year, transactional_value, market_value\n",
        "          ORDER BY bble, year\n",
        "          limit 10\n",
        "          \"\"\")\n",
        "result11 = session.run(query11)\n",
        "\n",
        "print(f\"Transactions for each property:\\n\")\n",
        "for record in result11:\n",
        "    bble = record['bble']\n",
        "    year = record['year']\n",
        "    transactional_value = record['transactional_value']\n",
        "    market_value = record['market_value']\n",
        "    print(f\"Property BBLE: {bble}, Year: {year}, Transaction Value: ${transactional_value:<10,.0f}, Market Value: ${market_value:,.0f}\")"
      ]
    },
    {
      "cell_type": "code",
      "execution_count": null,
      "metadata": {
        "id": "cw-f7I4HDdrt",
        "outputId": "9ebeb94d-9f0e-4627-afc5-84472762b96d"
      },
      "outputs": [
        {
          "name": "stdout",
          "output_type": "stream",
          "text": [
            "Owners of each property:\n",
            "\n",
            "Property BBLE: 4012060027, Current Owner: LUIS A CHAPARRO, Past Owners: \n",
            "Property BBLE: 2055230147, Current Owner: CORDOVA, JAMIL, Past Owners: \n",
            "Property BBLE: 1008591332, Current Owner: KOPPISETY, JAGDISH, Past Owners: \n",
            "Property BBLE: 4061860004, Current Owner: YEGHAZARIAN, FREDRIK, Past Owners: \n",
            "Property BBLE: 4048610059, Current Owner: OLIVERI, GIUSEPPINA, Past Owners: \n",
            "Property BBLE: 4050511009, Current Owner: HUANG, JIANSONG, Past Owners: \n",
            "Property BBLE: 4028700027, Current Owner: HUI, CHIU, Past Owners: \n",
            "Property BBLE: 1011711831, Current Owner: BRADY, CHRISTOPHER, Past Owners: \n",
            "Property BBLE: 2038090028, Current Owner: MOHAMED F MUNIEM, Past Owners: \n",
            "Property BBLE: 5032640010, Current Owner: RODRIGUEZ, MICHELLE, Past Owners: \n"
          ]
        }
      ],
      "source": [
        "# current & historic owners of a property\n",
        "query12 = (\"\"\"\n",
        "          MATCH (o:Owner)<-[:OWNED_BY]-(property:Property)\n",
        "          MATCH (:Year {year: 2018})<-[:VALUED_AT_YEAR]-(property:Property)-[:OWNED_BY]->(current_owner:Owner)\n",
        "          WITH property.bble AS bble, current_owner, COLLECT(DISTINCT o.name) AS owners\n",
        "          UNWIND owners AS all_owners\n",
        "          WITH bble, current_owner, owners, COLLECT(DISTINCT all_owners) AS all_owners\n",
        "          RETURN bble, current_owner.name AS current_owner, [owner IN all_owners WHERE owner <> current_owner.name] AS past_owners\n",
        "          limit 10\n",
        "          \"\"\")\n",
        "result12 = session.run(query12)\n",
        "\n",
        "print(f\"Owners of each property:\\n\")\n",
        "for record in result12:\n",
        "    bble = record['bble']\n",
        "    current_owner = record['current_owner']\n",
        "    past_owners = record['past_owners']\n",
        "    print(f\"Property BBLE: {bble}, Current Owner: {current_owner}, Past Owners: {', '.join(past_owners)}\")"
      ]
    },
    {
      "cell_type": "markdown",
      "metadata": {
        "id": "GVHAgUiVDe6v"
      },
      "source": [
        "### 5. Building and Lot Size Analysis"
      ]
    },
    {
      "cell_type": "code",
      "execution_count": null,
      "metadata": {
        "id": "icvI6ZU4DfkJ",
        "outputId": "0704a879-7712-4329-9c0a-ffab4e3dd1a8"
      },
      "outputs": [
        {
          "name": "stdout",
          "output_type": "stream",
          "text": [
            "Size and Valuation for each Property by Year:\n",
            "\n",
            "Market Value: $  1,012,209,000,  Lot Width:   200, Lot Depth:   526, Building Width:   192, Building Depth:   494, Year: 2013, BBLE: 1010010029 \n",
            "--------------------------------------------------------------------------------------------------\n",
            "Market Value: $    541,218,000,  Lot Width:   239, Lot Depth:   183, Building Width:   200, Building Depth:   200, Year: 2015, BBLE: 1000840036 \n",
            "--------------------------------------------------------------------------------------------------\n",
            "Market Value: $    410,100,000,  Lot Width:  3034, Lot Depth:  1000, Building Width:   700, Building Depth:   700, Year: 2016, BBLE: 4115430002 \n",
            "--------------------------------------------------------------------------------------------------\n",
            "Market Value: $    386,111,111,  Lot Width:   206, Lot Depth:   800, Building Width:   206, Building Depth:   800, Year: 2016, BBLE: 1007130001 \n",
            "--------------------------------------------------------------------------------------------------\n",
            "Market Value: $    239,617,187,  Lot Width:     0, Lot Depth:     0, Building Width:    80, Building Depth:   242, Year: 2012, BBLE: 1012911303 \n",
            "--------------------------------------------------------------------------------------------------\n",
            "Market Value: $    160,079,000,  Lot Width:   671, Lot Depth:   626, Building Width:   120, Building Depth:    45, Year: 2015, BBLE: 3048120001 \n",
            "--------------------------------------------------------------------------------------------------\n",
            "Market Value: $    137,048,000,  Lot Width:   260, Lot Depth:   426, Building Width:     0, Building Depth:     0, Year: 2015, BBLE: 4077230010 \n",
            "--------------------------------------------------------------------------------------------------\n",
            "Market Value: $    129,298,000,  Lot Width:   450, Lot Depth:   330, Building Width:    62, Building Depth:   215, Year: 2018, BBLE: 1002470001 \n",
            "--------------------------------------------------------------------------------------------------\n",
            "Market Value: $     84,500,000,  Lot Width:   112, Lot Depth:   213, Building Width:   112, Building Depth:   213, Year: 2010, BBLE: 1000270009 \n",
            "--------------------------------------------------------------------------------------------------\n",
            "Market Value: $     82,212,000,  Lot Width:   232, Lot Depth:   330, Building Width:   184, Building Depth:   295, Year: 2011, BBLE: 1000940025 \n",
            "--------------------------------------------------------------------------------------------------\n"
          ]
        }
      ],
      "source": [
        "# relationships between lot size and valuation\n",
        "query13 = (\"\"\"\n",
        "          MATCH (b:Building)<-[:IS_IN_BUILDING]-(p:Property)-[:VALUED_AT_YEAR]->(y:Year)\n",
        "          MATCH (p)-[:MARKET_VALUE]->(mv:MarketValue)\n",
        "          RETURN y.year AS year, p.bble AS bble, p.ltfront AS ltfront, p.ltdepth AS ltdepth,\n",
        "                  b.bldfront AS bldfront, b.blddepth AS blddepth, mv.value AS market_value\n",
        "          ORDER BY market_value desc, bble, year\n",
        "          limit 10\n",
        "          \"\"\")\n",
        "result13 = session.run(query13)\n",
        "\n",
        "print(f\"Size and Valuation for each Property by Year:\\n\")\n",
        "for record in result13:\n",
        "    year = record['year']\n",
        "    bble = record['bble']\n",
        "    ltfront = record['ltfront']\n",
        "    ltdepth = record['ltdepth']\n",
        "    bldfront = record['bldfront']\n",
        "    blddepth = record['blddepth']\n",
        "    market_value = record['market_value']\n",
        "    print(f\"Market Value: ${market_value:>15,.0f},  Lot Width: {ltfront:>5}, Lot Depth: {ltdepth:>5}, \"\n",
        "    f\"Building Width: {bldfront:>5}, Building Depth: {blddepth:>5}, Year: {year}, BBLE: {bble} \")\n",
        "    print(\"------------------------------------------------------------------------------------------------------------------------------------------------\")"
      ]
    },
    {
      "cell_type": "markdown",
      "metadata": {
        "id": "ZgEgJxfDDh9T"
      },
      "source": [
        "### 6. Property Valuation by building class"
      ]
    },
    {
      "cell_type": "code",
      "execution_count": null,
      "metadata": {
        "id": "pocKtFtqDjWt",
        "outputId": "2305d33f-f345-4235-db8e-d46d46f4ee9c"
      },
      "outputs": [
        {
          "name": "stdout",
          "output_type": "stream",
          "text": [
            "Top 5 property valuations by building class for each year:\n",
            "\n",
            "Year: 2018\n",
            "1. Building Class: O6, Avg. Market Value: $44,280,000\n",
            "2. Building Class: D6, Avg. Market Value: $44,021,667\n",
            "3. Building Class: W1, Avg. Market Value: $26,857,000\n",
            "4. Building Class: D4, Avg. Market Value: $19,622,000\n",
            "5. Building Class: E7, Avg. Market Value: $9,298,000\n",
            "\n",
            "Year: 2017\n",
            "1. Building Class: O6, Avg. Market Value: $56,024,000\n",
            "2. Building Class: V9, Avg. Market Value: $29,797,000\n",
            "3. Building Class: M1, Avg. Market Value: $15,600,000\n",
            "4. Building Class: D4, Avg. Market Value: $15,565,000\n",
            "5. Building Class: L9, Avg. Market Value: $15,329,000\n",
            "\n",
            "Year: 2016\n",
            "1. Building Class: Q6, Avg. Market Value: $410,100,000\n",
            "2. Building Class: O6, Avg. Market Value: $386,111,111\n",
            "3. Building Class: D6, Avg. Market Value: $56,656,000\n",
            "4. Building Class: R9, Avg. Market Value: $32,531,000\n",
            "5. Building Class: Q1, Avg. Market Value: $30,110,000\n",
            "\n",
            "Year: 2015\n",
            "1. Building Class: O4, Avg. Market Value: $541,218,000\n",
            "2. Building Class: I1, Avg. Market Value: $81,739,500\n",
            "3. Building Class: Q1, Avg. Market Value: $68,586,500\n",
            "4. Building Class: D3, Avg. Market Value: $18,410,000\n",
            "5. Building Class: E7, Avg. Market Value: $11,951,000\n",
            "\n",
            "Year: 2014\n",
            "1. Building Class: O3, Avg. Market Value: $65,927,000\n",
            "2. Building Class: D6, Avg. Market Value: $37,001,000\n",
            "3. Building Class: H9, Avg. Market Value: $25,024,500\n",
            "4. Building Class: A7, Avg. Market Value: $23,050,000\n",
            "5. Building Class: Z8, Avg. Market Value: $17,065,000\n",
            "\n",
            "Year: 2013\n",
            "1. Building Class: O3, Avg. Market Value: $1,012,209,000\n",
            "2. Building Class: K3, Avg. Market Value: $17,572,000\n",
            "3. Building Class: D3, Avg. Market Value: $13,701,000\n",
            "4. Building Class: D4, Avg. Market Value: $11,295,000\n",
            "5. Building Class: A4, Avg. Market Value: $11,264,500\n",
            "\n",
            "Year: 2012\n",
            "1. Building Class: I1, Avg. Market Value: $70,209,000\n",
            "2. Building Class: D6, Avg. Market Value: $56,547,000\n",
            "3. Building Class: H2, Avg. Market Value: $14,975,000\n",
            "4. Building Class: RR, Avg. Market Value: $12,144,404\n",
            "5. Building Class: R5, Avg. Market Value: $9,708,098\n",
            "\n",
            "Year: 2011\n",
            "1. Building Class: O1, Avg. Market Value: $82,212,000\n",
            "2. Building Class: D6, Avg. Market Value: $24,787,000\n",
            "3. Building Class: G1, Avg. Market Value: $11,671,000\n",
            "4. Building Class: Y4, Avg. Market Value: $9,692,000\n",
            "5. Building Class: R9, Avg. Market Value: $6,847,000\n",
            "\n",
            "Year: 2010\n",
            "1. Building Class: D5, Avg. Market Value: $84,500,000\n",
            "2. Building Class: H8, Avg. Market Value: $29,500,000\n",
            "3. Building Class: W1, Avg. Market Value: $18,700,000\n",
            "4. Building Class: W7, Avg. Market Value: $13,100,000\n",
            "5. Building Class: D3, Avg. Market Value: $7,870,000\n"
          ]
        }
      ],
      "source": [
        "# property valuations by building class\n",
        "query13 = (\"\"\"\n",
        "          MATCH (p:Property)-[:VALUED_AT_YEAR]->(y:Year)\n",
        "          MATCH (p)-[:MARKET_VALUE]->(mv:MarketValue)\n",
        "          MATCH (p)-[:IS_IN_BUILDING]->(b:Building)\n",
        "          WITH b.bldgcl AS bldgcl, y.year AS year, avg(mv.value) AS avg_market_value\n",
        "          RETURN year, bldgcl, avg_market_value\n",
        "          ORDER BY year DESC, avg_market_value DESC\n",
        "          \"\"\")\n",
        "result13 = session.run(query13)\n",
        "\n",
        "print(\"Top 5 property valuations by building class for each year:\")\n",
        "prev_year = None\n",
        "count = 0\n",
        "for record in result13:\n",
        "    year = record['year']\n",
        "    if prev_year != year:\n",
        "        prev_year = year\n",
        "        count = 0\n",
        "        print(f\"\\nYear: {year}\")\n",
        "    if count >= 5:\n",
        "        continue\n",
        "    count += 1\n",
        "    bldgcl = record['bldgcl']\n",
        "    avg_market_value = record['avg_market_value']\n",
        "    print(f\"{count}. Building Class: {bldgcl}, Avg. Market Value: ${avg_market_value:,.0f}\")"
      ]
    },
    {
      "cell_type": "markdown",
      "metadata": {
        "id": "WWz2t68xersN"
      },
      "source": [
        "# **4. Plotly / Dash - Dashboards and Visualizations**\n",
        "Dash can be a powerful way to visualize the insights\n",
        "\n",
        "**Goal**: Transform the most interestign spark queries into a visually appealing and interactive charts."
      ]
    },
    {
      "cell_type": "markdown",
      "metadata": {
        "id": "FX92R65vICuI"
      },
      "source": [
        "*Important Notes:*\n",
        "* *Plotly does not support Spark dataframes. Therefore, we have converted the Spark dataframes to Pandas dataframe to create the visualizations.*\n",
        "* *As of now, each of the graphs is build on a diffeent web application. If the project is approved, the goal is to create a synchronized dashbord (as part of a website or app) so that real state investors can interact with the graphs at the same time.*"
      ]
    },
    {
      "cell_type": "code",
      "execution_count": null,
      "metadata": {
        "id": "WAa6JqxNSYDb"
      },
      "outputs": [],
      "source": [
        "#Install the library\n",
        "!pip install jupyter-dash"
      ]
    },
    {
      "cell_type": "markdown",
      "metadata": {
        "id": "QOo2m1WW1HG-"
      },
      "source": [
        "### Average Market Value per Borough Map"
      ]
    },
    {
      "cell_type": "code",
      "execution_count": null,
      "metadata": {
        "colab": {
          "base_uri": "https://localhost:8080/",
          "height": 124
        },
        "id": "OKQpVDFDSjU-",
        "outputId": "c622bf6d-f8fd-4f15-bed4-57c75f6457d3"
      },
      "outputs": [
        {
          "name": "stdout",
          "output_type": "stream",
          "text": [
            "Dash is running on http://127.0.0.1:8050/\n",
            "\n",
            "Dash app running on http://127.0.0.1:8050/\n"
          ]
        }
      ],
      "source": [
        "import plotly.express as px\n",
        "from jupyter_dash import JupyterDash\n",
        "from dash import dcc, html\n",
        "from dash.dependencies import Input, Output\n",
        "import pandas as pd\n",
        "\n",
        "# Pivot the dataframe longer\n",
        "from pyspark.sql.functions import expr\n",
        "\n",
        "df_long = avg_valuation_by_borough_year.selectExpr(\"year\",\n",
        "                        \"stack(5, 'Bronx', Bronx, 'Brooklyn', Brooklyn, 'Manhattan', Manhattan, 'Queens', Queens, 'Staten Island', `Staten Island`) as (borough, value)\") \\\n",
        "            .orderBy(\"year\")\n",
        "\n",
        "# Convert PySpark DataFrame to Pandas DataFrame\n",
        "df_grouped_pd = df_long.toPandas()\n",
        "\n",
        "# Create Dash app\n",
        "app = JupyterDash(__name__)\n",
        "\n",
        "# Define app layout\n",
        "app.layout = html.Div([\n",
        "    dcc.Graph(id='choropleth-map'),\n",
        "])\n",
        "\n",
        "# Define callback function for updating the choropleth map figure\n",
        "@app.callback(Output('choropleth-map', 'figure'),\n",
        "              Input('choropleth-map', 'id'))\n",
        "def update_choropleth_map(_):\n",
        "    # Create Plotly figure\n",
        "    fig = px.choropleth_mapbox(df_grouped_pd, geojson='https://raw.githubusercontent.com/dwillis/nyc-maps/master/boroughs.geojson',\n",
        "                                featureidkey='properties.BoroName',\n",
        "                                locations='borough', color='value',\n",
        "                                color_continuous_scale='sunsetdark',\n",
        "                                animation_frame='year',\n",
        "                                mapbox_style='carto-positron',\n",
        "                                center=dict(lat=40.7, lon=-73.9),\n",
        "                                zoom=9,\n",
        "                                opacity=0.7,\n",
        "                                labels={'borough': 'Borough', 'value': 'Mean Market Value'},\n",
        "                                hover_data={'borough': True, 'value': ':.2f'},\n",
        "                                hover_name='borough')\n",
        "\n",
        "    # Update hover labels\n",
        "    fig.update_traces(hovertemplate='Borough: %{hovertext}<br>Mean Market Value: $%{customdata[1]:,.2f}')\n",
        "\n",
        "    # Update figure layout\n",
        "    fig.update_layout(title='Mean Market Value of Properties by Borough in NYC',\n",
        "                      margin=dict(l=0, r=0, t=50, b=0),\n",
        "                      showlegend=False)\n",
        "\n",
        "    return fig\n",
        "\n",
        "if __name__ == '__main__':\n",
        "    app.run_server(mode='external')\n"
      ]
    },
    {
      "cell_type": "markdown",
      "metadata": {
        "id": "AZSSm8sy8xsT"
      },
      "source": [
        "##### **Insights / Takeaways from the map**\n",
        "1. Average property values generally increased over the years in all boroughs of New York (positive trend in the New York real estate market).\n",
        "2. Manhattan consistently had the highest average property values among all the boroughs throughout the years, followed by Brooklyn, Queens, Bronx, and Staten Island.\n",
        "3. The increase rate in average property values varied among the boroughs. Brooklyn and Queens showed relatively higher rates of increase  (fastest growth)  compared to the other boroughs"
      ]
    },
    {
      "cell_type": "markdown",
      "metadata": {
        "id": "S2Suzt5vTV0h"
      },
      "source": [
        "### Average Property Valuation by Neighborhood Tabulation Area (NTA)\n",
        "NTA legend is interactive. When clicking a Neighborhood, it isolates the line"
      ]
    },
    {
      "cell_type": "markdown",
      "metadata": {
        "id": "NX8k9An2ccrX"
      },
      "source": [
        "a) This option shows growth"
      ]
    },
    {
      "cell_type": "code",
      "execution_count": null,
      "metadata": {
        "colab": {
          "base_uri": "https://localhost:8080/",
          "height": 124
        },
        "id": "-hrYpPeBUBBf",
        "outputId": "055cde80-7f4c-4961-d09c-59a18a373b2c"
      },
      "outputs": [
        {
          "name": "stderr",
          "output_type": "stream",
          "text": [
            "C:\\Users\\lenovo\\AppData\\Local\\Temp\\ipykernel_19064\\2485708681.py:3: UserWarning: \n",
            "The dash_core_components package is deprecated. Please replace\n",
            "`import dash_core_components as dcc` with `from dash import dcc`\n",
            "  import dash_core_components as dcc\n",
            "C:\\Users\\lenovo\\AppData\\Local\\Temp\\ipykernel_19064\\2485708681.py:4: UserWarning: \n",
            "The dash_html_components package is deprecated. Please replace\n",
            "`import dash_html_components as html` with `from dash import html`\n",
            "  import dash_html_components as html\n"
          ]
        },
        {
          "name": "stdout",
          "output_type": "stream",
          "text": [
            "Dash is running on http://127.0.0.1:8051/\n",
            "\n",
            "Dash app running on http://127.0.0.1:8051/\n"
          ]
        }
      ],
      "source": [
        "import plotly.express as px\n",
        "from jupyter_dash import JupyterDash\n",
        "import dash_core_components as dcc\n",
        "import dash_html_components as html\n",
        "from dash.dependencies import Input, Output\n",
        "import pandas as pd\n",
        "\n",
        "# Convert Spark DataFrame to Pandas DataFrame\n",
        "pandas_df = growth_area.toPandas()\n",
        "\n",
        "# Initialize Dash app\n",
        "app2 = JupyterDash(__name__)\n",
        "\n",
        "# Define borough_names options for dropdown\n",
        "borough_names_options = [{'label': borough_name, 'value': borough_name} for borough_name in pandas_df['borough_name'].unique()]\n",
        "\n",
        "# Define layout of the app\n",
        "app2.layout = html.Div([\n",
        "    # Dropdown for borough_names filter\n",
        "    dcc.Dropdown(\n",
        "        id='borough-filter',\n",
        "        options=borough_names_options,\n",
        "        value=[],\n",
        "        multi=True,\n",
        "        placeholder='Select boroughs'\n",
        "    ),\n",
        "    # Chart\n",
        "    dcc.Graph(id='growth-area-chart')\n",
        "])\n",
        "\n",
        "# Define callback for updating chart based on borough_names filter\n",
        "@app2.callback(\n",
        "    Output('growth-area-chart', 'figure'),\n",
        "    [Input('borough-filter', 'value')]\n",
        ")\n",
        "def update_chart(borough_names):\n",
        "    # Filter data based on selected borough_names\n",
        "    filtered_df = pandas_df[pandas_df['borough_name'].isin(borough_names)]\n",
        "\n",
        "    # Create Plotly visualization\n",
        "    fig = px.line(filtered_df, x='year', y='growth', color='nta', title='Growth by Neighborhood Tabulation Area (NTA)',\n",
        "                  hover_data={'nta': True, 'borough_name': True, 'year': False, 'growth': ':.2f'})\n",
        "\n",
        "    # Update hover label\n",
        "    fig.update_traces(hovertemplate='<br>'.join([\n",
        "        'NTA: %{customdata[0]}',\n",
        "        'Borough: %{customdata[1]}',\n",
        "        'Growth: %{y:.2f}'\n",
        "    ]))\n",
        "\n",
        "    return fig\n",
        "\n",
        "# Run Dash app\n",
        "if __name__ == '__main__':\n",
        "    app2.run_server(mode='external', port=8051)"
      ]
    },
    {
      "cell_type": "markdown",
      "metadata": {
        "id": "y_XhXQCncAsf"
      },
      "source": [
        "b) This options shows avg_val_area"
      ]
    },
    {
      "cell_type": "code",
      "execution_count": null,
      "metadata": {
        "colab": {
          "base_uri": "https://localhost:8080/",
          "height": 121
        },
        "id": "CqBUHzcjcCd-",
        "outputId": "bf1e0bed-0ca9-497b-e8d9-7f417077eca5"
      },
      "outputs": [
        {
          "name": "stdout",
          "output_type": "stream",
          "text": [
            "Dash is running on http://127.0.0.1:8052/\n",
            "\n",
            "Dash app running on http://127.0.0.1:8052/\n"
          ]
        }
      ],
      "source": [
        "\n",
        "import plotly.express as px\n",
        "from jupyter_dash import JupyterDash\n",
        "import dash_core_components as dcc\n",
        "import dash_html_components as html\n",
        "from dash.dependencies import Input, Output\n",
        "import pandas as pd\n",
        "\n",
        "# Convert Spark DataFrame to Pandas DataFrame\n",
        "pandas_df = growth_area.toPandas()\n",
        "\n",
        "# Initialize Dash app\n",
        "app3 = JupyterDash(__name__)\n",
        "\n",
        "# Define borough_names options for dropdown\n",
        "borough_names_options = [{'label': borough_name, 'value': borough_name} for borough_name in pandas_df['borough_name'].unique()]\n",
        "\n",
        "# Define layout of the app\n",
        "app3.layout = html.Div([\n",
        "    # Dropdown for borough_names filter\n",
        "    dcc.Dropdown(\n",
        "        id='borough-filter',\n",
        "        options=borough_names_options,\n",
        "        value=[],\n",
        "        multi=True,\n",
        "        placeholder='Select boroughs'\n",
        "    ),\n",
        "    # Chart\n",
        "    dcc.Graph(id='growth-area-chart')\n",
        "])\n",
        "\n",
        "# Define callback for updating chart based on borough_names filter\n",
        "@app3.callback(\n",
        "    Output('growth-area-chart', 'figure'),\n",
        "    [Input('borough-filter', 'value')]\n",
        ")\n",
        "def update_chart(borough_names):\n",
        "    # Filter data based on selected borough_names\n",
        "    filtered_df = pandas_df[pandas_df['borough_name'].isin(borough_names)]\n",
        "\n",
        "    # Create Plotly visualization\n",
        "    fig = px.line(filtered_df, x='year', y='avg_val_area', color='nta', title='Average Market Value by Neighborhood Tabulation Area (NTA)')\n",
        "\n",
        "    return fig\n",
        "\n",
        "# Run Dash app\n",
        "if __name__ == '__main__':\n",
        "    app3.run_server(mode='external', port=8052)"
      ]
    },
    {
      "cell_type": "markdown",
      "source": [
        "Biggest takeaways:\n",
        "* Stuyvesant Town-Peter Cooper Village (Manhattan property values  have shown tremendous growth vs other neighborhoods\n",
        "* Riker Island in the Bronx also shows great growth\n"
      ],
      "metadata": {
        "id": "IjfYkksJv6p5"
      }
    },
    {
      "cell_type": "markdown",
      "metadata": {
        "id": "68Kw8a4uidVg"
      },
      "source": [
        "### Average Property Valuation by Building Category\n",
        "\n"
      ]
    },
    {
      "cell_type": "code",
      "execution_count": null,
      "metadata": {
        "colab": {
          "base_uri": "https://localhost:8080/"
        },
        "id": "hZEuzIixHHpX",
        "outputId": "b09ae399-e823-4752-a08f-e5dd681b928c"
      },
      "outputs": [
        {
          "name": "stdout",
          "output_type": "stream",
          "text": [
            "Dash is running on http://127.0.0.1:8054/\n",
            "\n",
            "Dash app running on http://127.0.0.1:8054/\n"
          ]
        }
      ],
      "source": [
        "import pandas as pd\n",
        "import plotly.express as px\n",
        "from jupyter_dash import JupyterDash\n",
        "from dash import dcc, html\n",
        "from dash.dependencies import Input, Output\n",
        "from pyspark.sql.functions import avg, round\n",
        "\n",
        "# Convert Spark DataFrame to Pandas DataFrame\n",
        "pandas_df = avg_market_value_by_building_class.toPandas()\n",
        "\n",
        "# Initialize Dash app\n",
        "app4 = JupyterDash(__name__)\n",
        "\n",
        "# Define borough options for dropdown\n",
        "borough_options = [{'label': borough, 'value': borough} for borough in pandas_df['borough'].dropna().unique()]\n",
        "\n",
        "# Define years options for dropdown\n",
        "years_options = [{'label': year, 'value': year} for year in pandas_df['year'].dropna().unique()]\n",
        "\n",
        "# Define layout of the app\n",
        "app4.layout = html.Div([\n",
        "    # Dropdown for borough filter\n",
        "    dcc.Dropdown(\n",
        "        id='borough-filter',\n",
        "        options=borough_options,\n",
        "        value=[],\n",
        "        multi=True,\n",
        "        placeholder='Select boroughs'\n",
        "    ),\n",
        "    # Dropdown for year filter\n",
        "    dcc.Dropdown(\n",
        "        id='year-filter',\n",
        "        options=years_options,\n",
        "        value=None,\n",
        "        multi=True,\n",
        "        placeholder='Select years'\n",
        "    ),\n",
        "    # Chart\n",
        "    dcc.Graph(id='bar-chart',\n",
        "    style={'height': '700px', 'width': '100%'}  # Update height so that every bulding category is visible in the y-axis\n",
        ")\n",
        "])\n",
        "\n",
        "# Define callback for updating chart based on borough and year filters\n",
        "@app4.callback(\n",
        "    Output('bar-chart', 'figure'),\n",
        "    [Input('borough-filter', 'value'),\n",
        "     Input('year-filter', 'value')]\n",
        ")\n",
        "def update_chart(boroughs, years):\n",
        "    # Filter data based on selected boroughs and years\n",
        "    filtered_df = pandas_df[pandas_df['borough'].isin(boroughs)]\n",
        "    if years:\n",
        "        filtered_df = filtered_df[filtered_df['year'].isin(years)]\n",
        "\n",
        "    # Sort data by avg_market_value_building_class in descending order\n",
        "    filtered_df = filtered_df.sort_values(by='avg_market_value_building_class', ascending=True)\n",
        "\n",
        "    # Create Plotly visualization\n",
        "    fig = px.bar(filtered_df, x='avg_market_value_building_class', y='bldgcl_category',\n",
        "                 color='avg_market_value_building_class',\n",
        "                 title='Average Property Valuation by Building Category',\n",
        "                 custom_data=['borough'])  # Add custom_data to include borough names in the hover data\n",
        "\n",
        "    # Update x and y axis labels\n",
        "    fig.update_xaxes(title_text='Average Market Value')\n",
        "    fig.update_yaxes(title_text='Building Category')\n",
        "\n",
        "    # Update hover labels\n",
        "    fig.update_traces(hovertemplate='Building Category: %{y}<br>' +\n",
        "                                    'Average Market Value: %{x}<br>' +\n",
        "                                    'Borough: %{customdata}')  # Include borough names in the hover data\n",
        "\n",
        "    return fig\n",
        "\n",
        "\n",
        "# Run the app\n",
        "if __name__ == \"__main__\":\n",
        "    app4.run_server(mode='external', port=8054)\n"
      ]
    },
    {
      "cell_type": "markdown",
      "source": [
        "Biggest takeaways:\n",
        "* Queens much more industrial (e.g. transportation facilities are the most valuable buildings)\n",
        "* Manhattan more corporate, a higher population (need for services) and tourism →  building offices, hospitals, hotels\n"
      ],
      "metadata": {
        "id": "O7WpWzbqvkQF"
      }
    },
    {
      "cell_type": "markdown",
      "metadata": {
        "id": "klkkwJH0YkWl"
      },
      "source": [
        "### Borough Tax Groups: Avg. Market Values"
      ]
    },
    {
      "cell_type": "code",
      "execution_count": null,
      "metadata": {
        "colab": {
          "base_uri": "https://localhost:8080/"
        },
        "id": "xDkjvDG405DU",
        "outputId": "c932c691-5bbe-4243-b3b6-df905d3092ea"
      },
      "outputs": [
        {
          "name": "stdout",
          "output_type": "stream",
          "text": [
            "Dash is running on http://127.0.0.1:8055/\n",
            "\n",
            "Dash app running on http://127.0.0.1:8055/\n"
          ]
        }
      ],
      "source": [
        "import plotly.express as px\n",
        "from jupyter_dash import JupyterDash\n",
        "from dash import dcc\n",
        "from dash import html\n",
        "from pyspark.sql.functions import count\n",
        "from dash.dependencies import Input, Output\n",
        "\n",
        "\n",
        "boro_taxgroups = avg_market_value_by_tax_class.toPandas()\n",
        "\n",
        "# Initialize Dash app\n",
        "app5 = JupyterDash(__name__)\n",
        "\n",
        "# Define borough_names options for dropdown\n",
        "borough_names_options = [{'label': borough_name, 'value': borough_name} for borough_name in boro_taxgroups['borough_name'].unique()]\n",
        "\n",
        "# Define layout of the app\n",
        "app5.layout = html.Div([\n",
        "    # Dropdown for borough_names filter\n",
        "    dcc.Dropdown(\n",
        "        id='borough-filter',\n",
        "        options=borough_names_options,\n",
        "        value=[],\n",
        "        multi=True,\n",
        "        placeholder='Select boroughs'\n",
        "    ),\n",
        "    # Chart\n",
        "    dcc.Graph(id='bar-chart')\n",
        "])\n",
        "\n",
        "# Define callback for updating chart based on borough_names filter\n",
        "@app5.callback(\n",
        "    Output('bar-chart', 'figure'),\n",
        "    [Input('borough-filter', 'value')]\n",
        ")\n",
        "def update_chart(borough_names):\n",
        "    # Filter data based on selected borough_names\n",
        "    filtered_df1 = boro_taxgroups[boro_taxgroups['borough_name'].isin(borough_names)]\n",
        "\n",
        "    # Create Plotly visualization\n",
        "    fig = px.bar(filtered_df1, x='TAXCLASS', y='avg_market_value_by_tax_class', color='borough_name', title='Borough Tax Groups: Avg. Market Values')\n",
        "\n",
        "    return fig\n",
        "\n",
        "# Run Dash app\n",
        "if __name__ == '__main__':\n",
        "    app5.run_server(mode='external', port=8055)"
      ]
    },
    {
      "cell_type": "markdown",
      "metadata": {
        "id": "fEicsz78SLjU"
      },
      "source": [
        "### Relationship between Lot Area and Market Value\n",
        "\n"
      ]
    },
    {
      "cell_type": "code",
      "execution_count": null,
      "metadata": {
        "colab": {
          "base_uri": "https://localhost:8080/"
        },
        "id": "v0v-Cw28SMAM",
        "outputId": "12fa65e2-4467-46a6-a61a-ddcddffef7d6"
      },
      "outputs": [
        {
          "name": "stdout",
          "output_type": "stream",
          "text": [
            "Dash is running on http://127.0.0.1:8056/\n",
            "\n",
            "Dash app running on http://127.0.0.1:8056/\n"
          ]
        }
      ],
      "source": [
        "import plotly.express as px\n",
        "import pandas as pd\n",
        "import pyspark.sql.functions as F\n",
        "from jupyter_dash import JupyterDash\n",
        "from dash import dcc\n",
        "from dash import html\n",
        "from dash.dependencies import Input, Output\n",
        "\n",
        "# Create a new column for the total lot area\n",
        "df = df.withColumn(\"lotarea\", F.col(\"ltfront\") + F.col(\"ltdepth\"))\n",
        "\n",
        "lot_market = df.groupby('borough_name','lotarea').agg({'fullval': 'mean'}).toPandas()\n",
        "\n",
        "\n",
        "\n",
        "app6 = JupyterDash(__name__)\n",
        "\n",
        "# Define borough_names options for dropdown\n",
        "borough_names_options = [{'label': borough_name, 'value': borough_name} for borough_name in lot_market ['borough_name'].unique()]\n",
        "\n",
        "# Define layout of the app\n",
        "app6.layout = html.Div([\n",
        "    # Dropdown for borough_names filter\n",
        "    dcc.Dropdown(\n",
        "        id='borough-filter',\n",
        "        options=borough_names_options,\n",
        "        value=[],\n",
        "        multi=True,\n",
        "        placeholder='Select boroughs'\n",
        "    ),\n",
        "    # Chart\n",
        "    dcc.Graph(id='scatter-chart')\n",
        "])\n",
        "\n",
        "# Define callback for updating chart based on borough_names filter\n",
        "@app6.callback(\n",
        "    Output('scatter-chart', 'figure'),\n",
        "    [Input('borough-filter', 'value')]\n",
        ")\n",
        "\n",
        "def update_chart(borough_names):\n",
        "    # Filter data based on selected borough_names\n",
        "    filtered_df2 = lot_market[lot_market['borough_name'].isin(borough_names)]\n",
        "\n",
        "    # Create Plotly visualization\n",
        "    fig = px.scatter(filtered_df2, x=\"lotarea\", y=\"avg(fullval)\",  color='borough_name')\n",
        "    fig.update_layout(title=\"Relationship between Lot Area and Market Value\",\n",
        "                   xaxis_title=\"Lot Area (sq ft)\",\n",
        "                   yaxis_title=\"Market Value ($)\",\n",
        "                   xaxis=dict(range=[0, 11000]),\n",
        "                   yaxis=dict(range=[0, 2000000000]))\n",
        "\n",
        "\n",
        "\n",
        "\n",
        "    return fig\n",
        "\n",
        "# Run Dash app\n",
        "if __name__ == '__main__':\n",
        "    app6.run_server(mode='external', port=8056)\n",
        "\n"
      ]
    },
    {
      "cell_type": "markdown",
      "source": [
        "Biggest takeaways:\n",
        "* As expected, Manhattan properties tend to be smaller, but more valuable"
      ],
      "metadata": {
        "id": "Utsf9_IgwBD-"
      }
    },
    {
      "cell_type": "markdown",
      "metadata": {
        "id": "FuK--rPjdLgy"
      },
      "source": [
        "### Market Value vs. Actual Land Value by Borough"
      ]
    },
    {
      "cell_type": "code",
      "execution_count": null,
      "metadata": {
        "colab": {
          "base_uri": "https://localhost:8080/"
        },
        "id": "U7dEiqJjmsnN",
        "outputId": "7ba0a3da-bc4a-42b5-c870-697b69f7c2ba"
      },
      "outputs": [
        {
          "data": {
            "application/vnd.plotly.v1+json": {
              "config": {
                "plotlyServerURL": "https://plot.ly"
              },
              "data": [
                {
                  "name": "Actual Land Value",
                  "type": "bar",
                  "x": [
                    "Queens",
                    "Brooklyn",
                    "Staten Island",
                    "Manhattan",
                    "Bronx"
                  ],
                  "y": [
                    56292.2530477042,
                    45204.24460616464,
                    34745.07979526514,
                    327259.0635732332,
                    43965.041523942964
                  ]
                },
                {
                  "name": "Market Land Value",
                  "type": "bar",
                  "x": [
                    "Queens",
                    "Brooklyn",
                    "Staten Island",
                    "Manhattan",
                    "Bronx"
                  ],
                  "y": [
                    734838.0130333635,
                    815245.7835147306,
                    515966.35780356725,
                    2937368.2886754526,
                    726677.2856354602
                  ]
                }
              ],
              "layout": {
                "barmode": "group",
                "font": {
                  "size": 12
                },
                "height": 800,
                "hoverlabel": {
                  "bgcolor": "white",
                  "font": {
                    "size": 12
                  }
                },
                "legend": {
                  "title": {
                    "text": "Value Type"
                  }
                },
                "template": {
                  "data": {
                    "bar": [
                      {
                        "error_x": {
                          "color": "#2a3f5f"
                        },
                        "error_y": {
                          "color": "#2a3f5f"
                        },
                        "marker": {
                          "line": {
                            "color": "#E5ECF6",
                            "width": 0.5
                          },
                          "pattern": {
                            "fillmode": "overlay",
                            "size": 10,
                            "solidity": 0.2
                          }
                        },
                        "type": "bar"
                      }
                    ],
                    "barpolar": [
                      {
                        "marker": {
                          "line": {
                            "color": "#E5ECF6",
                            "width": 0.5
                          },
                          "pattern": {
                            "fillmode": "overlay",
                            "size": 10,
                            "solidity": 0.2
                          }
                        },
                        "type": "barpolar"
                      }
                    ],
                    "carpet": [
                      {
                        "aaxis": {
                          "endlinecolor": "#2a3f5f",
                          "gridcolor": "white",
                          "linecolor": "white",
                          "minorgridcolor": "white",
                          "startlinecolor": "#2a3f5f"
                        },
                        "baxis": {
                          "endlinecolor": "#2a3f5f",
                          "gridcolor": "white",
                          "linecolor": "white",
                          "minorgridcolor": "white",
                          "startlinecolor": "#2a3f5f"
                        },
                        "type": "carpet"
                      }
                    ],
                    "choropleth": [
                      {
                        "colorbar": {
                          "outlinewidth": 0,
                          "ticks": ""
                        },
                        "type": "choropleth"
                      }
                    ],
                    "contour": [
                      {
                        "colorbar": {
                          "outlinewidth": 0,
                          "ticks": ""
                        },
                        "colorscale": [
                          [
                            0,
                            "#0d0887"
                          ],
                          [
                            0.1111111111111111,
                            "#46039f"
                          ],
                          [
                            0.2222222222222222,
                            "#7201a8"
                          ],
                          [
                            0.3333333333333333,
                            "#9c179e"
                          ],
                          [
                            0.4444444444444444,
                            "#bd3786"
                          ],
                          [
                            0.5555555555555556,
                            "#d8576b"
                          ],
                          [
                            0.6666666666666666,
                            "#ed7953"
                          ],
                          [
                            0.7777777777777778,
                            "#fb9f3a"
                          ],
                          [
                            0.8888888888888888,
                            "#fdca26"
                          ],
                          [
                            1,
                            "#f0f921"
                          ]
                        ],
                        "type": "contour"
                      }
                    ],
                    "contourcarpet": [
                      {
                        "colorbar": {
                          "outlinewidth": 0,
                          "ticks": ""
                        },
                        "type": "contourcarpet"
                      }
                    ],
                    "heatmap": [
                      {
                        "colorbar": {
                          "outlinewidth": 0,
                          "ticks": ""
                        },
                        "colorscale": [
                          [
                            0,
                            "#0d0887"
                          ],
                          [
                            0.1111111111111111,
                            "#46039f"
                          ],
                          [
                            0.2222222222222222,
                            "#7201a8"
                          ],
                          [
                            0.3333333333333333,
                            "#9c179e"
                          ],
                          [
                            0.4444444444444444,
                            "#bd3786"
                          ],
                          [
                            0.5555555555555556,
                            "#d8576b"
                          ],
                          [
                            0.6666666666666666,
                            "#ed7953"
                          ],
                          [
                            0.7777777777777778,
                            "#fb9f3a"
                          ],
                          [
                            0.8888888888888888,
                            "#fdca26"
                          ],
                          [
                            1,
                            "#f0f921"
                          ]
                        ],
                        "type": "heatmap"
                      }
                    ],
                    "heatmapgl": [
                      {
                        "colorbar": {
                          "outlinewidth": 0,
                          "ticks": ""
                        },
                        "colorscale": [
                          [
                            0,
                            "#0d0887"
                          ],
                          [
                            0.1111111111111111,
                            "#46039f"
                          ],
                          [
                            0.2222222222222222,
                            "#7201a8"
                          ],
                          [
                            0.3333333333333333,
                            "#9c179e"
                          ],
                          [
                            0.4444444444444444,
                            "#bd3786"
                          ],
                          [
                            0.5555555555555556,
                            "#d8576b"
                          ],
                          [
                            0.6666666666666666,
                            "#ed7953"
                          ],
                          [
                            0.7777777777777778,
                            "#fb9f3a"
                          ],
                          [
                            0.8888888888888888,
                            "#fdca26"
                          ],
                          [
                            1,
                            "#f0f921"
                          ]
                        ],
                        "type": "heatmapgl"
                      }
                    ],
                    "histogram": [
                      {
                        "marker": {
                          "pattern": {
                            "fillmode": "overlay",
                            "size": 10,
                            "solidity": 0.2
                          }
                        },
                        "type": "histogram"
                      }
                    ],
                    "histogram2d": [
                      {
                        "colorbar": {
                          "outlinewidth": 0,
                          "ticks": ""
                        },
                        "colorscale": [
                          [
                            0,
                            "#0d0887"
                          ],
                          [
                            0.1111111111111111,
                            "#46039f"
                          ],
                          [
                            0.2222222222222222,
                            "#7201a8"
                          ],
                          [
                            0.3333333333333333,
                            "#9c179e"
                          ],
                          [
                            0.4444444444444444,
                            "#bd3786"
                          ],
                          [
                            0.5555555555555556,
                            "#d8576b"
                          ],
                          [
                            0.6666666666666666,
                            "#ed7953"
                          ],
                          [
                            0.7777777777777778,
                            "#fb9f3a"
                          ],
                          [
                            0.8888888888888888,
                            "#fdca26"
                          ],
                          [
                            1,
                            "#f0f921"
                          ]
                        ],
                        "type": "histogram2d"
                      }
                    ],
                    "histogram2dcontour": [
                      {
                        "colorbar": {
                          "outlinewidth": 0,
                          "ticks": ""
                        },
                        "colorscale": [
                          [
                            0,
                            "#0d0887"
                          ],
                          [
                            0.1111111111111111,
                            "#46039f"
                          ],
                          [
                            0.2222222222222222,
                            "#7201a8"
                          ],
                          [
                            0.3333333333333333,
                            "#9c179e"
                          ],
                          [
                            0.4444444444444444,
                            "#bd3786"
                          ],
                          [
                            0.5555555555555556,
                            "#d8576b"
                          ],
                          [
                            0.6666666666666666,
                            "#ed7953"
                          ],
                          [
                            0.7777777777777778,
                            "#fb9f3a"
                          ],
                          [
                            0.8888888888888888,
                            "#fdca26"
                          ],
                          [
                            1,
                            "#f0f921"
                          ]
                        ],
                        "type": "histogram2dcontour"
                      }
                    ],
                    "mesh3d": [
                      {
                        "colorbar": {
                          "outlinewidth": 0,
                          "ticks": ""
                        },
                        "type": "mesh3d"
                      }
                    ],
                    "parcoords": [
                      {
                        "line": {
                          "colorbar": {
                            "outlinewidth": 0,
                            "ticks": ""
                          }
                        },
                        "type": "parcoords"
                      }
                    ],
                    "pie": [
                      {
                        "automargin": true,
                        "type": "pie"
                      }
                    ],
                    "scatter": [
                      {
                        "fillpattern": {
                          "fillmode": "overlay",
                          "size": 10,
                          "solidity": 0.2
                        },
                        "type": "scatter"
                      }
                    ],
                    "scatter3d": [
                      {
                        "line": {
                          "colorbar": {
                            "outlinewidth": 0,
                            "ticks": ""
                          }
                        },
                        "marker": {
                          "colorbar": {
                            "outlinewidth": 0,
                            "ticks": ""
                          }
                        },
                        "type": "scatter3d"
                      }
                    ],
                    "scattercarpet": [
                      {
                        "marker": {
                          "colorbar": {
                            "outlinewidth": 0,
                            "ticks": ""
                          }
                        },
                        "type": "scattercarpet"
                      }
                    ],
                    "scattergeo": [
                      {
                        "marker": {
                          "colorbar": {
                            "outlinewidth": 0,
                            "ticks": ""
                          }
                        },
                        "type": "scattergeo"
                      }
                    ],
                    "scattergl": [
                      {
                        "marker": {
                          "colorbar": {
                            "outlinewidth": 0,
                            "ticks": ""
                          }
                        },
                        "type": "scattergl"
                      }
                    ],
                    "scattermapbox": [
                      {
                        "marker": {
                          "colorbar": {
                            "outlinewidth": 0,
                            "ticks": ""
                          }
                        },
                        "type": "scattermapbox"
                      }
                    ],
                    "scatterpolar": [
                      {
                        "marker": {
                          "colorbar": {
                            "outlinewidth": 0,
                            "ticks": ""
                          }
                        },
                        "type": "scatterpolar"
                      }
                    ],
                    "scatterpolargl": [
                      {
                        "marker": {
                          "colorbar": {
                            "outlinewidth": 0,
                            "ticks": ""
                          }
                        },
                        "type": "scatterpolargl"
                      }
                    ],
                    "scatterternary": [
                      {
                        "marker": {
                          "colorbar": {
                            "outlinewidth": 0,
                            "ticks": ""
                          }
                        },
                        "type": "scatterternary"
                      }
                    ],
                    "surface": [
                      {
                        "colorbar": {
                          "outlinewidth": 0,
                          "ticks": ""
                        },
                        "colorscale": [
                          [
                            0,
                            "#0d0887"
                          ],
                          [
                            0.1111111111111111,
                            "#46039f"
                          ],
                          [
                            0.2222222222222222,
                            "#7201a8"
                          ],
                          [
                            0.3333333333333333,
                            "#9c179e"
                          ],
                          [
                            0.4444444444444444,
                            "#bd3786"
                          ],
                          [
                            0.5555555555555556,
                            "#d8576b"
                          ],
                          [
                            0.6666666666666666,
                            "#ed7953"
                          ],
                          [
                            0.7777777777777778,
                            "#fb9f3a"
                          ],
                          [
                            0.8888888888888888,
                            "#fdca26"
                          ],
                          [
                            1,
                            "#f0f921"
                          ]
                        ],
                        "type": "surface"
                      }
                    ],
                    "table": [
                      {
                        "cells": {
                          "fill": {
                            "color": "#EBF0F8"
                          },
                          "line": {
                            "color": "white"
                          }
                        },
                        "header": {
                          "fill": {
                            "color": "#C8D4E3"
                          },
                          "line": {
                            "color": "white"
                          }
                        },
                        "type": "table"
                      }
                    ]
                  },
                  "layout": {
                    "annotationdefaults": {
                      "arrowcolor": "#2a3f5f",
                      "arrowhead": 0,
                      "arrowwidth": 1
                    },
                    "autotypenumbers": "strict",
                    "coloraxis": {
                      "colorbar": {
                        "outlinewidth": 0,
                        "ticks": ""
                      }
                    },
                    "colorscale": {
                      "diverging": [
                        [
                          0,
                          "#8e0152"
                        ],
                        [
                          0.1,
                          "#c51b7d"
                        ],
                        [
                          0.2,
                          "#de77ae"
                        ],
                        [
                          0.3,
                          "#f1b6da"
                        ],
                        [
                          0.4,
                          "#fde0ef"
                        ],
                        [
                          0.5,
                          "#f7f7f7"
                        ],
                        [
                          0.6,
                          "#e6f5d0"
                        ],
                        [
                          0.7,
                          "#b8e186"
                        ],
                        [
                          0.8,
                          "#7fbc41"
                        ],
                        [
                          0.9,
                          "#4d9221"
                        ],
                        [
                          1,
                          "#276419"
                        ]
                      ],
                      "sequential": [
                        [
                          0,
                          "#0d0887"
                        ],
                        [
                          0.1111111111111111,
                          "#46039f"
                        ],
                        [
                          0.2222222222222222,
                          "#7201a8"
                        ],
                        [
                          0.3333333333333333,
                          "#9c179e"
                        ],
                        [
                          0.4444444444444444,
                          "#bd3786"
                        ],
                        [
                          0.5555555555555556,
                          "#d8576b"
                        ],
                        [
                          0.6666666666666666,
                          "#ed7953"
                        ],
                        [
                          0.7777777777777778,
                          "#fb9f3a"
                        ],
                        [
                          0.8888888888888888,
                          "#fdca26"
                        ],
                        [
                          1,
                          "#f0f921"
                        ]
                      ],
                      "sequentialminus": [
                        [
                          0,
                          "#0d0887"
                        ],
                        [
                          0.1111111111111111,
                          "#46039f"
                        ],
                        [
                          0.2222222222222222,
                          "#7201a8"
                        ],
                        [
                          0.3333333333333333,
                          "#9c179e"
                        ],
                        [
                          0.4444444444444444,
                          "#bd3786"
                        ],
                        [
                          0.5555555555555556,
                          "#d8576b"
                        ],
                        [
                          0.6666666666666666,
                          "#ed7953"
                        ],
                        [
                          0.7777777777777778,
                          "#fb9f3a"
                        ],
                        [
                          0.8888888888888888,
                          "#fdca26"
                        ],
                        [
                          1,
                          "#f0f921"
                        ]
                      ]
                    },
                    "colorway": [
                      "#636efa",
                      "#EF553B",
                      "#00cc96",
                      "#ab63fa",
                      "#FFA15A",
                      "#19d3f3",
                      "#FF6692",
                      "#B6E880",
                      "#FF97FF",
                      "#FECB52"
                    ],
                    "font": {
                      "color": "#2a3f5f"
                    },
                    "geo": {
                      "bgcolor": "white",
                      "lakecolor": "white",
                      "landcolor": "#E5ECF6",
                      "showlakes": true,
                      "showland": true,
                      "subunitcolor": "white"
                    },
                    "hoverlabel": {
                      "align": "left"
                    },
                    "hovermode": "closest",
                    "mapbox": {
                      "style": "light"
                    },
                    "paper_bgcolor": "white",
                    "plot_bgcolor": "#E5ECF6",
                    "polar": {
                      "angularaxis": {
                        "gridcolor": "white",
                        "linecolor": "white",
                        "ticks": ""
                      },
                      "bgcolor": "#E5ECF6",
                      "radialaxis": {
                        "gridcolor": "white",
                        "linecolor": "white",
                        "ticks": ""
                      }
                    },
                    "scene": {
                      "xaxis": {
                        "backgroundcolor": "#E5ECF6",
                        "gridcolor": "white",
                        "gridwidth": 2,
                        "linecolor": "white",
                        "showbackground": true,
                        "ticks": "",
                        "zerolinecolor": "white"
                      },
                      "yaxis": {
                        "backgroundcolor": "#E5ECF6",
                        "gridcolor": "white",
                        "gridwidth": 2,
                        "linecolor": "white",
                        "showbackground": true,
                        "ticks": "",
                        "zerolinecolor": "white"
                      },
                      "zaxis": {
                        "backgroundcolor": "#E5ECF6",
                        "gridcolor": "white",
                        "gridwidth": 2,
                        "linecolor": "white",
                        "showbackground": true,
                        "ticks": "",
                        "zerolinecolor": "white"
                      }
                    },
                    "shapedefaults": {
                      "line": {
                        "color": "#2a3f5f"
                      }
                    },
                    "ternary": {
                      "aaxis": {
                        "gridcolor": "white",
                        "linecolor": "white",
                        "ticks": ""
                      },
                      "baxis": {
                        "gridcolor": "white",
                        "linecolor": "white",
                        "ticks": ""
                      },
                      "bgcolor": "#E5ECF6",
                      "caxis": {
                        "gridcolor": "white",
                        "linecolor": "white",
                        "ticks": ""
                      }
                    },
                    "title": {
                      "x": 0.05
                    },
                    "xaxis": {
                      "automargin": true,
                      "gridcolor": "white",
                      "linecolor": "white",
                      "ticks": "",
                      "title": {
                        "standoff": 15
                      },
                      "zerolinecolor": "white",
                      "zerolinewidth": 2
                    },
                    "yaxis": {
                      "automargin": true,
                      "gridcolor": "white",
                      "linecolor": "white",
                      "ticks": "",
                      "title": {
                        "standoff": 15
                      },
                      "zerolinecolor": "white",
                      "zerolinewidth": 2
                    }
                  }
                },
                "title": {
                  "text": "Market Value vs. Actual Land Value by Borough"
                },
                "width": 1000,
                "xaxis": {
                  "title": {
                    "text": "Borough"
                  }
                },
                "yaxis": {
                  "title": {
                    "text": "Land Value"
                  }
                }
              }
            }
          },
          "metadata": {},
          "output_type": "display_data"
        }
      ],
      "source": [
        "import plotly.graph_objs as go\n",
        "\n",
        "# group by boro and calculate the mean of avland and fullval\n",
        "actual_market = df.groupby('borough_name').agg({'avland': 'mean', 'fullval': 'mean'}).toPandas()\n",
        "\n",
        "\n",
        "# Create the bar graph using Plotly\n",
        "fig = go.Figure()\n",
        "fig.add_trace(go.Bar(\n",
        "    x=actual_market['borough_name'],\n",
        "    y=actual_market['avg(avland)'],\n",
        "    name='Actual Land Value'\n",
        "))\n",
        "fig.add_trace(go.Bar(\n",
        "    x=actual_market['borough_name'],\n",
        "    y=actual_market['avg(fullval)'],\n",
        "    name='Market Land Value'\n",
        "))\n",
        "\n",
        "# Customize the plot\n",
        "fig.update_layout(\n",
        "    title_x=0.5,\n",
        "    barmode='group',\n",
        "    xaxis_title='Borough',\n",
        "    yaxis_title='Land Value',\n",
        "    legend_title='Value Type',\n",
        "    font=dict(size=12),\n",
        "    hoverlabel=dict(bgcolor=\"white\", font_size=12),\n",
        "    title_font=dict(size=16),\n",
        "    title='Market Value vs. Actual Land Value by Borough',\n",
        "    width=1000,\n",
        "    height=800\n",
        ")\n",
        "\n",
        "\n",
        "# Show the plot\n",
        "fig.show()\n"
      ]
    }
  ],
  "metadata": {
    "colab": {
      "collapsed_sections": [
        "afLHSdSOyU0F",
        "Y8-UKJBPe5Ij",
        "zNpmSdXTe9zQ",
        "HXyOkV36eaZs",
        "3OTkClQs-Lnv",
        "WumNntAO2itb",
        "0KQ-uOgF20xg",
        "Vk-Pc6mfeobf",
        "4EhNgOwXvCyu",
        "sO2FZ053vCyw",
        "WWz2t68xersN",
        "QOo2m1WW1HG-",
        "S2Suzt5vTV0h",
        "68Kw8a4uidVg",
        "klkkwJH0YkWl",
        "fEicsz78SLjU",
        "FuK--rPjdLgy"
      ],
      "provenance": []
    },
    "kernelspec": {
      "display_name": "victoria",
      "language": "python",
      "name": "victoria"
    },
    "language_info": {
      "codemirror_mode": {
        "name": "ipython",
        "version": 3
      },
      "file_extension": ".py",
      "mimetype": "text/x-python",
      "name": "python",
      "nbconvert_exporter": "python",
      "pygments_lexer": "ipython3",
      "version": "3.10.9"
    }
  },
  "nbformat": 4,
  "nbformat_minor": 0
}